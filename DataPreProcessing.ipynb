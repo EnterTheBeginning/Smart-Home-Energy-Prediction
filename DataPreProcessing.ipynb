{
  "nbformat": 4,
  "nbformat_minor": 0,
  "metadata": {
    "colab": {
      "name": "DataPreProcessing.ipynb",
      "version": "0.3.2",
      "provenance": [],
      "collapsed_sections": [],
      "include_colab_link": true
    },
    "kernelspec": {
      "name": "python3",
      "display_name": "Python 3"
    }
  },
  "cells": [
    {
      "cell_type": "markdown",
      "metadata": {
        "id": "view-in-github",
        "colab_type": "text"
      },
      "source": [
        "<a href=\"https://colab.research.google.com/github/EnterTheBeginning/SmartHomeEnergyForecasting/blob/master/DataPreProcessing.ipynb\" target=\"_parent\"><img src=\"https://colab.research.google.com/assets/colab-badge.svg\" alt=\"Open In Colab\"/></a>"
      ]
    },
    {
      "metadata": {
        "id": "Ho4gIH5wlP74",
        "colab_type": "code",
        "colab": {}
      },
      "cell_type": "code",
      "source": [
        "import pandas as pd\n",
        "import numpy as np\n",
        "import matplotlib.pyplot as plt\n",
        "%matplotlib inline"
      ],
      "execution_count": 0,
      "outputs": []
    },
    {
      "metadata": {
        "id": "lJdvuvSbliWb",
        "colab_type": "code",
        "outputId": "74c6dc33-fbef-408f-afcf-1057f2e58144",
        "colab": {
          "base_uri": "https://localhost:8080/",
          "height": 122
        }
      },
      "cell_type": "code",
      "source": [
        "from google.colab import drive\n",
        "drive.mount('/content/gdrive')"
      ],
      "execution_count": 0,
      "outputs": [
        {
          "output_type": "stream",
          "text": [
            "Go to this URL in a browser: https://accounts.google.com/o/oauth2/auth?client_id=947318989803-6bn6qk8qdgf4n4g3pfee6491hc0brc4i.apps.googleusercontent.com&redirect_uri=urn%3Aietf%3Awg%3Aoauth%3A2.0%3Aoob&scope=email%20https%3A%2F%2Fwww.googleapis.com%2Fauth%2Fdocs.test%20https%3A%2F%2Fwww.googleapis.com%2Fauth%2Fdrive%20https%3A%2F%2Fwww.googleapis.com%2Fauth%2Fdrive.photos.readonly%20https%3A%2F%2Fwww.googleapis.com%2Fauth%2Fpeopleapi.readonly&response_type=code\n",
            "\n",
            "Enter your authorization code:\n",
            "··········\n",
            "Mounted at /content/gdrive\n"
          ],
          "name": "stdout"
        }
      ]
    },
    {
      "metadata": {
        "id": "EuvGSuRamgD7",
        "colab_type": "code",
        "colab": {}
      },
      "cell_type": "code",
      "source": [
        "Dataset = pd.read_csv('/content/gdrive/My Drive/Colab Notebooks/DataAnalytics/HW1/Data/HomeA-meter2_2016.csv')"
      ],
      "execution_count": 0,
      "outputs": []
    },
    {
      "metadata": {
        "id": "AMe_u9ilnIlq",
        "colab_type": "code",
        "outputId": "de2e2dc7-b450-481c-e7b9-66424ebb5296",
        "colab": {
          "base_uri": "https://localhost:8080/",
          "height": 34
        }
      },
      "cell_type": "code",
      "source": [
        "Dataset.shape"
      ],
      "execution_count": 0,
      "outputs": [
        {
          "output_type": "execute_result",
          "data": {
            "text/plain": [
              "(246639, 14)"
            ]
          },
          "metadata": {
            "tags": []
          },
          "execution_count": 33
        }
      ]
    },
    {
      "metadata": {
        "id": "yZTXEEcHnfqi",
        "colab_type": "code",
        "colab": {}
      },
      "cell_type": "code",
      "source": [
        "df = Dataset.drop(columns =['use [kW]','gen [kW]'])\n"
      ],
      "execution_count": 0,
      "outputs": []
    },
    {
      "metadata": {
        "id": "XAqEqvnMogbC",
        "colab_type": "code",
        "outputId": "df9c2dda-5c48-495a-99ae-1291eb202f3c",
        "colab": {
          "base_uri": "https://localhost:8080/",
          "height": 306
        }
      },
      "cell_type": "code",
      "source": [
        "df.head()"
      ],
      "execution_count": 0,
      "outputs": [
        {
          "output_type": "execute_result",
          "data": {
            "text/html": [
              "<div>\n",
              "<style scoped>\n",
              "    .dataframe tbody tr th:only-of-type {\n",
              "        vertical-align: middle;\n",
              "    }\n",
              "\n",
              "    .dataframe tbody tr th {\n",
              "        vertical-align: top;\n",
              "    }\n",
              "\n",
              "    .dataframe thead th {\n",
              "        text-align: right;\n",
              "    }\n",
              "</style>\n",
              "<table border=\"1\" class=\"dataframe\">\n",
              "  <thead>\n",
              "    <tr style=\"text-align: right;\">\n",
              "      <th></th>\n",
              "      <th>Date &amp; Time</th>\n",
              "      <th>FurnaceHRV [kW]</th>\n",
              "      <th>CellarOutlets [kW]</th>\n",
              "      <th>WashingMachine [kW]</th>\n",
              "      <th>FridgeRange [kW]</th>\n",
              "      <th>DisposalDishwasher [kW]</th>\n",
              "      <th>KitchenLights [kW]</th>\n",
              "      <th>BedroomOutlets [kW]</th>\n",
              "      <th>BedroomLights [kW]</th>\n",
              "      <th>MasterOutlets [kW]</th>\n",
              "      <th>MasterLights [kW]</th>\n",
              "      <th>DuctHeaterHRV [kW]</th>\n",
              "    </tr>\n",
              "  </thead>\n",
              "  <tbody>\n",
              "    <tr>\n",
              "      <th>0</th>\n",
              "      <td>2016-01-01 00:00:00</td>\n",
              "      <td>0.084142</td>\n",
              "      <td>0.113495</td>\n",
              "      <td>0.000123</td>\n",
              "      <td>0.001031</td>\n",
              "      <td>0.000067</td>\n",
              "      <td>0.000017</td>\n",
              "      <td>0.014268</td>\n",
              "      <td>0.004680</td>\n",
              "      <td>0.015757</td>\n",
              "      <td>0.014118</td>\n",
              "      <td>0.000029</td>\n",
              "    </tr>\n",
              "    <tr>\n",
              "      <th>1</th>\n",
              "      <td>2016-01-01 00:30:00</td>\n",
              "      <td>0.009887</td>\n",
              "      <td>0.028861</td>\n",
              "      <td>0.000007</td>\n",
              "      <td>0.001053</td>\n",
              "      <td>0.000021</td>\n",
              "      <td>0.000009</td>\n",
              "      <td>0.014318</td>\n",
              "      <td>0.004695</td>\n",
              "      <td>0.015827</td>\n",
              "      <td>0.014174</td>\n",
              "      <td>0.000017</td>\n",
              "    </tr>\n",
              "    <tr>\n",
              "      <th>2</th>\n",
              "      <td>2016-01-01 01:00:00</td>\n",
              "      <td>0.044926</td>\n",
              "      <td>0.086999</td>\n",
              "      <td>0.000083</td>\n",
              "      <td>0.001052</td>\n",
              "      <td>0.000026</td>\n",
              "      <td>0.000009</td>\n",
              "      <td>0.014312</td>\n",
              "      <td>0.004689</td>\n",
              "      <td>0.015832</td>\n",
              "      <td>0.014162</td>\n",
              "      <td>0.000018</td>\n",
              "    </tr>\n",
              "    <tr>\n",
              "      <th>3</th>\n",
              "      <td>2016-01-01 01:30:00</td>\n",
              "      <td>0.037721</td>\n",
              "      <td>0.049664</td>\n",
              "      <td>0.000064</td>\n",
              "      <td>0.001056</td>\n",
              "      <td>0.000028</td>\n",
              "      <td>0.000009</td>\n",
              "      <td>0.014382</td>\n",
              "      <td>0.004702</td>\n",
              "      <td>0.015922</td>\n",
              "      <td>0.014249</td>\n",
              "      <td>0.000021</td>\n",
              "    </tr>\n",
              "    <tr>\n",
              "      <th>4</th>\n",
              "      <td>2016-01-01 02:00:00</td>\n",
              "      <td>0.010029</td>\n",
              "      <td>0.065564</td>\n",
              "      <td>0.000011</td>\n",
              "      <td>0.001069</td>\n",
              "      <td>0.000009</td>\n",
              "      <td>0.000005</td>\n",
              "      <td>0.014443</td>\n",
              "      <td>0.004714</td>\n",
              "      <td>0.015996</td>\n",
              "      <td>0.014314</td>\n",
              "      <td>0.000014</td>\n",
              "    </tr>\n",
              "  </tbody>\n",
              "</table>\n",
              "</div>"
            ],
            "text/plain": [
              "           Date & Time  FurnaceHRV [kW]  CellarOutlets [kW]  \\\n",
              "0  2016-01-01 00:00:00         0.084142            0.113495   \n",
              "1  2016-01-01 00:30:00         0.009887            0.028861   \n",
              "2  2016-01-01 01:00:00         0.044926            0.086999   \n",
              "3  2016-01-01 01:30:00         0.037721            0.049664   \n",
              "4  2016-01-01 02:00:00         0.010029            0.065564   \n",
              "\n",
              "   WashingMachine [kW]  FridgeRange [kW]  DisposalDishwasher [kW]  \\\n",
              "0             0.000123          0.001031                 0.000067   \n",
              "1             0.000007          0.001053                 0.000021   \n",
              "2             0.000083          0.001052                 0.000026   \n",
              "3             0.000064          0.001056                 0.000028   \n",
              "4             0.000011          0.001069                 0.000009   \n",
              "\n",
              "   KitchenLights [kW]  BedroomOutlets [kW]  BedroomLights [kW]  \\\n",
              "0            0.000017             0.014268            0.004680   \n",
              "1            0.000009             0.014318            0.004695   \n",
              "2            0.000009             0.014312            0.004689   \n",
              "3            0.000009             0.014382            0.004702   \n",
              "4            0.000005             0.014443            0.004714   \n",
              "\n",
              "   MasterOutlets [kW]  MasterLights [kW]  DuctHeaterHRV [kW]  \n",
              "0            0.015757           0.014118            0.000029  \n",
              "1            0.015827           0.014174            0.000017  \n",
              "2            0.015832           0.014162            0.000018  \n",
              "3            0.015922           0.014249            0.000021  \n",
              "4            0.015996           0.014314            0.000014  "
            ]
          },
          "metadata": {
            "tags": []
          },
          "execution_count": 49
        }
      ]
    },
    {
      "metadata": {
        "id": "x1enMB81p5I6",
        "colab_type": "code",
        "outputId": "4383824f-69b7-40c4-ccc1-8710169635e6",
        "colab": {
          "base_uri": "https://localhost:8080/",
          "height": 500
        }
      },
      "cell_type": "code",
      "source": [
        "df.boxplot(figsize=(20,8))"
      ],
      "execution_count": 0,
      "outputs": [
        {
          "output_type": "execute_result",
          "data": {
            "text/plain": [
              "<matplotlib.axes._subplots.AxesSubplot at 0x7f6ae365e518>"
            ]
          },
          "metadata": {
            "tags": []
          },
          "execution_count": 55
        },
        {
          "output_type": "display_data",
          "data": {
            "image/png": "[encoded data removed]",
            "text/plain": [
              "<Figure size 1440x576 with 1 Axes>"
            ]
          },
          "metadata": {
            "tags": []
          }
        }
      ]
    },
    {
      "metadata": {
        "id": "KOLOC4k6qSBD",
        "colab_type": "code",
        "outputId": "f576c4dd-52c2-4690-fae7-9e46d03c8495",
        "colab": {
          "base_uri": "https://localhost:8080/",
          "height": 282
        }
      },
      "cell_type": "code",
      "source": [
        "df.boxplot('FurnaceHRV [kW]')"
      ],
      "execution_count": 0,
      "outputs": [
        {
          "output_type": "execute_result",
          "data": {
            "text/plain": [
              "<matplotlib.axes._subplots.AxesSubplot at 0x7f6ae3c39080>"
            ]
          },
          "metadata": {
            "tags": []
          },
          "execution_count": 57
        },
        {
          "output_type": "display_data",
          "data": {
            "image/png": "[encoded data removed]",
            "text/plain": [
              "<Figure size 432x288 with 1 Axes>"
            ]
          },
          "metadata": {
            "tags": []
          }
        }
      ]
    },
    {
      "metadata": {
        "id": "dKifxJjMqafb",
        "colab_type": "code",
        "outputId": "814e30ee-2393-44f1-8852-d3b40e6e1fbc",
        "colab": {
          "base_uri": "https://localhost:8080/",
          "height": 282
        }
      },
      "cell_type": "code",
      "source": [
        "df.boxplot('WashingMachine [kW]')"
      ],
      "execution_count": 0,
      "outputs": [
        {
          "output_type": "execute_result",
          "data": {
            "text/plain": [
              "<matplotlib.axes._subplots.AxesSubplot at 0x7f6ae3c556d8>"
            ]
          },
          "metadata": {
            "tags": []
          },
          "execution_count": 58
        },
        {
          "output_type": "display_data",
          "data": {
            "image/png": "[encoded data removed]",
            "text/plain": [
              "<Figure size 432x288 with 1 Axes>"
            ]
          },
          "metadata": {
            "tags": []
          }
        }
      ]
    }
  ]
}