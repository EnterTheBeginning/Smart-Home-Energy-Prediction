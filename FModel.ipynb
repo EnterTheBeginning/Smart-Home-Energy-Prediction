{
  "nbformat": 4,
  "nbformat_minor": 0,
  "metadata": {
    "colab": {
      "name": "FModel.ipynb",
      "version": "0.3.2",
      "provenance": [],
      "collapsed_sections": [
        "-uwz3NSZPCiJ"
      ],
      "include_colab_link": true
    },
    "kernelspec": {
      "name": "python3",
      "display_name": "Python 3"
    }
  },
  "cells": [
    {
      "cell_type": "markdown",
      "metadata": {
        "id": "view-in-github",
        "colab_type": "text"
      },
      "source": [
        "<a href=\"https://colab.research.google.com/github/EnterTheBeginning/SmartHomeEnergyForecasting/blob/master/FModel.ipynb\" target=\"_parent\"><img src=\"https://colab.research.google.com/assets/colab-badge.svg\" alt=\"Open In Colab\"/></a>"
      ]
    },
    {
      "metadata": {
        "id": "3oe9XmJX34lv",
        "colab_type": "text"
      },
      "cell_type": "markdown",
      "source": [
        "##Modeling the Data"
      ]
    },
    {
      "metadata": {
        "id": "wqno204R32oY",
        "colab_type": "code",
        "colab": {}
      },
      "cell_type": "code",
      "source": [
        "import numpy as np\n",
        "import pandas as pd\n",
        "import matplotlib.pyplot as plt\n",
        "%matplotlib inline\n",
        "\n",
        "from sklearn.preprocessing import StandardScaler # for normalization\n",
        "from sklearn.preprocessing import MinMaxScaler\n",
        "from sklearn.pipeline import Pipeline # pipeline making\n",
        "from sklearn.model_selection import cross_val_score\n",
        "from sklearn.feature_selection import SelectFromModel\n",
        "from sklearn import metrics # for the check the error and accuracy of the model\n",
        "\n",
        "from keras.models import Sequential\n",
        "from keras.layers import Dense, Activation,Flatten\n",
        "from keras.layers import  Conv1D, MaxPool1D, Dense, Activation, GlobalMaxPool1D\n",
        "from keras.utils import np_utils\n",
        "from keras.layers.recurrent import LSTM\n",
        "from keras.layers.core import Dense, Activation, Dropout\n",
        "\n",
        "\n"
      ],
      "execution_count": 0,
      "outputs": []
    },
    {
      "metadata": {
        "id": "Cn9m4gRz4rES",
        "colab_type": "code",
        "outputId": "202bed87-5264-4e59-b585-d18057a20719",
        "colab": {
          "base_uri": "https://localhost:8080/",
          "height": 34
        }
      },
      "cell_type": "code",
      "source": [
        "from google.colab import drive\n",
        "drive.mount('/content/gdrive')\n"
      ],
      "execution_count": 46,
      "outputs": [
        {
          "output_type": "stream",
          "text": [
            "Drive already mounted at /content/gdrive; to attempt to forcibly remount, call drive.mount(\"/content/gdrive\", force_remount=True).\n"
          ],
          "name": "stdout"
        }
      ]
    },
    {
      "metadata": {
        "id": "Z3b0c4D75P33",
        "colab_type": "code",
        "colab": {}
      },
      "cell_type": "code",
      "source": [
        "df = pd.read_csv('/content/gdrive/My Drive/Colab Notebooks/DataAnalytics/~Code/Data/FmeterClean.csv',index_col='Date & Time',parse_dates=['Date & Time'])\n"
      ],
      "execution_count": 0,
      "outputs": []
    },
    {
      "metadata": {
        "id": "fLVPTpsi5nU4",
        "colab_type": "code",
        "outputId": "33ba6e90-0e6e-4f5e-ffd2-93c661874910",
        "colab": {
          "base_uri": "https://localhost:8080/",
          "height": 505
        }
      },
      "cell_type": "code",
      "source": [
        "df.head()"
      ],
      "execution_count": 48,
      "outputs": [
        {
          "output_type": "execute_result",
          "data": {
            "text/html": [
              "<div>\n",
              "<style scoped>\n",
              "    .dataframe tbody tr th:only-of-type {\n",
              "        vertical-align: middle;\n",
              "    }\n",
              "\n",
              "    .dataframe tbody tr th {\n",
              "        vertical-align: top;\n",
              "    }\n",
              "\n",
              "    .dataframe thead th {\n",
              "        text-align: right;\n",
              "    }\n",
              "</style>\n",
              "<table border=\"1\" class=\"dataframe\">\n",
              "  <thead>\n",
              "    <tr style=\"text-align: right;\">\n",
              "      <th></th>\n",
              "      <th>Usage [kW]</th>\n",
              "      <th>Generation [kW]</th>\n",
              "      <th>WaterHeater [kW]</th>\n",
              "      <th>Solar [kW]</th>\n",
              "      <th>Refrigerator [kW]</th>\n",
              "      <th>Microwave [kW]</th>\n",
              "      <th>Furnace [kW]</th>\n",
              "      <th>WaterHeater3 [kW]</th>\n",
              "      <th>WaterHeater2 [kW]</th>\n",
              "      <th>WaterHeater1 [kW]</th>\n",
              "      <th>...</th>\n",
              "      <th>Dishwasher_Disposal [kW]</th>\n",
              "      <th>Kit_SinkWall [kW]</th>\n",
              "      <th>Family_Rm [kW]</th>\n",
              "      <th>Kit_Half-Bath_Foyer [kW]</th>\n",
              "      <th>Washing_Machine [kW]</th>\n",
              "      <th>Guest_Bdrm_SmkDet [kW]</th>\n",
              "      <th>Dryer [kW]</th>\n",
              "      <th>Basement [kW]</th>\n",
              "      <th>Phase_B [kW]</th>\n",
              "      <th>Phase_A [kW]</th>\n",
              "    </tr>\n",
              "    <tr>\n",
              "      <th>Date &amp; Time</th>\n",
              "      <th></th>\n",
              "      <th></th>\n",
              "      <th></th>\n",
              "      <th></th>\n",
              "      <th></th>\n",
              "      <th></th>\n",
              "      <th></th>\n",
              "      <th></th>\n",
              "      <th></th>\n",
              "      <th></th>\n",
              "      <th></th>\n",
              "      <th></th>\n",
              "      <th></th>\n",
              "      <th></th>\n",
              "      <th></th>\n",
              "      <th></th>\n",
              "      <th></th>\n",
              "      <th></th>\n",
              "      <th></th>\n",
              "      <th></th>\n",
              "      <th></th>\n",
              "    </tr>\n",
              "  </thead>\n",
              "  <tbody>\n",
              "    <tr>\n",
              "      <th>2016-01-01 00:00:00</th>\n",
              "      <td>0.711407</td>\n",
              "      <td>0.010633</td>\n",
              "      <td>0.003387</td>\n",
              "      <td>0.010633</td>\n",
              "      <td>0.124854</td>\n",
              "      <td>0.003152</td>\n",
              "      <td>0.008454</td>\n",
              "      <td>0.000973</td>\n",
              "      <td>0.000758</td>\n",
              "      <td>0.001656</td>\n",
              "      <td>...</td>\n",
              "      <td>0.000163</td>\n",
              "      <td>0.007337</td>\n",
              "      <td>0.032004</td>\n",
              "      <td>0.016924</td>\n",
              "      <td>0.002051</td>\n",
              "      <td>0.035576</td>\n",
              "      <td>0.003058</td>\n",
              "      <td>0.025669</td>\n",
              "      <td>0.539356</td>\n",
              "      <td>0.172051</td>\n",
              "    </tr>\n",
              "    <tr>\n",
              "      <th>2016-01-01 00:15:00</th>\n",
              "      <td>0.764641</td>\n",
              "      <td>0.010922</td>\n",
              "      <td>0.002976</td>\n",
              "      <td>0.010922</td>\n",
              "      <td>0.022447</td>\n",
              "      <td>0.003491</td>\n",
              "      <td>0.166584</td>\n",
              "      <td>0.000560</td>\n",
              "      <td>0.000556</td>\n",
              "      <td>0.001860</td>\n",
              "      <td>...</td>\n",
              "      <td>0.000139</td>\n",
              "      <td>0.006689</td>\n",
              "      <td>0.031601</td>\n",
              "      <td>0.016721</td>\n",
              "      <td>0.001993</td>\n",
              "      <td>0.033170</td>\n",
              "      <td>0.002943</td>\n",
              "      <td>0.025352</td>\n",
              "      <td>0.596543</td>\n",
              "      <td>0.168098</td>\n",
              "    </tr>\n",
              "    <tr>\n",
              "      <th>2016-01-01 00:30:00</th>\n",
              "      <td>0.797838</td>\n",
              "      <td>0.010831</td>\n",
              "      <td>0.003871</td>\n",
              "      <td>0.010831</td>\n",
              "      <td>0.089558</td>\n",
              "      <td>0.003437</td>\n",
              "      <td>0.036343</td>\n",
              "      <td>0.000978</td>\n",
              "      <td>0.000889</td>\n",
              "      <td>0.002004</td>\n",
              "      <td>...</td>\n",
              "      <td>0.000104</td>\n",
              "      <td>0.007033</td>\n",
              "      <td>0.031698</td>\n",
              "      <td>0.016774</td>\n",
              "      <td>0.002082</td>\n",
              "      <td>0.034226</td>\n",
              "      <td>0.003029</td>\n",
              "      <td>0.025446</td>\n",
              "      <td>0.628852</td>\n",
              "      <td>0.168986</td>\n",
              "    </tr>\n",
              "    <tr>\n",
              "      <th>2016-01-01 00:45:00</th>\n",
              "      <td>0.883651</td>\n",
              "      <td>0.011289</td>\n",
              "      <td>0.003856</td>\n",
              "      <td>0.011289</td>\n",
              "      <td>0.058804</td>\n",
              "      <td>0.003429</td>\n",
              "      <td>0.193307</td>\n",
              "      <td>0.000860</td>\n",
              "      <td>0.000769</td>\n",
              "      <td>0.002227</td>\n",
              "      <td>...</td>\n",
              "      <td>0.000048</td>\n",
              "      <td>0.006831</td>\n",
              "      <td>0.030987</td>\n",
              "      <td>0.016384</td>\n",
              "      <td>0.002196</td>\n",
              "      <td>0.032569</td>\n",
              "      <td>0.003361</td>\n",
              "      <td>0.024742</td>\n",
              "      <td>0.719163</td>\n",
              "      <td>0.164488</td>\n",
              "    </tr>\n",
              "    <tr>\n",
              "      <th>2016-01-01 01:00:00</th>\n",
              "      <td>0.594470</td>\n",
              "      <td>0.010449</td>\n",
              "      <td>0.002047</td>\n",
              "      <td>0.010449</td>\n",
              "      <td>0.031788</td>\n",
              "      <td>0.003083</td>\n",
              "      <td>0.008712</td>\n",
              "      <td>0.000416</td>\n",
              "      <td>0.000438</td>\n",
              "      <td>0.001193</td>\n",
              "      <td>...</td>\n",
              "      <td>0.000047</td>\n",
              "      <td>0.006911</td>\n",
              "      <td>0.031721</td>\n",
              "      <td>0.016867</td>\n",
              "      <td>0.001903</td>\n",
              "      <td>0.032852</td>\n",
              "      <td>0.002922</td>\n",
              "      <td>0.025539</td>\n",
              "      <td>0.428216</td>\n",
              "      <td>0.166254</td>\n",
              "    </tr>\n",
              "  </tbody>\n",
              "</table>\n",
              "<p>5 rows × 23 columns</p>\n",
              "</div>"
            ],
            "text/plain": [
              "                     Usage [kW]  Generation [kW]  WaterHeater [kW]  \\\n",
              "Date & Time                                                          \n",
              "2016-01-01 00:00:00    0.711407         0.010633          0.003387   \n",
              "2016-01-01 00:15:00    0.764641         0.010922          0.002976   \n",
              "2016-01-01 00:30:00    0.797838         0.010831          0.003871   \n",
              "2016-01-01 00:45:00    0.883651         0.011289          0.003856   \n",
              "2016-01-01 01:00:00    0.594470         0.010449          0.002047   \n",
              "\n",
              "                     Solar [kW]  Refrigerator [kW]  Microwave [kW]  \\\n",
              "Date & Time                                                          \n",
              "2016-01-01 00:00:00    0.010633           0.124854        0.003152   \n",
              "2016-01-01 00:15:00    0.010922           0.022447        0.003491   \n",
              "2016-01-01 00:30:00    0.010831           0.089558        0.003437   \n",
              "2016-01-01 00:45:00    0.011289           0.058804        0.003429   \n",
              "2016-01-01 01:00:00    0.010449           0.031788        0.003083   \n",
              "\n",
              "                     Furnace [kW]  WaterHeater3 [kW]  WaterHeater2 [kW]  \\\n",
              "Date & Time                                                               \n",
              "2016-01-01 00:00:00      0.008454           0.000973           0.000758   \n",
              "2016-01-01 00:15:00      0.166584           0.000560           0.000556   \n",
              "2016-01-01 00:30:00      0.036343           0.000978           0.000889   \n",
              "2016-01-01 00:45:00      0.193307           0.000860           0.000769   \n",
              "2016-01-01 01:00:00      0.008712           0.000416           0.000438   \n",
              "\n",
              "                     WaterHeater1 [kW]      ...       \\\n",
              "Date & Time                                 ...        \n",
              "2016-01-01 00:00:00           0.001656      ...        \n",
              "2016-01-01 00:15:00           0.001860      ...        \n",
              "2016-01-01 00:30:00           0.002004      ...        \n",
              "2016-01-01 00:45:00           0.002227      ...        \n",
              "2016-01-01 01:00:00           0.001193      ...        \n",
              "\n",
              "                     Dishwasher_Disposal [kW]  Kit_SinkWall [kW]  \\\n",
              "Date & Time                                                        \n",
              "2016-01-01 00:00:00                  0.000163           0.007337   \n",
              "2016-01-01 00:15:00                  0.000139           0.006689   \n",
              "2016-01-01 00:30:00                  0.000104           0.007033   \n",
              "2016-01-01 00:45:00                  0.000048           0.006831   \n",
              "2016-01-01 01:00:00                  0.000047           0.006911   \n",
              "\n",
              "                     Family_Rm [kW]  Kit_Half-Bath_Foyer [kW]  \\\n",
              "Date & Time                                                     \n",
              "2016-01-01 00:00:00        0.032004                  0.016924   \n",
              "2016-01-01 00:15:00        0.031601                  0.016721   \n",
              "2016-01-01 00:30:00        0.031698                  0.016774   \n",
              "2016-01-01 00:45:00        0.030987                  0.016384   \n",
              "2016-01-01 01:00:00        0.031721                  0.016867   \n",
              "\n",
              "                     Washing_Machine [kW]  Guest_Bdrm_SmkDet [kW]  Dryer [kW]  \\\n",
              "Date & Time                                                                     \n",
              "2016-01-01 00:00:00              0.002051                0.035576    0.003058   \n",
              "2016-01-01 00:15:00              0.001993                0.033170    0.002943   \n",
              "2016-01-01 00:30:00              0.002082                0.034226    0.003029   \n",
              "2016-01-01 00:45:00              0.002196                0.032569    0.003361   \n",
              "2016-01-01 01:00:00              0.001903                0.032852    0.002922   \n",
              "\n",
              "                     Basement [kW]  Phase_B [kW]  Phase_A [kW]  \n",
              "Date & Time                                                     \n",
              "2016-01-01 00:00:00       0.025669      0.539356      0.172051  \n",
              "2016-01-01 00:15:00       0.025352      0.596543      0.168098  \n",
              "2016-01-01 00:30:00       0.025446      0.628852      0.168986  \n",
              "2016-01-01 00:45:00       0.024742      0.719163      0.164488  \n",
              "2016-01-01 01:00:00       0.025539      0.428216      0.166254  \n",
              "\n",
              "[5 rows x 23 columns]"
            ]
          },
          "metadata": {
            "tags": []
          },
          "execution_count": 48
        }
      ]
    },
    {
      "metadata": {
        "id": "ilsW8lKt5xeA",
        "colab_type": "code",
        "colab": {}
      },
      "cell_type": "code",
      "source": [
        "weather = pd.read_csv('/content/gdrive/My Drive/Colab Notebooks/DataAnalytics/~Code/Data/FweatherClean.csv',index_col='time')\n"
      ],
      "execution_count": 0,
      "outputs": []
    },
    {
      "metadata": {
        "id": "tEnnVnyB554C",
        "colab_type": "code",
        "outputId": "c00243d7-3b05-49c5-97d0-b6ce469b18d1",
        "colab": {
          "base_uri": "https://localhost:8080/",
          "height": 235
        }
      },
      "cell_type": "code",
      "source": [
        "weather.head()"
      ],
      "execution_count": 50,
      "outputs": [
        {
          "output_type": "execute_result",
          "data": {
            "text/html": [
              "<div>\n",
              "<style scoped>\n",
              "    .dataframe tbody tr th:only-of-type {\n",
              "        vertical-align: middle;\n",
              "    }\n",
              "\n",
              "    .dataframe tbody tr th {\n",
              "        vertical-align: top;\n",
              "    }\n",
              "\n",
              "    .dataframe thead th {\n",
              "        text-align: right;\n",
              "    }\n",
              "</style>\n",
              "<table border=\"1\" class=\"dataframe\">\n",
              "  <thead>\n",
              "    <tr style=\"text-align: right;\">\n",
              "      <th></th>\n",
              "      <th>temperature</th>\n",
              "      <th>icon</th>\n",
              "      <th>humidity</th>\n",
              "      <th>visibility</th>\n",
              "      <th>summary</th>\n",
              "      <th>apparentTemperature</th>\n",
              "      <th>pressure</th>\n",
              "      <th>windSpeed</th>\n",
              "      <th>cloudCover</th>\n",
              "      <th>windBearing</th>\n",
              "      <th>precipIntensity</th>\n",
              "      <th>dewPoint</th>\n",
              "      <th>precipProbability</th>\n",
              "    </tr>\n",
              "    <tr>\n",
              "      <th>time</th>\n",
              "      <th></th>\n",
              "      <th></th>\n",
              "      <th></th>\n",
              "      <th></th>\n",
              "      <th></th>\n",
              "      <th></th>\n",
              "      <th></th>\n",
              "      <th></th>\n",
              "      <th></th>\n",
              "      <th></th>\n",
              "      <th></th>\n",
              "      <th></th>\n",
              "      <th></th>\n",
              "    </tr>\n",
              "  </thead>\n",
              "  <tbody>\n",
              "    <tr>\n",
              "      <th>2016-01-01 05:00:00</th>\n",
              "      <td>36.52</td>\n",
              "      <td>clear-night</td>\n",
              "      <td>0.61</td>\n",
              "      <td>10.0</td>\n",
              "      <td>Clear</td>\n",
              "      <td>29.76</td>\n",
              "      <td>1016.88</td>\n",
              "      <td>9.11</td>\n",
              "      <td>NaN</td>\n",
              "      <td>281</td>\n",
              "      <td>0.0</td>\n",
              "      <td>24.27</td>\n",
              "      <td>0.0</td>\n",
              "    </tr>\n",
              "    <tr>\n",
              "      <th>2016-01-01 06:00:00</th>\n",
              "      <td>36.32</td>\n",
              "      <td>partly-cloudy-night</td>\n",
              "      <td>0.60</td>\n",
              "      <td>10.0</td>\n",
              "      <td>Mostly Cloudy</td>\n",
              "      <td>29.60</td>\n",
              "      <td>1016.23</td>\n",
              "      <td>8.93</td>\n",
              "      <td>0.75</td>\n",
              "      <td>285</td>\n",
              "      <td>0.0</td>\n",
              "      <td>23.71</td>\n",
              "      <td>0.0</td>\n",
              "    </tr>\n",
              "    <tr>\n",
              "      <th>2016-01-01 07:00:00</th>\n",
              "      <td>35.77</td>\n",
              "      <td>clear-night</td>\n",
              "      <td>0.61</td>\n",
              "      <td>10.0</td>\n",
              "      <td>Clear</td>\n",
              "      <td>29.49</td>\n",
              "      <td>1015.99</td>\n",
              "      <td>7.90</td>\n",
              "      <td>NaN</td>\n",
              "      <td>282</td>\n",
              "      <td>0.0</td>\n",
              "      <td>23.57</td>\n",
              "      <td>0.0</td>\n",
              "    </tr>\n",
              "    <tr>\n",
              "      <th>2016-01-01 08:00:00</th>\n",
              "      <td>35.62</td>\n",
              "      <td>clear-night</td>\n",
              "      <td>0.63</td>\n",
              "      <td>10.0</td>\n",
              "      <td>Clear</td>\n",
              "      <td>31.04</td>\n",
              "      <td>1016.03</td>\n",
              "      <td>5.35</td>\n",
              "      <td>NaN</td>\n",
              "      <td>264</td>\n",
              "      <td>0.0</td>\n",
              "      <td>24.11</td>\n",
              "      <td>0.0</td>\n",
              "    </tr>\n",
              "    <tr>\n",
              "      <th>2016-01-01 09:00:00</th>\n",
              "      <td>35.97</td>\n",
              "      <td>clear-night</td>\n",
              "      <td>0.62</td>\n",
              "      <td>10.0</td>\n",
              "      <td>Clear</td>\n",
              "      <td>30.41</td>\n",
              "      <td>1015.89</td>\n",
              "      <td>6.80</td>\n",
              "      <td>NaN</td>\n",
              "      <td>267</td>\n",
              "      <td>0.0</td>\n",
              "      <td>24.13</td>\n",
              "      <td>0.0</td>\n",
              "    </tr>\n",
              "  </tbody>\n",
              "</table>\n",
              "</div>"
            ],
            "text/plain": [
              "                     temperature                 icon  humidity  visibility  \\\n",
              "time                                                                          \n",
              "2016-01-01 05:00:00        36.52          clear-night      0.61        10.0   \n",
              "2016-01-01 06:00:00        36.32  partly-cloudy-night      0.60        10.0   \n",
              "2016-01-01 07:00:00        35.77          clear-night      0.61        10.0   \n",
              "2016-01-01 08:00:00        35.62          clear-night      0.63        10.0   \n",
              "2016-01-01 09:00:00        35.97          clear-night      0.62        10.0   \n",
              "\n",
              "                           summary  apparentTemperature  pressure  windSpeed  \\\n",
              "time                                                                           \n",
              "2016-01-01 05:00:00          Clear                29.76   1016.88       9.11   \n",
              "2016-01-01 06:00:00  Mostly Cloudy                29.60   1016.23       8.93   \n",
              "2016-01-01 07:00:00          Clear                29.49   1015.99       7.90   \n",
              "2016-01-01 08:00:00          Clear                31.04   1016.03       5.35   \n",
              "2016-01-01 09:00:00          Clear                30.41   1015.89       6.80   \n",
              "\n",
              "                     cloudCover  windBearing  precipIntensity  dewPoint  \\\n",
              "time                                                                      \n",
              "2016-01-01 05:00:00         NaN          281              0.0     24.27   \n",
              "2016-01-01 06:00:00        0.75          285              0.0     23.71   \n",
              "2016-01-01 07:00:00         NaN          282              0.0     23.57   \n",
              "2016-01-01 08:00:00         NaN          264              0.0     24.11   \n",
              "2016-01-01 09:00:00         NaN          267              0.0     24.13   \n",
              "\n",
              "                     precipProbability  \n",
              "time                                    \n",
              "2016-01-01 05:00:00                0.0  \n",
              "2016-01-01 06:00:00                0.0  \n",
              "2016-01-01 07:00:00                0.0  \n",
              "2016-01-01 08:00:00                0.0  \n",
              "2016-01-01 09:00:00                0.0  "
            ]
          },
          "metadata": {
            "tags": []
          },
          "execution_count": 50
        }
      ]
    },
    {
      "metadata": {
        "id": "G9RlVlVN6mQ2",
        "colab_type": "text"
      },
      "cell_type": "markdown",
      "source": [
        "###First model for energy consumption forecast "
      ]
    },
    {
      "metadata": {
        "id": "8kTtzUut6mDn",
        "colab_type": "code",
        "outputId": "d7d2002e-d75c-4441-fd7f-52a92a849d4e",
        "colab": {
          "base_uri": "https://localhost:8080/",
          "height": 34
        }
      },
      "cell_type": "code",
      "source": [
        "df.shape"
      ],
      "execution_count": 51,
      "outputs": [
        {
          "output_type": "execute_result",
          "data": {
            "text/plain": [
              "(501847, 23)"
            ]
          },
          "metadata": {
            "tags": []
          },
          "execution_count": 51
        }
      ]
    },
    {
      "metadata": {
        "id": "2PuEIrTE68U9",
        "colab_type": "text"
      },
      "cell_type": "markdown",
      "source": [
        "Downsample by day"
      ]
    },
    {
      "metadata": {
        "id": "FwBXh3MW58Az",
        "colab_type": "code",
        "outputId": "79c597ae-5475-48c3-f8e9-a6429a994685",
        "colab": {
          "base_uri": "https://localhost:8080/",
          "height": 34
        }
      },
      "cell_type": "code",
      "source": [
        "df_downsample = df.resample('D').pad().mean()\n",
        "df_downsample.shape\n"
      ],
      "execution_count": 52,
      "outputs": [
        {
          "output_type": "execute_result",
          "data": {
            "text/plain": [
              "(23,)"
            ]
          },
          "metadata": {
            "tags": []
          },
          "execution_count": 52
        }
      ]
    },
    {
      "metadata": {
        "id": "q64VNOll8G1R",
        "colab_type": "text"
      },
      "cell_type": "markdown",
      "source": [
        "Its not useful since it only shows 12:00 AM "
      ]
    },
    {
      "metadata": {
        "id": "5zyRpp_v9DJz",
        "colab_type": "text"
      },
      "cell_type": "markdown",
      "source": [
        "###Lets split the dataset into months"
      ]
    },
    {
      "metadata": {
        "id": "PQCIn0B38cmO",
        "colab_type": "code",
        "colab": {}
      },
      "cell_type": "code",
      "source": [
        "b = np.array_split(df, 12)"
      ],
      "execution_count": 0,
      "outputs": []
    },
    {
      "metadata": {
        "id": "yPI0_uYv9KP7",
        "colab_type": "code",
        "outputId": "7625dff3-d51c-445a-8e7f-3299dbc9217f",
        "colab": {
          "base_uri": "https://localhost:8080/",
          "height": 34
        }
      },
      "cell_type": "code",
      "source": [
        "b[11].shape"
      ],
      "execution_count": 54,
      "outputs": [
        {
          "output_type": "execute_result",
          "data": {
            "text/plain": [
              "(41820, 23)"
            ]
          },
          "metadata": {
            "tags": []
          },
          "execution_count": 54
        }
      ]
    },
    {
      "metadata": {
        "id": "YlRxst1r9WCE",
        "colab_type": "code",
        "outputId": "eaa2ed84-a057-4e7b-c445-67622900a025",
        "colab": {
          "base_uri": "https://localhost:8080/",
          "height": 505
        }
      },
      "cell_type": "code",
      "source": [
        "b[11].head()"
      ],
      "execution_count": 55,
      "outputs": [
        {
          "output_type": "execute_result",
          "data": {
            "text/html": [
              "<div>\n",
              "<style scoped>\n",
              "    .dataframe tbody tr th:only-of-type {\n",
              "        vertical-align: middle;\n",
              "    }\n",
              "\n",
              "    .dataframe tbody tr th {\n",
              "        vertical-align: top;\n",
              "    }\n",
              "\n",
              "    .dataframe thead th {\n",
              "        text-align: right;\n",
              "    }\n",
              "</style>\n",
              "<table border=\"1\" class=\"dataframe\">\n",
              "  <thead>\n",
              "    <tr style=\"text-align: right;\">\n",
              "      <th></th>\n",
              "      <th>Usage [kW]</th>\n",
              "      <th>Generation [kW]</th>\n",
              "      <th>WaterHeater [kW]</th>\n",
              "      <th>Solar [kW]</th>\n",
              "      <th>Refrigerator [kW]</th>\n",
              "      <th>Microwave [kW]</th>\n",
              "      <th>Furnace [kW]</th>\n",
              "      <th>WaterHeater3 [kW]</th>\n",
              "      <th>WaterHeater2 [kW]</th>\n",
              "      <th>WaterHeater1 [kW]</th>\n",
              "      <th>...</th>\n",
              "      <th>Dishwasher_Disposal [kW]</th>\n",
              "      <th>Kit_SinkWall [kW]</th>\n",
              "      <th>Family_Rm [kW]</th>\n",
              "      <th>Kit_Half-Bath_Foyer [kW]</th>\n",
              "      <th>Washing_Machine [kW]</th>\n",
              "      <th>Guest_Bdrm_SmkDet [kW]</th>\n",
              "      <th>Dryer [kW]</th>\n",
              "      <th>Basement [kW]</th>\n",
              "      <th>Phase_B [kW]</th>\n",
              "      <th>Phase_A [kW]</th>\n",
              "    </tr>\n",
              "    <tr>\n",
              "      <th>Date &amp; Time</th>\n",
              "      <th></th>\n",
              "      <th></th>\n",
              "      <th></th>\n",
              "      <th></th>\n",
              "      <th></th>\n",
              "      <th></th>\n",
              "      <th></th>\n",
              "      <th></th>\n",
              "      <th></th>\n",
              "      <th></th>\n",
              "      <th></th>\n",
              "      <th></th>\n",
              "      <th></th>\n",
              "      <th></th>\n",
              "      <th></th>\n",
              "      <th></th>\n",
              "      <th></th>\n",
              "      <th></th>\n",
              "      <th></th>\n",
              "      <th></th>\n",
              "      <th></th>\n",
              "    </tr>\n",
              "  </thead>\n",
              "  <tbody>\n",
              "    <tr>\n",
              "      <th>2016-12-02 23:00:00</th>\n",
              "      <td>0.609150</td>\n",
              "      <td>0.009067</td>\n",
              "      <td>0.003367</td>\n",
              "      <td>0.009067</td>\n",
              "      <td>0.006900</td>\n",
              "      <td>0.003067</td>\n",
              "      <td>0.008817</td>\n",
              "      <td>0.001367</td>\n",
              "      <td>0.000400</td>\n",
              "      <td>0.001600</td>\n",
              "      <td>...</td>\n",
              "      <td>0.000817</td>\n",
              "      <td>0.007383</td>\n",
              "      <td>0.050900</td>\n",
              "      <td>0.017317</td>\n",
              "      <td>0.001900</td>\n",
              "      <td>0.046833</td>\n",
              "      <td>0.002817</td>\n",
              "      <td>0.318800</td>\n",
              "      <td>0.103283</td>\n",
              "      <td>0.505867</td>\n",
              "    </tr>\n",
              "    <tr>\n",
              "      <th>2016-12-02 23:01:00</th>\n",
              "      <td>0.620067</td>\n",
              "      <td>0.009067</td>\n",
              "      <td>0.003567</td>\n",
              "      <td>0.009067</td>\n",
              "      <td>0.008617</td>\n",
              "      <td>0.002867</td>\n",
              "      <td>0.008833</td>\n",
              "      <td>0.001367</td>\n",
              "      <td>0.000433</td>\n",
              "      <td>0.001767</td>\n",
              "      <td>...</td>\n",
              "      <td>0.000800</td>\n",
              "      <td>0.007400</td>\n",
              "      <td>0.051750</td>\n",
              "      <td>0.017617</td>\n",
              "      <td>0.002067</td>\n",
              "      <td>0.047300</td>\n",
              "      <td>0.003017</td>\n",
              "      <td>0.324050</td>\n",
              "      <td>0.106500</td>\n",
              "      <td>0.513567</td>\n",
              "    </tr>\n",
              "    <tr>\n",
              "      <th>2016-12-02 23:02:00</th>\n",
              "      <td>1.332400</td>\n",
              "      <td>0.010100</td>\n",
              "      <td>0.002533</td>\n",
              "      <td>0.010100</td>\n",
              "      <td>0.007450</td>\n",
              "      <td>0.004417</td>\n",
              "      <td>0.009983</td>\n",
              "      <td>0.000367</td>\n",
              "      <td>0.000500</td>\n",
              "      <td>0.001667</td>\n",
              "      <td>...</td>\n",
              "      <td>0.000500</td>\n",
              "      <td>0.006150</td>\n",
              "      <td>0.050683</td>\n",
              "      <td>0.017100</td>\n",
              "      <td>0.002467</td>\n",
              "      <td>0.046650</td>\n",
              "      <td>0.003183</td>\n",
              "      <td>0.316117</td>\n",
              "      <td>0.829950</td>\n",
              "      <td>0.502450</td>\n",
              "    </tr>\n",
              "    <tr>\n",
              "      <th>2016-12-02 23:03:00</th>\n",
              "      <td>0.661367</td>\n",
              "      <td>0.009200</td>\n",
              "      <td>0.002833</td>\n",
              "      <td>0.009200</td>\n",
              "      <td>0.008417</td>\n",
              "      <td>0.003117</td>\n",
              "      <td>0.008983</td>\n",
              "      <td>0.001200</td>\n",
              "      <td>0.000400</td>\n",
              "      <td>0.001233</td>\n",
              "      <td>...</td>\n",
              "      <td>0.000767</td>\n",
              "      <td>0.007250</td>\n",
              "      <td>0.044950</td>\n",
              "      <td>0.015183</td>\n",
              "      <td>0.001700</td>\n",
              "      <td>0.041483</td>\n",
              "      <td>0.002483</td>\n",
              "      <td>0.281483</td>\n",
              "      <td>0.214700</td>\n",
              "      <td>0.446667</td>\n",
              "    </tr>\n",
              "    <tr>\n",
              "      <th>2016-12-02 23:04:00</th>\n",
              "      <td>0.613750</td>\n",
              "      <td>0.009033</td>\n",
              "      <td>0.003500</td>\n",
              "      <td>0.009033</td>\n",
              "      <td>0.008550</td>\n",
              "      <td>0.002850</td>\n",
              "      <td>0.008850</td>\n",
              "      <td>0.001300</td>\n",
              "      <td>0.000467</td>\n",
              "      <td>0.001733</td>\n",
              "      <td>...</td>\n",
              "      <td>0.000817</td>\n",
              "      <td>0.007400</td>\n",
              "      <td>0.051133</td>\n",
              "      <td>0.017383</td>\n",
              "      <td>0.001950</td>\n",
              "      <td>0.047383</td>\n",
              "      <td>0.002817</td>\n",
              "      <td>0.320700</td>\n",
              "      <td>0.105200</td>\n",
              "      <td>0.508550</td>\n",
              "    </tr>\n",
              "  </tbody>\n",
              "</table>\n",
              "<p>5 rows × 23 columns</p>\n",
              "</div>"
            ],
            "text/plain": [
              "                     Usage [kW]  Generation [kW]  WaterHeater [kW]  \\\n",
              "Date & Time                                                          \n",
              "2016-12-02 23:00:00    0.609150         0.009067          0.003367   \n",
              "2016-12-02 23:01:00    0.620067         0.009067          0.003567   \n",
              "2016-12-02 23:02:00    1.332400         0.010100          0.002533   \n",
              "2016-12-02 23:03:00    0.661367         0.009200          0.002833   \n",
              "2016-12-02 23:04:00    0.613750         0.009033          0.003500   \n",
              "\n",
              "                     Solar [kW]  Refrigerator [kW]  Microwave [kW]  \\\n",
              "Date & Time                                                          \n",
              "2016-12-02 23:00:00    0.009067           0.006900        0.003067   \n",
              "2016-12-02 23:01:00    0.009067           0.008617        0.002867   \n",
              "2016-12-02 23:02:00    0.010100           0.007450        0.004417   \n",
              "2016-12-02 23:03:00    0.009200           0.008417        0.003117   \n",
              "2016-12-02 23:04:00    0.009033           0.008550        0.002850   \n",
              "\n",
              "                     Furnace [kW]  WaterHeater3 [kW]  WaterHeater2 [kW]  \\\n",
              "Date & Time                                                               \n",
              "2016-12-02 23:00:00      0.008817           0.001367           0.000400   \n",
              "2016-12-02 23:01:00      0.008833           0.001367           0.000433   \n",
              "2016-12-02 23:02:00      0.009983           0.000367           0.000500   \n",
              "2016-12-02 23:03:00      0.008983           0.001200           0.000400   \n",
              "2016-12-02 23:04:00      0.008850           0.001300           0.000467   \n",
              "\n",
              "                     WaterHeater1 [kW]      ...       \\\n",
              "Date & Time                                 ...        \n",
              "2016-12-02 23:00:00           0.001600      ...        \n",
              "2016-12-02 23:01:00           0.001767      ...        \n",
              "2016-12-02 23:02:00           0.001667      ...        \n",
              "2016-12-02 23:03:00           0.001233      ...        \n",
              "2016-12-02 23:04:00           0.001733      ...        \n",
              "\n",
              "                     Dishwasher_Disposal [kW]  Kit_SinkWall [kW]  \\\n",
              "Date & Time                                                        \n",
              "2016-12-02 23:00:00                  0.000817           0.007383   \n",
              "2016-12-02 23:01:00                  0.000800           0.007400   \n",
              "2016-12-02 23:02:00                  0.000500           0.006150   \n",
              "2016-12-02 23:03:00                  0.000767           0.007250   \n",
              "2016-12-02 23:04:00                  0.000817           0.007400   \n",
              "\n",
              "                     Family_Rm [kW]  Kit_Half-Bath_Foyer [kW]  \\\n",
              "Date & Time                                                     \n",
              "2016-12-02 23:00:00        0.050900                  0.017317   \n",
              "2016-12-02 23:01:00        0.051750                  0.017617   \n",
              "2016-12-02 23:02:00        0.050683                  0.017100   \n",
              "2016-12-02 23:03:00        0.044950                  0.015183   \n",
              "2016-12-02 23:04:00        0.051133                  0.017383   \n",
              "\n",
              "                     Washing_Machine [kW]  Guest_Bdrm_SmkDet [kW]  Dryer [kW]  \\\n",
              "Date & Time                                                                     \n",
              "2016-12-02 23:00:00              0.001900                0.046833    0.002817   \n",
              "2016-12-02 23:01:00              0.002067                0.047300    0.003017   \n",
              "2016-12-02 23:02:00              0.002467                0.046650    0.003183   \n",
              "2016-12-02 23:03:00              0.001700                0.041483    0.002483   \n",
              "2016-12-02 23:04:00              0.001950                0.047383    0.002817   \n",
              "\n",
              "                     Basement [kW]  Phase_B [kW]  Phase_A [kW]  \n",
              "Date & Time                                                     \n",
              "2016-12-02 23:00:00       0.318800      0.103283      0.505867  \n",
              "2016-12-02 23:01:00       0.324050      0.106500      0.513567  \n",
              "2016-12-02 23:02:00       0.316117      0.829950      0.502450  \n",
              "2016-12-02 23:03:00       0.281483      0.214700      0.446667  \n",
              "2016-12-02 23:04:00       0.320700      0.105200      0.508550  \n",
              "\n",
              "[5 rows x 23 columns]"
            ]
          },
          "metadata": {
            "tags": []
          },
          "execution_count": 55
        }
      ]
    },
    {
      "metadata": {
        "id": "MBrD-CGg26Xi",
        "colab_type": "code",
        "colab": {}
      },
      "cell_type": "code",
      "source": [
        ""
      ],
      "execution_count": 0,
      "outputs": []
    },
    {
      "metadata": {
        "id": "wc06dZmT26OK",
        "colab_type": "code",
        "colab": {}
      },
      "cell_type": "code",
      "source": [
        "def series_to_supervised(data, n_in=1, n_out=1, dropnan=True):\n",
        "\tn_vars = 1 if type(data) is list else data.shape[1]\n",
        "\tdff = pd.DataFrame(data)\n",
        "\tcols, names = list(), list()\n",
        "\t# input sequence (t-n, ... t-1)\n",
        "\tfor i in range(n_in, 0, -1):\n",
        "\t\tcols.append(dff.shift(i))\n",
        "\t\tnames += [('var%d(t-%d)' % (j+1, i)) for j in range(n_vars)]\n",
        "\t# forecast sequence (t, t+1, ... t+n)\n",
        "\tfor i in range(0, n_out):\n",
        "\t\tcols.append(dff.shift(-i))\n",
        "\t\tif i == 0:\n",
        "\t\t\tnames += [('var%d(t)' % (j+1)) for j in range(n_vars)]\n",
        "\t\telse:\n",
        "\t\t\tnames += [('var%d(t+%d)' % (j+1, i)) for j in range(n_vars)]\n",
        "\t# put it all together\n",
        "\tagg = pd.concat(cols, axis=1)\n",
        "\tagg.columns = names\n",
        "\t# drop rows with NaN values\n",
        "\tif dropnan:\n",
        "\t\tagg.dropna(inplace=True)\n",
        "\treturn agg\n"
      ],
      "execution_count": 0,
      "outputs": []
    },
    {
      "metadata": {
        "id": "IkcGoAvC1tjj",
        "colab_type": "text"
      },
      "cell_type": "markdown",
      "source": [
        "### Resample to Every Hour"
      ]
    },
    {
      "metadata": {
        "id": "hLDOwQXI1xNz",
        "colab_type": "code",
        "outputId": "8d94fa20-305c-4c70-e9a7-28d678824d5b",
        "colab": {
          "base_uri": "https://localhost:8080/",
          "height": 51
        }
      },
      "cell_type": "code",
      "source": [
        "print('Original ', df.shape )\n",
        "df_resample = df.resample('h').mean() \n",
        "print('Resample ' ,df_resample.shape)\n",
        "\n"
      ],
      "execution_count": 57,
      "outputs": [
        {
          "output_type": "stream",
          "text": [
            "Original  (501847, 23)\n",
            "Resample  (8784, 23)\n"
          ],
          "name": "stdout"
        }
      ]
    },
    {
      "metadata": {
        "id": "EmrFRhU81jJb",
        "colab_type": "text"
      },
      "cell_type": "markdown",
      "source": [
        "### Scaling features to 0-1"
      ]
    },
    {
      "metadata": {
        "id": "U6eS1Q0L1bHl",
        "colab_type": "code",
        "outputId": "b6f903f7-2e71-41f3-ca8a-b93cd5f0df84",
        "colab": {
          "base_uri": "https://localhost:8080/",
          "height": 488
        }
      },
      "cell_type": "code",
      "source": [
        "#@title Default title text\n",
        "values = df_resample.values \n",
        "scaler = MinMaxScaler(feature_range=(0, 1))\n",
        "scaled = scaler.fit_transform(values)\n",
        "reframed = series_to_supervised(scaled, 1, 1)\n",
        "#We dont want to predict\n",
        "reframed.drop(reframed.columns[[8,9,10,11,12,13]], axis=1, inplace=True)\n",
        "print(reframed.head())\n"
      ],
      "execution_count": 58,
      "outputs": [
        {
          "output_type": "stream",
          "text": [
            "   var1(t-1)  var2(t-1)  var3(t-1)  var4(t-1)  var5(t-1)  var6(t-1)  \\\n",
            "1   0.077668   0.001094   0.000628   0.001094   0.302566   0.009971   \n",
            "2   0.075616   0.001084   0.000602   0.001084   0.262477   0.009170   \n",
            "3   0.071802   0.001085   0.000525   0.001085   0.191402   0.009579   \n",
            "4   0.075191   0.001082   0.000600   0.001082   0.274910   0.009544   \n",
            "5   0.075623   0.001068   0.000538   0.001068   0.180600   0.009440   \n",
            "\n",
            "   var7(t-1)  var8(t-1)  var15(t-1)  var16(t-1)    ...     var14(t)  var15(t)  \\\n",
            "1   0.167852   0.001513    0.026950    0.034386    ...     0.000090  0.026609   \n",
            "2   0.167416   0.001389    0.026609    0.034519    ...     0.000104  0.026515   \n",
            "3   0.167225   0.001120    0.026515    0.034238    ...     0.000093  0.026751   \n",
            "4   0.167340   0.001384    0.026751    0.034231    ...     0.000198  0.026268   \n",
            "5   0.245695   0.001158    0.026268    0.034493    ...     0.000291  0.026749   \n",
            "\n",
            "   var16(t)  var17(t)  var18(t)  var19(t)  var20(t)  var21(t)  var22(t)  \\\n",
            "1  0.034519  0.144935  0.006559  0.050504  0.001060  0.077177  0.124415   \n",
            "2  0.034238  0.144135  0.006427  0.050817  0.001051  0.076610  0.116599   \n",
            "3  0.034231  0.144137  0.006538  0.050731  0.001055  0.076582  0.123789   \n",
            "4  0.034493  0.145487  0.006411  0.051678  0.001066  0.077187  0.124448   \n",
            "5  0.381893  0.142472  0.006767  0.051775  0.000998  0.076096  0.096966   \n",
            "\n",
            "   var23(t)  \n",
            "1  0.031135  \n",
            "2  0.030969  \n",
            "3  0.030891  \n",
            "4  0.031118  \n",
            "5  0.090457  \n",
            "\n",
            "[5 rows x 40 columns]\n"
          ],
          "name": "stdout"
        }
      ]
    },
    {
      "metadata": {
        "id": "cviD8K1z_hxD",
        "colab_type": "text"
      },
      "cell_type": "markdown",
      "source": [
        "##Testing our first model"
      ]
    },
    {
      "metadata": {
        "id": "CyQMx9eu208w",
        "colab_type": "code",
        "colab": {
          "base_uri": "https://localhost:8080/",
          "height": 321
        },
        "outputId": "16467685-96cc-4305-9b84-ad3fb50be69e"
      },
      "cell_type": "code",
      "source": [
        "m12h.describe(include = 'all')"
      ],
      "execution_count": 159,
      "outputs": [
        {
          "output_type": "execute_result",
          "data": {
            "text/html": [
              "<div>\n",
              "<style scoped>\n",
              "    .dataframe tbody tr th:only-of-type {\n",
              "        vertical-align: middle;\n",
              "    }\n",
              "\n",
              "    .dataframe tbody tr th {\n",
              "        vertical-align: top;\n",
              "    }\n",
              "\n",
              "    .dataframe thead th {\n",
              "        text-align: right;\n",
              "    }\n",
              "</style>\n",
              "<table border=\"1\" class=\"dataframe\">\n",
              "  <thead>\n",
              "    <tr style=\"text-align: right;\">\n",
              "      <th></th>\n",
              "      <th>Usage [kW]</th>\n",
              "      <th>Generation [kW]</th>\n",
              "      <th>WaterHeater [kW]</th>\n",
              "      <th>Solar [kW]</th>\n",
              "      <th>Refrigerator [kW]</th>\n",
              "      <th>Microwave [kW]</th>\n",
              "      <th>Furnace [kW]</th>\n",
              "      <th>WaterHeater3 [kW]</th>\n",
              "      <th>WaterHeater2 [kW]</th>\n",
              "      <th>WaterHeater1 [kW]</th>\n",
              "      <th>...</th>\n",
              "      <th>Dishwasher_Disposal [kW]</th>\n",
              "      <th>Kit_SinkWall [kW]</th>\n",
              "      <th>Family_Rm [kW]</th>\n",
              "      <th>Kit_Half-Bath_Foyer [kW]</th>\n",
              "      <th>Washing_Machine [kW]</th>\n",
              "      <th>Guest_Bdrm_SmkDet [kW]</th>\n",
              "      <th>Dryer [kW]</th>\n",
              "      <th>Basement [kW]</th>\n",
              "      <th>Phase_B [kW]</th>\n",
              "      <th>Phase_A [kW]</th>\n",
              "    </tr>\n",
              "  </thead>\n",
              "  <tbody>\n",
              "    <tr>\n",
              "      <th>count</th>\n",
              "      <td>697.000000</td>\n",
              "      <td>697.000000</td>\n",
              "      <td>697.000000</td>\n",
              "      <td>697.000000</td>\n",
              "      <td>697.000000</td>\n",
              "      <td>697.000000</td>\n",
              "      <td>697.000000</td>\n",
              "      <td>697.000000</td>\n",
              "      <td>697.000000</td>\n",
              "      <td>697.000000</td>\n",
              "      <td>...</td>\n",
              "      <td>697.000000</td>\n",
              "      <td>697.000000</td>\n",
              "      <td>697.000000</td>\n",
              "      <td>697.000000</td>\n",
              "      <td>697.000000</td>\n",
              "      <td>697.000000</td>\n",
              "      <td>697.000000</td>\n",
              "      <td>697.000000</td>\n",
              "      <td>697.000000</td>\n",
              "      <td>697.000000</td>\n",
              "    </tr>\n",
              "    <tr>\n",
              "      <th>mean</th>\n",
              "      <td>1.450958</td>\n",
              "      <td>0.823352</td>\n",
              "      <td>0.004476</td>\n",
              "      <td>0.823352</td>\n",
              "      <td>0.073573</td>\n",
              "      <td>0.009897</td>\n",
              "      <td>0.132757</td>\n",
              "      <td>0.001333</td>\n",
              "      <td>0.000651</td>\n",
              "      <td>0.002543</td>\n",
              "      <td>...</td>\n",
              "      <td>0.012564</td>\n",
              "      <td>0.010964</td>\n",
              "      <td>0.306046</td>\n",
              "      <td>0.011728</td>\n",
              "      <td>0.010659</td>\n",
              "      <td>0.048954</td>\n",
              "      <td>0.093347</td>\n",
              "      <td>0.132501</td>\n",
              "      <td>0.650160</td>\n",
              "      <td>0.800798</td>\n",
              "    </tr>\n",
              "    <tr>\n",
              "      <th>std</th>\n",
              "      <td>1.167410</td>\n",
              "      <td>1.766169</td>\n",
              "      <td>0.002750</td>\n",
              "      <td>1.766169</td>\n",
              "      <td>0.025939</td>\n",
              "      <td>0.025002</td>\n",
              "      <td>0.107143</td>\n",
              "      <td>0.000869</td>\n",
              "      <td>0.000477</td>\n",
              "      <td>0.001497</td>\n",
              "      <td>...</td>\n",
              "      <td>0.066862</td>\n",
              "      <td>0.029011</td>\n",
              "      <td>0.257654</td>\n",
              "      <td>0.009432</td>\n",
              "      <td>0.035989</td>\n",
              "      <td>0.027390</td>\n",
              "      <td>0.367762</td>\n",
              "      <td>0.132056</td>\n",
              "      <td>0.519073</td>\n",
              "      <td>0.699313</td>\n",
              "    </tr>\n",
              "    <tr>\n",
              "      <th>min</th>\n",
              "      <td>0.399114</td>\n",
              "      <td>0.004527</td>\n",
              "      <td>0.000642</td>\n",
              "      <td>0.004527</td>\n",
              "      <td>0.034519</td>\n",
              "      <td>0.002126</td>\n",
              "      <td>0.008434</td>\n",
              "      <td>0.000246</td>\n",
              "      <td>0.000094</td>\n",
              "      <td>0.000340</td>\n",
              "      <td>...</td>\n",
              "      <td>0.000288</td>\n",
              "      <td>0.003485</td>\n",
              "      <td>0.036003</td>\n",
              "      <td>0.007908</td>\n",
              "      <td>0.001350</td>\n",
              "      <td>0.027272</td>\n",
              "      <td>0.002366</td>\n",
              "      <td>0.024103</td>\n",
              "      <td>0.205323</td>\n",
              "      <td>0.168350</td>\n",
              "    </tr>\n",
              "    <tr>\n",
              "      <th>25%</th>\n",
              "      <td>0.808342</td>\n",
              "      <td>0.009339</td>\n",
              "      <td>0.002758</td>\n",
              "      <td>0.009339</td>\n",
              "      <td>0.057442</td>\n",
              "      <td>0.002789</td>\n",
              "      <td>0.052963</td>\n",
              "      <td>0.000824</td>\n",
              "      <td>0.000354</td>\n",
              "      <td>0.001423</td>\n",
              "      <td>...</td>\n",
              "      <td>0.000533</td>\n",
              "      <td>0.006647</td>\n",
              "      <td>0.050039</td>\n",
              "      <td>0.008729</td>\n",
              "      <td>0.002092</td>\n",
              "      <td>0.041194</td>\n",
              "      <td>0.002709</td>\n",
              "      <td>0.027712</td>\n",
              "      <td>0.380855</td>\n",
              "      <td>0.255310</td>\n",
              "    </tr>\n",
              "    <tr>\n",
              "      <th>50%</th>\n",
              "      <td>1.041675</td>\n",
              "      <td>0.010561</td>\n",
              "      <td>0.003506</td>\n",
              "      <td>0.010561</td>\n",
              "      <td>0.071322</td>\n",
              "      <td>0.003118</td>\n",
              "      <td>0.116407</td>\n",
              "      <td>0.001008</td>\n",
              "      <td>0.000571</td>\n",
              "      <td>0.002037</td>\n",
              "      <td>...</td>\n",
              "      <td>0.000649</td>\n",
              "      <td>0.007004</td>\n",
              "      <td>0.239468</td>\n",
              "      <td>0.008982</td>\n",
              "      <td>0.002270</td>\n",
              "      <td>0.043470</td>\n",
              "      <td>0.002908</td>\n",
              "      <td>0.028588</td>\n",
              "      <td>0.471287</td>\n",
              "      <td>0.611901</td>\n",
              "    </tr>\n",
              "    <tr>\n",
              "      <th>75%</th>\n",
              "      <td>1.475964</td>\n",
              "      <td>0.451688</td>\n",
              "      <td>0.005548</td>\n",
              "      <td>0.451688</td>\n",
              "      <td>0.084875</td>\n",
              "      <td>0.003338</td>\n",
              "      <td>0.189804</td>\n",
              "      <td>0.001625</td>\n",
              "      <td>0.000749</td>\n",
              "      <td>0.003340</td>\n",
              "      <td>...</td>\n",
              "      <td>0.000819</td>\n",
              "      <td>0.007272</td>\n",
              "      <td>0.557524</td>\n",
              "      <td>0.009310</td>\n",
              "      <td>0.002410</td>\n",
              "      <td>0.045537</td>\n",
              "      <td>0.003109</td>\n",
              "      <td>0.302104</td>\n",
              "      <td>0.642659</td>\n",
              "      <td>1.019236</td>\n",
              "    </tr>\n",
              "    <tr>\n",
              "      <th>max</th>\n",
              "      <td>5.684735</td>\n",
              "      <td>7.832188</td>\n",
              "      <td>0.016347</td>\n",
              "      <td>7.832188</td>\n",
              "      <td>0.234611</td>\n",
              "      <td>0.255300</td>\n",
              "      <td>0.494549</td>\n",
              "      <td>0.005721</td>\n",
              "      <td>0.003503</td>\n",
              "      <td>0.007984</td>\n",
              "      <td>...</td>\n",
              "      <td>0.630730</td>\n",
              "      <td>0.249350</td>\n",
              "      <td>0.816996</td>\n",
              "      <td>0.085651</td>\n",
              "      <td>0.312721</td>\n",
              "      <td>0.198038</td>\n",
              "      <td>2.622222</td>\n",
              "      <td>0.328476</td>\n",
              "      <td>2.893218</td>\n",
              "      <td>3.351595</td>\n",
              "    </tr>\n",
              "  </tbody>\n",
              "</table>\n",
              "<p>8 rows × 23 columns</p>\n",
              "</div>"
            ],
            "text/plain": [
              "       Usage [kW]  Generation [kW]  WaterHeater [kW]  Solar [kW]  \\\n",
              "count  697.000000       697.000000        697.000000  697.000000   \n",
              "mean     1.450958         0.823352          0.004476    0.823352   \n",
              "std      1.167410         1.766169          0.002750    1.766169   \n",
              "min      0.399114         0.004527          0.000642    0.004527   \n",
              "25%      0.808342         0.009339          0.002758    0.009339   \n",
              "50%      1.041675         0.010561          0.003506    0.010561   \n",
              "75%      1.475964         0.451688          0.005548    0.451688   \n",
              "max      5.684735         7.832188          0.016347    7.832188   \n",
              "\n",
              "       Refrigerator [kW]  Microwave [kW]  Furnace [kW]  WaterHeater3 [kW]  \\\n",
              "count         697.000000      697.000000    697.000000         697.000000   \n",
              "mean            0.073573        0.009897      0.132757           0.001333   \n",
              "std             0.025939        0.025002      0.107143           0.000869   \n",
              "min             0.034519        0.002126      0.008434           0.000246   \n",
              "25%             0.057442        0.002789      0.052963           0.000824   \n",
              "50%             0.071322        0.003118      0.116407           0.001008   \n",
              "75%             0.084875        0.003338      0.189804           0.001625   \n",
              "max             0.234611        0.255300      0.494549           0.005721   \n",
              "\n",
              "       WaterHeater2 [kW]  WaterHeater1 [kW]      ...       \\\n",
              "count         697.000000         697.000000      ...        \n",
              "mean            0.000651           0.002543      ...        \n",
              "std             0.000477           0.001497      ...        \n",
              "min             0.000094           0.000340      ...        \n",
              "25%             0.000354           0.001423      ...        \n",
              "50%             0.000571           0.002037      ...        \n",
              "75%             0.000749           0.003340      ...        \n",
              "max             0.003503           0.007984      ...        \n",
              "\n",
              "       Dishwasher_Disposal [kW]  Kit_SinkWall [kW]  Family_Rm [kW]  \\\n",
              "count                697.000000         697.000000      697.000000   \n",
              "mean                   0.012564           0.010964        0.306046   \n",
              "std                    0.066862           0.029011        0.257654   \n",
              "min                    0.000288           0.003485        0.036003   \n",
              "25%                    0.000533           0.006647        0.050039   \n",
              "50%                    0.000649           0.007004        0.239468   \n",
              "75%                    0.000819           0.007272        0.557524   \n",
              "max                    0.630730           0.249350        0.816996   \n",
              "\n",
              "       Kit_Half-Bath_Foyer [kW]  Washing_Machine [kW]  Guest_Bdrm_SmkDet [kW]  \\\n",
              "count                697.000000            697.000000              697.000000   \n",
              "mean                   0.011728              0.010659                0.048954   \n",
              "std                    0.009432              0.035989                0.027390   \n",
              "min                    0.007908              0.001350                0.027272   \n",
              "25%                    0.008729              0.002092                0.041194   \n",
              "50%                    0.008982              0.002270                0.043470   \n",
              "75%                    0.009310              0.002410                0.045537   \n",
              "max                    0.085651              0.312721                0.198038   \n",
              "\n",
              "       Dryer [kW]  Basement [kW]  Phase_B [kW]  Phase_A [kW]  \n",
              "count  697.000000     697.000000    697.000000    697.000000  \n",
              "mean     0.093347       0.132501      0.650160      0.800798  \n",
              "std      0.367762       0.132056      0.519073      0.699313  \n",
              "min      0.002366       0.024103      0.205323      0.168350  \n",
              "25%      0.002709       0.027712      0.380855      0.255310  \n",
              "50%      0.002908       0.028588      0.471287      0.611901  \n",
              "75%      0.003109       0.302104      0.642659      1.019236  \n",
              "max      2.622222       0.328476      2.893218      3.351595  \n",
              "\n",
              "[8 rows x 23 columns]"
            ]
          },
          "metadata": {
            "tags": []
          },
          "execution_count": 159
        }
      ]
    },
    {
      "metadata": {
        "id": "bhYJvC8SytHL",
        "colab_type": "code",
        "outputId": "85558de0-36b9-45e8-e0aa-8c24e7f59f67",
        "colab": {
          "base_uri": "https://localhost:8080/",
          "height": 50
        }
      },
      "cell_type": "code",
      "source": [
        "print('Original ', b[11].shape )\n",
        "m12h = b[11].resample('h').mean() \n",
        "print('Resample ' ,m12h.shape)\n"
      ],
      "execution_count": 158,
      "outputs": [
        {
          "output_type": "stream",
          "text": [
            "Original  (41820, 23)\n",
            "Resample  (697, 23)\n"
          ],
          "name": "stdout"
        }
      ]
    },
    {
      "metadata": {
        "id": "WhD7RlC-zXda",
        "colab_type": "text"
      },
      "cell_type": "markdown",
      "source": [
        "Lets have the first 20 days as our Training data  \n",
        "and last 10 days of month for test  \n",
        "For the ease of model We just use the Total energy consumption at first"
      ]
    },
    {
      "metadata": {
        "id": "s0uCb4Jo-dWO",
        "colab_type": "code",
        "colab": {}
      },
      "cell_type": "code",
      "source": [
        "split = 24*20\n",
        "X = m12h\n",
        "X_train = m12h.iloc[:split,4:-2].values\n",
        "y_train = m12h.iloc[:split,0].values\n",
        "#Test\n",
        "X_test = m12h.iloc[split:,4:-2].values\n",
        "y_test = m12h.iloc[split:,0].values\n",
        "#X = pd.date_range(start='12/1/16', end='12/30/16',freq='h')\n",
        "\n",
        "\n",
        "#X= m12h.iloc[:,0].values\n",
        "#y= m12h.iloc[:,0].values\n",
        "y_train = m12h.iloc[:split,0].values\n",
        "y_test = m12h.iloc[split:,0].values"
      ],
      "execution_count": 0,
      "outputs": []
    },
    {
      "metadata": {
        "id": "kq8QfTBNnBF_",
        "colab_type": "code",
        "colab": {}
      },
      "cell_type": "code",
      "source": [
        "split = 24*20\n",
        "#Train\n",
        "training_set = m12h.iloc[:split,0:1].values\n",
        "test_set = m12h.iloc[split:,0:1].values\n"
      ],
      "execution_count": 0,
      "outputs": []
    },
    {
      "metadata": {
        "colab_type": "code",
        "id": "3ZIUv3MZnOhC",
        "colab": {}
      },
      "cell_type": "code",
      "source": [
        "# Scaling the training set\n",
        "sc = MinMaxScaler(feature_range=(0,1))\n",
        "training_set_scaled = sc.fit_transform(training_set)\n",
        "test_set_scaled = sc.fit_transform(test_set)"
      ],
      "execution_count": 0,
      "outputs": []
    },
    {
      "metadata": {
        "colab_type": "code",
        "id": "xujTIJy_nOhE",
        "colab": {}
      },
      "cell_type": "code",
      "source": [
        "X_train = []\n",
        "y_train = []\n",
        "for i in range(80,480):\n",
        "    X_train.append(training_set_scaled[i-80:i,0])\n",
        "    y_train.append(training_set_scaled[i,0])\n",
        "X_train, y_train = np.array(X_train), np.array(y_train)\n",
        "\n",
        "X_test = []\n",
        "y_test = []\n",
        "for i in range(80,217):\n",
        "    X_test.append(test_set_scaled[i-80:i,0])\n",
        "    y_test.append(test_set_scaled[i,0])\n",
        "\n",
        "X_test, y_test = np.array(X_test), np.array(y_test)\n"
      ],
      "execution_count": 0,
      "outputs": []
    },
    {
      "metadata": {
        "colab_type": "code",
        "id": "D7o6NDw5nOhH",
        "colab": {}
      },
      "cell_type": "code",
      "source": [
        "X_train = np.reshape(X_train, (X_train.shape[0],X_train.shape[1]))"
      ],
      "execution_count": 0,
      "outputs": []
    },
    {
      "metadata": {
        "id": "5TOWjXoe9i9t",
        "colab_type": "code",
        "outputId": "b8512450-2300-4b49-cdbb-94105c97ece4",
        "colab": {
          "base_uri": "https://localhost:8080/",
          "height": 33
        }
      },
      "cell_type": "code",
      "source": [
        "\"\"#from sklearn.model_selection import train_test_split\n",
        "#X_train, X_test, y_train, y_test = train_test_split(X, y, test_size = 0.2, random_state = 0)\n"
      ],
      "execution_count": 147,
      "outputs": [
        {
          "output_type": "execute_result",
          "data": {
            "text/plain": [
              "''"
            ]
          },
          "metadata": {
            "tags": []
          },
          "execution_count": 147
        }
      ]
    },
    {
      "metadata": {
        "id": "fSGHQ2l7yYnC",
        "colab_type": "text"
      },
      "cell_type": "markdown",
      "source": [
        "##Time series DNN:"
      ]
    },
    {
      "metadata": {
        "id": "36tuF5Ul_i--",
        "colab_type": "code",
        "outputId": "8ca1a387-03e0-475f-e743-665b910e2d89",
        "colab": {
          "base_uri": "https://localhost:8080/",
          "height": 115
        }
      },
      "cell_type": "code",
      "source": [
        "model = Sequential()\n",
        "model.add(Dense(output_dim = 20, init = 'uniform', activation = 'relu', input_dim = 80))\n",
        "model.add(Dense(output_dim = 35, init = 'uniform', activation = 'relu'))\n",
        "model.add(Dense(output_dim = 1, init = 'uniform', activation = 'linear'))"
      ],
      "execution_count": 148,
      "outputs": [
        {
          "output_type": "stream",
          "text": [
            "/usr/local/lib/python3.6/dist-packages/ipykernel_launcher.py:2: UserWarning: Update your `Dense` call to the Keras 2 API: `Dense(activation=\"relu\", input_dim=80, units=20, kernel_initializer=\"uniform\")`\n",
            "  \n",
            "/usr/local/lib/python3.6/dist-packages/ipykernel_launcher.py:3: UserWarning: Update your `Dense` call to the Keras 2 API: `Dense(activation=\"relu\", units=35, kernel_initializer=\"uniform\")`\n",
            "  This is separate from the ipykernel package so we can avoid doing imports until\n",
            "/usr/local/lib/python3.6/dist-packages/ipykernel_launcher.py:4: UserWarning: Update your `Dense` call to the Keras 2 API: `Dense(activation=\"linear\", units=1, kernel_initializer=\"uniform\")`\n",
            "  after removing the cwd from sys.path.\n"
          ],
          "name": "stderr"
        }
      ]
    },
    {
      "metadata": {
        "id": "JLyOTOlH_m8_",
        "colab_type": "code",
        "colab": {}
      },
      "cell_type": "code",
      "source": [
        "model.compile(optimizer = 'adam', loss = 'mean_absolute_error', metrics = ['mean_absolute_error'])\n"
      ],
      "execution_count": 0,
      "outputs": []
    },
    {
      "metadata": {
        "id": "iltt_cZn_o0I",
        "colab_type": "code",
        "outputId": "e6a7fe56-9408-4d8b-b793-d3a31765e871",
        "colab": {
          "base_uri": "https://localhost:8080/",
          "height": 391
        }
      },
      "cell_type": "code",
      "source": [
        "model.fit(X_train, y_train, batch_size = 6, nb_epoch = 10, shuffle=0)\n"
      ],
      "execution_count": 150,
      "outputs": [
        {
          "output_type": "stream",
          "text": [
            "/usr/local/lib/python3.6/dist-packages/ipykernel_launcher.py:1: UserWarning: The `nb_epoch` argument in `fit` has been renamed `epochs`.\n",
            "  \"\"\"Entry point for launching an IPython kernel.\n"
          ],
          "name": "stderr"
        },
        {
          "output_type": "stream",
          "text": [
            "Epoch 1/10\n",
            "400/400 [==============================] - 2s 4ms/step - loss: 0.1441 - mean_absolute_error: 0.1441\n",
            "Epoch 2/10\n",
            "400/400 [==============================] - 0s 211us/step - loss: 0.1198 - mean_absolute_error: 0.1198\n",
            "Epoch 3/10\n",
            "400/400 [==============================] - 0s 212us/step - loss: 0.1120 - mean_absolute_error: 0.1120\n",
            "Epoch 4/10\n",
            "400/400 [==============================] - 0s 200us/step - loss: 0.1092 - mean_absolute_error: 0.1092\n",
            "Epoch 5/10\n",
            "400/400 [==============================] - 0s 211us/step - loss: 0.1050 - mean_absolute_error: 0.1050\n",
            "Epoch 6/10\n",
            "400/400 [==============================] - 0s 203us/step - loss: 0.1017 - mean_absolute_error: 0.1017\n",
            "Epoch 7/10\n",
            "400/400 [==============================] - 0s 199us/step - loss: 0.0976 - mean_absolute_error: 0.0976\n",
            "Epoch 8/10\n",
            "400/400 [==============================] - 0s 216us/step - loss: 0.0944 - mean_absolute_error: 0.0944\n",
            "Epoch 9/10\n",
            "400/400 [==============================] - 0s 215us/step - loss: 0.0897 - mean_absolute_error: 0.0897\n",
            "Epoch 10/10\n",
            "400/400 [==============================] - 0s 206us/step - loss: 0.0839 - mean_absolute_error: 0.0839\n"
          ],
          "name": "stdout"
        },
        {
          "output_type": "execute_result",
          "data": {
            "text/plain": [
              "<keras.callbacks.History at 0x7f565e5b48d0>"
            ]
          },
          "metadata": {
            "tags": []
          },
          "execution_count": 150
        }
      ]
    },
    {
      "metadata": {
        "id": "PDn9Yi-Y_qSD",
        "colab_type": "code",
        "outputId": "1c0ddcbb-7bb3-4f0f-9dd7-753af243ee4a",
        "colab": {
          "base_uri": "https://localhost:8080/",
          "height": 50
        }
      },
      "cell_type": "code",
      "source": [
        "prediction = model.predict(X_test)\n",
        "score = model.evaluate(X_test,y_test,verbose =0)\n",
        "print('Test Loss:', score[0])\n",
        "print('Test accuracy:' , score[1])\n",
        "prediction = sc.inverse_transform(prediction)\n"
      ],
      "execution_count": 151,
      "outputs": [
        {
          "output_type": "stream",
          "text": [
            "Test Loss: 0.10675471172715625\n",
            "Test accuracy: 0.10675471172715625\n"
          ],
          "name": "stdout"
        }
      ]
    },
    {
      "metadata": {
        "colab_type": "code",
        "outputId": "5a4b6ac9-da48-4934-a849-cb2d790c7c25",
        "id": "tplIfokmrbnY",
        "colab": {
          "base_uri": "https://localhost:8080/",
          "height": 311
        }
      },
      "cell_type": "code",
      "source": [
        "plt.figure(1)\n",
        "plt.plot(test_set[:120],label='true',color = 'black')\n",
        "plt.plot(prediction,label='prediction',color = 'green')\n",
        "plt.legend(loc='upper left')\n",
        "plt.title('Total Energy Consumption')\n",
        "plt.ylabel('kWh') \n",
        "plt.xlabel('120 Hour Prediction  ')"
      ],
      "execution_count": 155,
      "outputs": [
        {
          "output_type": "execute_result",
          "data": {
            "text/plain": [
              "Text(0.5, 0, '120 Hour Prediction  ')"
            ]
          },
          "metadata": {
            "tags": []
          },
          "execution_count": 155
        },
        {
          "output_type": "display_data",
          "data": {
            "image/png": "[encoded data removed]",
            "text/plain": [
              "<Figure size 432x288 with 1 Axes>"
            ]
          },
          "metadata": {
            "tags": []
          }
        }
      ]
    },
    {
      "metadata": {
        "colab_type": "code",
        "id": "xmDxjMTCqxyw",
        "colab": {}
      },
      "cell_type": "code",
      "source": [
        "dataset_total = pd.concat((m12h[\"Usage [kW]\"][:split],m12h[\"Usage [kW]\"][split:]),axis=0)\n",
        "inputs = dataset_total[len(dataset_total)-len(test_set) - 80:].values\n",
        "inputs = inputs.reshape(-1,1)\n",
        "inputs  = sc.transform(inputs)\n"
      ],
      "execution_count": 0,
      "outputs": []
    },
    {
      "metadata": {
        "colab_type": "code",
        "id": "sOB0zHHDqxyy",
        "colab": {}
      },
      "cell_type": "code",
      "source": [
        "X_test = []\n",
        "for i in range(80,278):\n",
        "    X_test.append(inputs[i-80:i,0])\n",
        "X_test = np.array(X_test)\n",
        "X_test = np.reshape(X_test, (X_test.shape[0],X_test.shape[1],1))\n",
        "predicted_stock_price = regressor.predict(X_test)\n",
        "predicted_stock_price = sc.inverse_transform(predicted_stock_price)"
      ],
      "execution_count": 0,
      "outputs": []
    },
    {
      "metadata": {
        "colab_type": "code",
        "outputId": "2b2da8b8-b436-467c-9298-60afa1bf555c",
        "id": "Q18k_GNaqxyz",
        "colab": {
          "base_uri": "https://localhost:8080/",
          "height": 311
        }
      },
      "cell_type": "code",
      "source": [
        "plt.figure(1)\n",
        "plt.plot(test_set,label='true',color = 'black')\n",
        "plt.plot(predicted_stock_price,label='prediction',color = 'green')\n",
        "plt.legend(loc='upper left')\n",
        "plt.title('Total Energy Consumption')\n",
        "plt.ylabel('kWh') \n",
        "plt.xlabel('Next 200 Hours')"
      ],
      "execution_count": 121,
      "outputs": [
        {
          "output_type": "execute_result",
          "data": {
            "text/plain": [
              "Text(0.5, 0, 'Next 200 Hours')"
            ]
          },
          "metadata": {
            "tags": []
          },
          "execution_count": 121
        },
        {
          "output_type": "display_data",
          "data": {
            "image/png": "[encoded data removed]",
            "text/plain": [
              "<Figure size 432x288 with 1 Axes>"
            ]
          },
          "metadata": {
            "tags": []
          }
        }
      ]
    },
    {
      "metadata": {
        "id": "QrzCpSLoqsqg",
        "colab_type": "text"
      },
      "cell_type": "markdown",
      "source": [
        "##Fully Connected Deep Neural Network using Smart meters"
      ]
    },
    {
      "metadata": {
        "id": "FN-kDdjx7aEe",
        "colab_type": "code",
        "colab": {}
      },
      "cell_type": "code",
      "source": [
        "X= m12h.iloc[:,1:].values\n",
        "y= m12h.iloc[:,0].values\n",
        "from sklearn.model_selection import train_test_split\n",
        "X_train, X_test, y_train, y_test = train_test_split(X, y, test_size = 0.2, random_state = 0)\n"
      ],
      "execution_count": 0,
      "outputs": []
    },
    {
      "metadata": {
        "id": "c8qFzIQZ7qtc",
        "colab_type": "code",
        "outputId": "61007568-851f-4dd7-8c15-21539acf8b27",
        "colab": {
          "base_uri": "https://localhost:8080/",
          "height": 115
        }
      },
      "cell_type": "code",
      "source": [
        "model = Sequential()\n",
        "model.add(Dense(output_dim = 20, init = 'uniform', activation = 'relu', input_dim = 22))\n",
        "model.add(Dense(output_dim = 35, init = 'uniform', activation = 'relu'))\n",
        "model.add(Dense(output_dim = 1, init = 'uniform', activation = 'linear'))\n",
        "model.compile(optimizer = 'adam', loss = 'mean_absolute_error', metrics = ['mean_absolute_error'])\n"
      ],
      "execution_count": 72,
      "outputs": [
        {
          "output_type": "stream",
          "text": [
            "/usr/local/lib/python3.6/dist-packages/ipykernel_launcher.py:2: UserWarning: Update your `Dense` call to the Keras 2 API: `Dense(activation=\"relu\", input_dim=22, units=20, kernel_initializer=\"uniform\")`\n",
            "  \n",
            "/usr/local/lib/python3.6/dist-packages/ipykernel_launcher.py:3: UserWarning: Update your `Dense` call to the Keras 2 API: `Dense(activation=\"relu\", units=35, kernel_initializer=\"uniform\")`\n",
            "  This is separate from the ipykernel package so we can avoid doing imports until\n",
            "/usr/local/lib/python3.6/dist-packages/ipykernel_launcher.py:4: UserWarning: Update your `Dense` call to the Keras 2 API: `Dense(activation=\"linear\", units=1, kernel_initializer=\"uniform\")`\n",
            "  after removing the cwd from sys.path.\n"
          ],
          "name": "stderr"
        }
      ]
    },
    {
      "metadata": {
        "id": "UDsd41Gz7tzV",
        "colab_type": "code",
        "outputId": "d46c6b90-83aa-4076-de90-2683b461e855",
        "colab": {
          "base_uri": "https://localhost:8080/",
          "height": 391
        }
      },
      "cell_type": "code",
      "source": [
        "model.fit(X_train, y_train, batch_size = 6, nb_epoch = 10, shuffle=0)\n"
      ],
      "execution_count": 73,
      "outputs": [
        {
          "output_type": "stream",
          "text": [
            "/usr/local/lib/python3.6/dist-packages/ipykernel_launcher.py:1: UserWarning: The `nb_epoch` argument in `fit` has been renamed `epochs`.\n",
            "  \"\"\"Entry point for launching an IPython kernel.\n"
          ],
          "name": "stderr"
        },
        {
          "output_type": "stream",
          "text": [
            "Epoch 1/10\n",
            "557/557 [==============================] - 0s 612us/step - loss: 0.9777 - mean_absolute_error: 0.9777\n",
            "Epoch 2/10\n",
            "557/557 [==============================] - 0s 177us/step - loss: 0.2631 - mean_absolute_error: 0.2631\n",
            "Epoch 3/10\n",
            "557/557 [==============================] - 0s 173us/step - loss: 0.1406 - mean_absolute_error: 0.1406\n",
            "Epoch 4/10\n",
            "557/557 [==============================] - 0s 185us/step - loss: 0.0750 - mean_absolute_error: 0.0750\n",
            "Epoch 5/10\n",
            "557/557 [==============================] - 0s 175us/step - loss: 0.0264 - mean_absolute_error: 0.0264\n",
            "Epoch 6/10\n",
            "557/557 [==============================] - 0s 180us/step - loss: 0.0179 - mean_absolute_error: 0.0179\n",
            "Epoch 7/10\n",
            "557/557 [==============================] - 0s 175us/step - loss: 0.0120 - mean_absolute_error: 0.0120\n",
            "Epoch 8/10\n",
            "557/557 [==============================] - 0s 177us/step - loss: 0.0131 - mean_absolute_error: 0.0131\n",
            "Epoch 9/10\n",
            "557/557 [==============================] - 0s 183us/step - loss: 0.0142 - mean_absolute_error: 0.0142\n",
            "Epoch 10/10\n",
            "557/557 [==============================] - 0s 173us/step - loss: 0.0152 - mean_absolute_error: 0.0152\n"
          ],
          "name": "stdout"
        },
        {
          "output_type": "execute_result",
          "data": {
            "text/plain": [
              "<keras.callbacks.History at 0x7f566dbbde80>"
            ]
          },
          "metadata": {
            "tags": []
          },
          "execution_count": 73
        }
      ]
    },
    {
      "metadata": {
        "id": "tA0TJyno71V9",
        "colab_type": "code",
        "outputId": "7856a441-c850-4543-aeb0-e76a82cc5734",
        "colab": {
          "base_uri": "https://localhost:8080/",
          "height": 50
        }
      },
      "cell_type": "code",
      "source": [
        "prediction = model.predict(X_test)\n",
        "score = model.evaluate(X_test,y_test,verbose =0)\n",
        "print('Test Loss:', score[0])\n",
        "print('Test accuracy:' , score[1])\n"
      ],
      "execution_count": 74,
      "outputs": [
        {
          "output_type": "stream",
          "text": [
            "Test Loss: 0.010340064311666147\n",
            "Test accuracy: 0.010340064311666147\n"
          ],
          "name": "stdout"
        }
      ]
    },
    {
      "metadata": {
        "id": "H3RSNrJG734t",
        "colab_type": "code",
        "outputId": "c0ee9ac6-08ce-44c2-feb6-cd4ce05ad91b",
        "colab": {
          "base_uri": "https://localhost:8080/",
          "height": 311
        }
      },
      "cell_type": "code",
      "source": [
        "plt.figure(1)\n",
        "plt.plot(y_test,label='true',color = 'black')\n",
        "plt.plot(prediction,label='prediction',color = 'green')\n",
        "plt.legend(loc='upper left')\n",
        "plt.title('Total Energy Consumption')\n",
        "plt.ylabel('kWh') \n",
        "plt.xlabel('2019 - 2035')"
      ],
      "execution_count": 75,
      "outputs": [
        {
          "output_type": "execute_result",
          "data": {
            "text/plain": [
              "Text(0.5, 0, '2019 - 2035')"
            ]
          },
          "metadata": {
            "tags": []
          },
          "execution_count": 75
        },
        {
          "output_type": "display_data",
          "data": {
            "image/png": "[encoded data removed]",
            "text/plain": [
              "<Figure size 432x288 with 1 Axes>"
            ]
          },
          "metadata": {
            "tags": []
          }
        }
      ]
    },
    {
      "metadata": {
        "id": "gTd3NAzl_5o7",
        "colab_type": "code",
        "outputId": "b6d0c4b9-070c-45da-c027-c74146e0674e",
        "colab": {
          "base_uri": "https://localhost:8080/",
          "height": 472
        }
      },
      "cell_type": "code",
      "source": [
        "df.info()\n"
      ],
      "execution_count": 76,
      "outputs": [
        {
          "output_type": "stream",
          "text": [
            "<class 'pandas.core.frame.DataFrame'>\n",
            "DatetimeIndex: 501847 entries, 2016-01-01 00:00:00 to 2016-12-31 23:59:00\n",
            "Data columns (total 23 columns):\n",
            "Usage [kW]                  501847 non-null float64\n",
            "Generation [kW]             501847 non-null float64\n",
            "WaterHeater [kW]            501847 non-null float64\n",
            "Solar [kW]                  501847 non-null float64\n",
            "Refrigerator [kW]           501847 non-null float64\n",
            "Microwave [kW]              501847 non-null float64\n",
            "Furnace [kW]                501847 non-null float64\n",
            "WaterHeater3 [kW]           501847 non-null float64\n",
            "WaterHeater2 [kW]           501847 non-null float64\n",
            "WaterHeater1 [kW]           501847 non-null float64\n",
            "Master_Bdrm [kW]            501847 non-null float64\n",
            "Front_Bdrm [kW]             501847 non-null float64\n",
            "Kit_StoveWall [kW]          501847 non-null float64\n",
            "Dishwasher_Disposal [kW]    501847 non-null float64\n",
            "Kit_SinkWall [kW]           501847 non-null float64\n",
            "Family_Rm [kW]              501847 non-null float64\n",
            "Kit_Half-Bath_Foyer [kW]    501847 non-null float64\n",
            "Washing_Machine [kW]        501847 non-null float64\n",
            "Guest_Bdrm_SmkDet [kW]      501847 non-null float64\n",
            "Dryer [kW]                  501847 non-null float64\n",
            "Basement [kW]               501847 non-null float64\n",
            "Phase_B [kW]                501847 non-null float64\n",
            "Phase_A [kW]                501847 non-null float64\n",
            "dtypes: float64(23)\n",
            "memory usage: 91.9 MB\n"
          ],
          "name": "stdout"
        }
      ]
    },
    {
      "metadata": {
        "id": "rYMHyOLg_8ZI",
        "colab_type": "code",
        "outputId": "f1e7b8e2-280c-4104-d395-a7313dea8a49",
        "colab": {
          "base_uri": "https://localhost:8080/",
          "height": 407
        }
      },
      "cell_type": "code",
      "source": [
        "df.dtypes\n"
      ],
      "execution_count": 77,
      "outputs": [
        {
          "output_type": "execute_result",
          "data": {
            "text/plain": [
              "Usage [kW]                  float64\n",
              "Generation [kW]             float64\n",
              "WaterHeater [kW]            float64\n",
              "Solar [kW]                  float64\n",
              "Refrigerator [kW]           float64\n",
              "Microwave [kW]              float64\n",
              "Furnace [kW]                float64\n",
              "WaterHeater3 [kW]           float64\n",
              "WaterHeater2 [kW]           float64\n",
              "WaterHeater1 [kW]           float64\n",
              "Master_Bdrm [kW]            float64\n",
              "Front_Bdrm [kW]             float64\n",
              "Kit_StoveWall [kW]          float64\n",
              "Dishwasher_Disposal [kW]    float64\n",
              "Kit_SinkWall [kW]           float64\n",
              "Family_Rm [kW]              float64\n",
              "Kit_Half-Bath_Foyer [kW]    float64\n",
              "Washing_Machine [kW]        float64\n",
              "Guest_Bdrm_SmkDet [kW]      float64\n",
              "Dryer [kW]                  float64\n",
              "Basement [kW]               float64\n",
              "Phase_B [kW]                float64\n",
              "Phase_A [kW]                float64\n",
              "dtype: object"
            ]
          },
          "metadata": {
            "tags": []
          },
          "execution_count": 77
        }
      ]
    },
    {
      "metadata": {
        "id": "uczAMYunAVAM",
        "colab_type": "code",
        "outputId": "b761dff9-d8bd-4650-c464-56bd626b8058",
        "colab": {
          "base_uri": "https://localhost:8080/",
          "height": 357
        }
      },
      "cell_type": "code",
      "source": [
        "df.describe(include = 'all')"
      ],
      "execution_count": 78,
      "outputs": [
        {
          "output_type": "execute_result",
          "data": {
            "text/html": [
              "<div>\n",
              "<style scoped>\n",
              "    .dataframe tbody tr th:only-of-type {\n",
              "        vertical-align: middle;\n",
              "    }\n",
              "\n",
              "    .dataframe tbody tr th {\n",
              "        vertical-align: top;\n",
              "    }\n",
              "\n",
              "    .dataframe thead th {\n",
              "        text-align: right;\n",
              "    }\n",
              "</style>\n",
              "<table border=\"1\" class=\"dataframe\">\n",
              "  <thead>\n",
              "    <tr style=\"text-align: right;\">\n",
              "      <th></th>\n",
              "      <th>Usage [kW]</th>\n",
              "      <th>Generation [kW]</th>\n",
              "      <th>WaterHeater [kW]</th>\n",
              "      <th>Solar [kW]</th>\n",
              "      <th>Refrigerator [kW]</th>\n",
              "      <th>Microwave [kW]</th>\n",
              "      <th>Furnace [kW]</th>\n",
              "      <th>WaterHeater3 [kW]</th>\n",
              "      <th>WaterHeater2 [kW]</th>\n",
              "      <th>WaterHeater1 [kW]</th>\n",
              "      <th>...</th>\n",
              "      <th>Dishwasher_Disposal [kW]</th>\n",
              "      <th>Kit_SinkWall [kW]</th>\n",
              "      <th>Family_Rm [kW]</th>\n",
              "      <th>Kit_Half-Bath_Foyer [kW]</th>\n",
              "      <th>Washing_Machine [kW]</th>\n",
              "      <th>Guest_Bdrm_SmkDet [kW]</th>\n",
              "      <th>Dryer [kW]</th>\n",
              "      <th>Basement [kW]</th>\n",
              "      <th>Phase_B [kW]</th>\n",
              "      <th>Phase_A [kW]</th>\n",
              "    </tr>\n",
              "  </thead>\n",
              "  <tbody>\n",
              "    <tr>\n",
              "      <th>count</th>\n",
              "      <td>501847.000000</td>\n",
              "      <td>501847.000000</td>\n",
              "      <td>501847.000000</td>\n",
              "      <td>501847.000000</td>\n",
              "      <td>501847.000000</td>\n",
              "      <td>501847.000000</td>\n",
              "      <td>501847.000000</td>\n",
              "      <td>501847.000000</td>\n",
              "      <td>501847.000000</td>\n",
              "      <td>501847.000000</td>\n",
              "      <td>...</td>\n",
              "      <td>501847.000000</td>\n",
              "      <td>501847.000000</td>\n",
              "      <td>501847.000000</td>\n",
              "      <td>501847.000000</td>\n",
              "      <td>501847.000000</td>\n",
              "      <td>501847.000000</td>\n",
              "      <td>501847.000000</td>\n",
              "      <td>501847.000000</td>\n",
              "      <td>501847.000000</td>\n",
              "      <td>501847.000000</td>\n",
              "    </tr>\n",
              "    <tr>\n",
              "      <th>mean</th>\n",
              "      <td>1.595030</td>\n",
              "      <td>1.538073</td>\n",
              "      <td>0.152305</td>\n",
              "      <td>1.538073</td>\n",
              "      <td>0.078068</td>\n",
              "      <td>0.008811</td>\n",
              "      <td>0.100203</td>\n",
              "      <td>0.003359</td>\n",
              "      <td>0.039850</td>\n",
              "      <td>0.109341</td>\n",
              "      <td>...</td>\n",
              "      <td>0.015095</td>\n",
              "      <td>0.009627</td>\n",
              "      <td>0.297310</td>\n",
              "      <td>0.018144</td>\n",
              "      <td>0.008968</td>\n",
              "      <td>0.061668</td>\n",
              "      <td>0.074240</td>\n",
              "      <td>0.035895</td>\n",
              "      <td>0.706814</td>\n",
              "      <td>0.888217</td>\n",
              "    </tr>\n",
              "    <tr>\n",
              "      <th>std</th>\n",
              "      <td>1.935277</td>\n",
              "      <td>2.532211</td>\n",
              "      <td>1.273914</td>\n",
              "      <td>2.532211</td>\n",
              "      <td>0.076331</td>\n",
              "      <td>0.063215</td>\n",
              "      <td>0.189447</td>\n",
              "      <td>0.083690</td>\n",
              "      <td>0.452824</td>\n",
              "      <td>0.842254</td>\n",
              "      <td>...</td>\n",
              "      <td>0.117753</td>\n",
              "      <td>0.026043</td>\n",
              "      <td>0.263846</td>\n",
              "      <td>0.011305</td>\n",
              "      <td>0.056406</td>\n",
              "      <td>0.115428</td>\n",
              "      <td>0.526778</td>\n",
              "      <td>0.053745</td>\n",
              "      <td>0.972401</td>\n",
              "      <td>1.009244</td>\n",
              "    </tr>\n",
              "    <tr>\n",
              "      <th>min</th>\n",
              "      <td>0.000000</td>\n",
              "      <td>0.000000</td>\n",
              "      <td>0.000000</td>\n",
              "      <td>0.000000</td>\n",
              "      <td>0.000000</td>\n",
              "      <td>0.000000</td>\n",
              "      <td>0.001950</td>\n",
              "      <td>0.000000</td>\n",
              "      <td>0.000000</td>\n",
              "      <td>0.000000</td>\n",
              "      <td>...</td>\n",
              "      <td>0.000000</td>\n",
              "      <td>0.000000</td>\n",
              "      <td>0.000000</td>\n",
              "      <td>0.000000</td>\n",
              "      <td>0.000000</td>\n",
              "      <td>0.000000</td>\n",
              "      <td>0.000000</td>\n",
              "      <td>0.000000</td>\n",
              "      <td>0.000000</td>\n",
              "      <td>0.000000</td>\n",
              "    </tr>\n",
              "    <tr>\n",
              "      <th>25%</th>\n",
              "      <td>0.467817</td>\n",
              "      <td>0.009900</td>\n",
              "      <td>0.001000</td>\n",
              "      <td>0.009900</td>\n",
              "      <td>0.001350</td>\n",
              "      <td>0.002483</td>\n",
              "      <td>0.008683</td>\n",
              "      <td>0.000333</td>\n",
              "      <td>0.000100</td>\n",
              "      <td>0.000733</td>\n",
              "      <td>...</td>\n",
              "      <td>0.000183</td>\n",
              "      <td>0.006067</td>\n",
              "      <td>0.046900</td>\n",
              "      <td>0.015333</td>\n",
              "      <td>0.002000</td>\n",
              "      <td>0.031700</td>\n",
              "      <td>0.002450</td>\n",
              "      <td>0.024033</td>\n",
              "      <td>0.179233</td>\n",
              "      <td>0.207000</td>\n",
              "    </tr>\n",
              "    <tr>\n",
              "      <th>50%</th>\n",
              "      <td>0.924267</td>\n",
              "      <td>0.011533</td>\n",
              "      <td>0.002400</td>\n",
              "      <td>0.011533</td>\n",
              "      <td>0.102850</td>\n",
              "      <td>0.002700</td>\n",
              "      <td>0.010217</td>\n",
              "      <td>0.000567</td>\n",
              "      <td>0.000200</td>\n",
              "      <td>0.001633</td>\n",
              "      <td>...</td>\n",
              "      <td>0.000367</td>\n",
              "      <td>0.007000</td>\n",
              "      <td>0.077700</td>\n",
              "      <td>0.016200</td>\n",
              "      <td>0.002267</td>\n",
              "      <td>0.041983</td>\n",
              "      <td>0.002717</td>\n",
              "      <td>0.026083</td>\n",
              "      <td>0.273100</td>\n",
              "      <td>0.659667</td>\n",
              "    </tr>\n",
              "    <tr>\n",
              "      <th>75%</th>\n",
              "      <td>1.598417</td>\n",
              "      <td>1.964483</td>\n",
              "      <td>0.004767</td>\n",
              "      <td>1.964483</td>\n",
              "      <td>0.144650</td>\n",
              "      <td>0.002933</td>\n",
              "      <td>0.012500</td>\n",
              "      <td>0.001333</td>\n",
              "      <td>0.000433</td>\n",
              "      <td>0.003100</td>\n",
              "      <td>...</td>\n",
              "      <td>0.000600</td>\n",
              "      <td>0.007533</td>\n",
              "      <td>0.550350</td>\n",
              "      <td>0.016883</td>\n",
              "      <td>0.002550</td>\n",
              "      <td>0.052833</td>\n",
              "      <td>0.003200</td>\n",
              "      <td>0.027367</td>\n",
              "      <td>0.806633</td>\n",
              "      <td>1.000883</td>\n",
              "    </tr>\n",
              "    <tr>\n",
              "      <th>max</th>\n",
              "      <td>30.446150</td>\n",
              "      <td>10.270667</td>\n",
              "      <td>24.938767</td>\n",
              "      <td>10.270667</td>\n",
              "      <td>1.219017</td>\n",
              "      <td>2.306883</td>\n",
              "      <td>0.598767</td>\n",
              "      <td>8.357500</td>\n",
              "      <td>9.016400</td>\n",
              "      <td>9.380833</td>\n",
              "      <td>...</td>\n",
              "      <td>1.190850</td>\n",
              "      <td>1.549433</td>\n",
              "      <td>1.806917</td>\n",
              "      <td>0.139583</td>\n",
              "      <td>1.251383</td>\n",
              "      <td>1.604683</td>\n",
              "      <td>6.718167</td>\n",
              "      <td>1.429500</td>\n",
              "      <td>14.754817</td>\n",
              "      <td>16.034967</td>\n",
              "    </tr>\n",
              "  </tbody>\n",
              "</table>\n",
              "<p>8 rows × 23 columns</p>\n",
              "</div>"
            ],
            "text/plain": [
              "          Usage [kW]  Generation [kW]  WaterHeater [kW]     Solar [kW]  \\\n",
              "count  501847.000000    501847.000000     501847.000000  501847.000000   \n",
              "mean        1.595030         1.538073          0.152305       1.538073   \n",
              "std         1.935277         2.532211          1.273914       2.532211   \n",
              "min         0.000000         0.000000          0.000000       0.000000   \n",
              "25%         0.467817         0.009900          0.001000       0.009900   \n",
              "50%         0.924267         0.011533          0.002400       0.011533   \n",
              "75%         1.598417         1.964483          0.004767       1.964483   \n",
              "max        30.446150        10.270667         24.938767      10.270667   \n",
              "\n",
              "       Refrigerator [kW]  Microwave [kW]   Furnace [kW]  WaterHeater3 [kW]  \\\n",
              "count      501847.000000   501847.000000  501847.000000      501847.000000   \n",
              "mean            0.078068        0.008811       0.100203           0.003359   \n",
              "std             0.076331        0.063215       0.189447           0.083690   \n",
              "min             0.000000        0.000000       0.001950           0.000000   \n",
              "25%             0.001350        0.002483       0.008683           0.000333   \n",
              "50%             0.102850        0.002700       0.010217           0.000567   \n",
              "75%             0.144650        0.002933       0.012500           0.001333   \n",
              "max             1.219017        2.306883       0.598767           8.357500   \n",
              "\n",
              "       WaterHeater2 [kW]  WaterHeater1 [kW]      ...        \\\n",
              "count      501847.000000      501847.000000      ...         \n",
              "mean            0.039850           0.109341      ...         \n",
              "std             0.452824           0.842254      ...         \n",
              "min             0.000000           0.000000      ...         \n",
              "25%             0.000100           0.000733      ...         \n",
              "50%             0.000200           0.001633      ...         \n",
              "75%             0.000433           0.003100      ...         \n",
              "max             9.016400           9.380833      ...         \n",
              "\n",
              "       Dishwasher_Disposal [kW]  Kit_SinkWall [kW]  Family_Rm [kW]  \\\n",
              "count             501847.000000      501847.000000   501847.000000   \n",
              "mean                   0.015095           0.009627        0.297310   \n",
              "std                    0.117753           0.026043        0.263846   \n",
              "min                    0.000000           0.000000        0.000000   \n",
              "25%                    0.000183           0.006067        0.046900   \n",
              "50%                    0.000367           0.007000        0.077700   \n",
              "75%                    0.000600           0.007533        0.550350   \n",
              "max                    1.190850           1.549433        1.806917   \n",
              "\n",
              "       Kit_Half-Bath_Foyer [kW]  Washing_Machine [kW]  Guest_Bdrm_SmkDet [kW]  \\\n",
              "count             501847.000000         501847.000000           501847.000000   \n",
              "mean                   0.018144              0.008968                0.061668   \n",
              "std                    0.011305              0.056406                0.115428   \n",
              "min                    0.000000              0.000000                0.000000   \n",
              "25%                    0.015333              0.002000                0.031700   \n",
              "50%                    0.016200              0.002267                0.041983   \n",
              "75%                    0.016883              0.002550                0.052833   \n",
              "max                    0.139583              1.251383                1.604683   \n",
              "\n",
              "          Dryer [kW]  Basement [kW]   Phase_B [kW]   Phase_A [kW]  \n",
              "count  501847.000000  501847.000000  501847.000000  501847.000000  \n",
              "mean        0.074240       0.035895       0.706814       0.888217  \n",
              "std         0.526778       0.053745       0.972401       1.009244  \n",
              "min         0.000000       0.000000       0.000000       0.000000  \n",
              "25%         0.002450       0.024033       0.179233       0.207000  \n",
              "50%         0.002717       0.026083       0.273100       0.659667  \n",
              "75%         0.003200       0.027367       0.806633       1.000883  \n",
              "max         6.718167       1.429500      14.754817      16.034967  \n",
              "\n",
              "[8 rows x 23 columns]"
            ]
          },
          "metadata": {
            "tags": []
          },
          "execution_count": 78
        }
      ]
    },
    {
      "metadata": {
        "id": "NEfjJONnAXvc",
        "colab_type": "code",
        "outputId": "15a6d49a-1b76-4da1-cb92-395214bd2dc6",
        "colab": {
          "base_uri": "https://localhost:8080/",
          "height": 306
        }
      },
      "cell_type": "code",
      "source": [
        "r = df['Usage [kW]'].resample('D').agg(['mean', 'std'])\n",
        "r.plot(subplots = True, title='Energy Usage Over the day')\n",
        "plt.show()\n"
      ],
      "execution_count": 79,
      "outputs": [
        {
          "output_type": "display_data",
          "data": {
            "image/png": "[encoded data removed]",
            "text/plain": [
              "<Figure size 432x288 with 2 Axes>"
            ]
          },
          "metadata": {
            "tags": []
          }
        }
      ]
    },
    {
      "metadata": {
        "id": "bxm52VqYAwT9",
        "colab_type": "code",
        "outputId": "e9781fe2-2ee7-4209-963d-412a7803fcea",
        "colab": {
          "base_uri": "https://localhost:8080/",
          "height": 371
        }
      },
      "cell_type": "code",
      "source": [
        "df['Usage [kW]'].resample('M').mean().plot(kind='bar')\n",
        "plt.xticks(rotation=60)\n",
        "plt.ylabel('Global_active_power')\n",
        "plt.title('Global_active_power per month (averaged over month)')\n",
        "plt.show()\n"
      ],
      "execution_count": 80,
      "outputs": [
        {
          "output_type": "display_data",
          "data": {
            "image/png": "[encoded data removed]",
            "text/plain": [
              "<Figure size 432x288 with 1 Axes>"
            ]
          },
          "metadata": {
            "tags": []
          }
        }
      ]
    },
    {
      "metadata": {
        "id": "gsrp9_wcBHMO",
        "colab_type": "code",
        "outputId": "baba04e5-51c6-4478-93cc-9731fb8e0445",
        "colab": {
          "base_uri": "https://localhost:8080/",
          "height": 265
        }
      },
      "cell_type": "code",
      "source": [
        "df['Usage [kW]'].resample('M').mean().plot(kind='hist', color='r', legend=True )\n",
        "df['Generation [kW]'].resample('M').mean().plot(kind='hist',color='b', legend=True)\n",
        "#df.Voltage.resample('M').sum().plot(kind='hist',color='g', legend=True)\n",
        "df['WaterHeater [kW]'].resample('M').mean().plot(kind='hist', color='g', legend=True)\n",
        "df['Phase_A [kW]'].resample('M').mean().plot(kind='hist', color='y', legend=True)\n",
        "plt.show()\n"
      ],
      "execution_count": 81,
      "outputs": [
        {
          "output_type": "display_data",
          "data": {
            "image/png": "[encoded data removed]",
            "text/plain": [
              "<Figure size 432x288 with 1 Axes>"
            ]
          },
          "metadata": {
            "tags": []
          }
        }
      ]
    },
    {
      "metadata": {
        "id": "oMcOQ8zFB3-4",
        "colab_type": "text"
      },
      "cell_type": "markdown",
      "source": [
        "##### The correlations between 'Usage', 'Generation'\n"
      ]
    },
    {
      "metadata": {
        "id": "XTdAKLgjCF3_",
        "colab_type": "code",
        "colab": {}
      },
      "cell_type": "code",
      "source": [
        "import seaborn as sns"
      ],
      "execution_count": 0,
      "outputs": []
    },
    {
      "metadata": {
        "id": "y0FpmIe3BaN2",
        "colab_type": "code",
        "colab": {}
      },
      "cell_type": "code",
      "source": [
        "#data_returns = df.pct_change()\n",
        "#sns.jointplot(x='Usage [kW]', y='Generation [kW]', data=data_returns)  \n",
        "\n",
        "#plt.show()\n"
      ],
      "execution_count": 0,
      "outputs": []
    },
    {
      "metadata": {
        "id": "9JoHbtz2-PVL",
        "colab_type": "code",
        "colab": {}
      },
      "cell_type": "code",
      "source": [
        ""
      ],
      "execution_count": 0,
      "outputs": []
    },
    {
      "metadata": {
        "id": "rdC3Mxv2B3zz",
        "colab_type": "text"
      },
      "cell_type": "markdown",
      "source": [
        "#LSTM"
      ]
    },
    {
      "metadata": {
        "id": "xoiD85mdxmll",
        "colab_type": "text"
      },
      "cell_type": "markdown",
      "source": [
        "LSTM with 100 neurons in the first visible layer\n",
        "The final output is the Energy usage \n",
        "Start"
      ]
    },
    {
      "metadata": {
        "id": "-uwz3NSZPCiJ",
        "colab_type": "text"
      },
      "cell_type": "markdown",
      "source": [
        "##LSTM Data Preparation"
      ]
    },
    {
      "metadata": {
        "id": "GAFB84UhQtMQ",
        "colab_type": "text"
      },
      "cell_type": "markdown",
      "source": [
        "Scaling:"
      ]
    },
    {
      "metadata": {
        "id": "nd6vt7ZnytSC",
        "colab_type": "code",
        "colab": {}
      },
      "cell_type": "code",
      "source": [
        "split = 24*20\n",
        "#Train\n",
        "X_train = m12h.iloc[:split,4:-2].values\n",
        "y_train = m12h.iloc[:split,0].values\n",
        "#Test\n",
        "X_test = m12h.iloc[split:,4:-2].values\n",
        "y_test = m12h.iloc[split:,0].values\n"
      ],
      "execution_count": 0,
      "outputs": []
    },
    {
      "metadata": {
        "id": "Ewkd81AJYSbe",
        "colab_type": "code",
        "outputId": "f4f0d1d3-ec07-421a-ad61-b47eb5edfed8",
        "colab": {
          "base_uri": "https://localhost:8080/",
          "height": 51
        }
      },
      "cell_type": "code",
      "source": [
        "print('y_test:', y_test.shape)\n",
        "print('X_train:' , X_train.shape)\n"
      ],
      "execution_count": 84,
      "outputs": [
        {
          "output_type": "stream",
          "text": [
            "y_test: (217,)\n",
            "X_train: (480, 17)\n"
          ],
          "name": "stdout"
        }
      ]
    },
    {
      "metadata": {
        "id": "ji0OXcdDQZVA",
        "colab_type": "code",
        "colab": {}
      },
      "cell_type": "code",
      "source": [
        "X_train = np.reshape(X_train, (X_train.shape[0], X_train.shape[1], 1))\n",
        "X_test = np.reshape(X_test, (X_test.shape[0], X_test.shape[1], 1))\n"
      ],
      "execution_count": 0,
      "outputs": []
    },
    {
      "metadata": {
        "id": "oaod7do1TjU_",
        "colab_type": "text"
      },
      "cell_type": "markdown",
      "source": [
        "##Model:"
      ]
    },
    {
      "metadata": {
        "id": "dx_cHwCiJLGd",
        "colab_type": "code",
        "outputId": "ff0014e0-ee36-4a48-a7c7-daee6c881775",
        "colab": {
          "base_uri": "https://localhost:8080/",
          "height": 33
        }
      },
      "cell_type": "code",
      "source": [
        "X_train.shape"
      ],
      "execution_count": 86,
      "outputs": [
        {
          "output_type": "execute_result",
          "data": {
            "text/plain": [
              "(480, 17, 1)"
            ]
          },
          "metadata": {
            "tags": []
          },
          "execution_count": 86
        }
      ]
    },
    {
      "metadata": {
        "id": "uaTAN3RUThhu",
        "colab_type": "code",
        "colab": {}
      },
      "cell_type": "code",
      "source": [
        "model = Sequential()\n",
        "layers = [1, 50,100, 1]\n"
      ],
      "execution_count": 0,
      "outputs": []
    },
    {
      "metadata": {
        "id": "gp1Bjv3RTo_2",
        "colab_type": "code",
        "colab": {
          "base_uri": "https://localhost:8080/",
          "height": 66
        },
        "outputId": "40dcff38-0130-4a58-eb62-2385d918ec86"
      },
      "cell_type": "code",
      "source": [
        "model.add(LSTM(layers[1],input_shape=(None, layers[0]),return_sequences=True))\n",
        "model.add(Dropout(0.2))\n",
        "model.add(LSTM(layers[2],return_sequences=False))\n",
        "model.add(Dropout(0.2))\n",
        "model.add(Dense(layers[3]))\n",
        "model.add(Activation(\"linear\"))\n",
        "model.compile(loss=\"mse\", optimizer=\"rmsprop\",metrics=['accuracy'])\n"
      ],
      "execution_count": 88,
      "outputs": [
        {
          "output_type": "stream",
          "text": [
            "WARNING:tensorflow:From /usr/local/lib/python3.6/dist-packages/keras/backend/tensorflow_backend.py:3445: calling dropout (from tensorflow.python.ops.nn_ops) with keep_prob is deprecated and will be removed in a future version.\n",
            "Instructions for updating:\n",
            "Please use `rate` instead of `keep_prob`. Rate should be set to `rate = 1 - keep_prob`.\n"
          ],
          "name": "stdout"
        }
      ]
    },
    {
      "metadata": {
        "id": "KK3Ospgw-DTz",
        "colab_type": "code",
        "outputId": "51daf183-8953-4cda-e159-9df6d3d925fc",
        "colab": {
          "base_uri": "https://localhost:8080/",
          "height": 326
        }
      },
      "cell_type": "code",
      "source": [
        "model.summary()"
      ],
      "execution_count": 89,
      "outputs": [
        {
          "output_type": "stream",
          "text": [
            "_________________________________________________________________\n",
            "Layer (type)                 Output Shape              Param #   \n",
            "=================================================================\n",
            "lstm_1 (LSTM)                (None, None, 50)          10400     \n",
            "_________________________________________________________________\n",
            "dropout_1 (Dropout)          (None, None, 50)          0         \n",
            "_________________________________________________________________\n",
            "lstm_2 (LSTM)                (None, 100)               60400     \n",
            "_________________________________________________________________\n",
            "dropout_2 (Dropout)          (None, 100)               0         \n",
            "_________________________________________________________________\n",
            "dense_13 (Dense)             (None, 1)                 101       \n",
            "_________________________________________________________________\n",
            "activation_1 (Activation)    (None, 1)                 0         \n",
            "=================================================================\n",
            "Total params: 70,901\n",
            "Trainable params: 70,901\n",
            "Non-trainable params: 0\n",
            "_________________________________________________________________\n"
          ],
          "name": "stdout"
        }
      ]
    },
    {
      "metadata": {
        "id": "8kLKDySxUjne",
        "colab_type": "code",
        "colab": {}
      },
      "cell_type": "code",
      "source": [
        "epochs = 10\n"
      ],
      "execution_count": 0,
      "outputs": []
    },
    {
      "metadata": {
        "id": "id30f6ljUSgP",
        "colab_type": "code",
        "outputId": "874359da-0591-4b36-d2ba-954b78565586",
        "colab": {
          "base_uri": "https://localhost:8080/",
          "height": 407
        }
      },
      "cell_type": "code",
      "source": [
        "model.fit(X_train, y_train,batch_size=16, nb_epoch=epochs, validation_split=0.05)"
      ],
      "execution_count": 91,
      "outputs": [
        {
          "output_type": "stream",
          "text": [
            "/usr/local/lib/python3.6/dist-packages/ipykernel_launcher.py:1: UserWarning: The `nb_epoch` argument in `fit` has been renamed `epochs`.\n",
            "  \"\"\"Entry point for launching an IPython kernel.\n"
          ],
          "name": "stderr"
        },
        {
          "output_type": "stream",
          "text": [
            "Train on 456 samples, validate on 24 samples\n",
            "Epoch 1/10\n",
            "456/456 [==============================] - 2s 4ms/step - loss: 1.7509 - acc: 0.0000e+00 - val_loss: 2.4528 - val_acc: 0.0000e+00\n",
            "Epoch 2/10\n",
            "456/456 [==============================] - 1s 1ms/step - loss: 1.3754 - acc: 0.0000e+00 - val_loss: 2.1133 - val_acc: 0.0000e+00\n",
            "Epoch 3/10\n",
            "456/456 [==============================] - 1s 2ms/step - loss: 1.2464 - acc: 0.0000e+00 - val_loss: 1.8316 - val_acc: 0.0000e+00\n",
            "Epoch 4/10\n",
            "456/456 [==============================] - 1s 2ms/step - loss: 1.1628 - acc: 0.0000e+00 - val_loss: 2.2078 - val_acc: 0.0000e+00\n",
            "Epoch 5/10\n",
            "456/456 [==============================] - 1s 1ms/step - loss: 1.0919 - acc: 0.0000e+00 - val_loss: 1.8113 - val_acc: 0.0000e+00\n",
            "Epoch 6/10\n",
            "456/456 [==============================] - 1s 1ms/step - loss: 1.1250 - acc: 0.0000e+00 - val_loss: 1.9443 - val_acc: 0.0000e+00\n",
            "Epoch 7/10\n",
            "456/456 [==============================] - 1s 1ms/step - loss: 1.1148 - acc: 0.0000e+00 - val_loss: 1.7128 - val_acc: 0.0000e+00\n",
            "Epoch 8/10\n",
            "456/456 [==============================] - 1s 1ms/step - loss: 1.0567 - acc: 0.0000e+00 - val_loss: 2.1009 - val_acc: 0.0000e+00\n",
            "Epoch 9/10\n",
            "456/456 [==============================] - 1s 1ms/step - loss: 1.0751 - acc: 0.0000e+00 - val_loss: 1.9331 - val_acc: 0.0000e+00\n",
            "Epoch 10/10\n",
            "456/456 [==============================] - 1s 1ms/step - loss: 1.0609 - acc: 0.0000e+00 - val_loss: 2.1350 - val_acc: 0.0000e+00\n"
          ],
          "name": "stdout"
        },
        {
          "output_type": "execute_result",
          "data": {
            "text/plain": [
              "<keras.callbacks.History at 0x7f56644350b8>"
            ]
          },
          "metadata": {
            "tags": []
          },
          "execution_count": 91
        }
      ]
    },
    {
      "metadata": {
        "id": "tdkKNMPTUxXu",
        "colab_type": "code",
        "outputId": "a05ea677-d899-4769-d641-5998b93f2952",
        "colab": {
          "base_uri": "https://localhost:8080/",
          "height": 50
        }
      },
      "cell_type": "code",
      "source": [
        "prediction = model.predict(X_test)\n",
        "score = model.evaluate(X_test,y_test,verbose =0)\n",
        "print('Test Loss:', score[0])\n",
        "print('Test accuracy:' , score[1])\n"
      ],
      "execution_count": 92,
      "outputs": [
        {
          "output_type": "stream",
          "text": [
            "Test Loss: 0.7974871756843708\n",
            "Test accuracy: 0.0\n"
          ],
          "name": "stdout"
        }
      ]
    },
    {
      "metadata": {
        "id": "Mpge3kVy9nk8",
        "colab_type": "text"
      },
      "cell_type": "markdown",
      "source": [
        "###Graph"
      ]
    },
    {
      "metadata": {
        "id": "vmeorDfmUnYm",
        "colab_type": "code",
        "outputId": "3ffabff9-41f5-4491-f45a-33bcf2fbdae9",
        "colab": {
          "base_uri": "https://localhost:8080/",
          "height": 311
        }
      },
      "cell_type": "code",
      "source": [
        "plt.figure(1)\n",
        "plt.plot(y_test,label='true',color = 'black')\n",
        "plt.plot(prediction,label='prediction',color = 'green')\n",
        "plt.legend(loc='upper left')\n",
        "plt.title('Total Energy Consumption')\n",
        "plt.ylabel('kWh') \n",
        "plt.xlabel('Next 200 Hours')"
      ],
      "execution_count": 93,
      "outputs": [
        {
          "output_type": "execute_result",
          "data": {
            "text/plain": [
              "Text(0.5, 0, 'Next 200 Hours')"
            ]
          },
          "metadata": {
            "tags": []
          },
          "execution_count": 93
        },
        {
          "output_type": "display_data",
          "data": {
            "image/png": "[encoded data removed]",
            "text/plain": [
              "<Figure size 432x288 with 1 Axes>"
            ]
          },
          "metadata": {
            "tags": []
          }
        }
      ]
    },
    {
      "metadata": {
        "id": "SzQs7oCk8WNB",
        "colab_type": "text"
      },
      "cell_type": "markdown",
      "source": [
        "Result shows that this model can predict anytime in future with features on smart meters.  "
      ]
    },
    {
      "metadata": {
        "id": "bVirjO4w8sNF",
        "colab_type": "text"
      },
      "cell_type": "markdown",
      "source": [
        "Since the goal of this research is about prediction under uncertainty.  "
      ]
    },
    {
      "metadata": {
        "id": "whIHDbsojf0m",
        "colab_type": "code",
        "colab": {}
      },
      "cell_type": "code",
      "source": [
        "split = 24*20\n",
        "#Train\n",
        "X_train = m12h.iloc[:split,1:15].values\n",
        "y_train = m12h.iloc[:split,0].values\n",
        "#Test\n",
        "X_test = m12h.iloc[split:,1:15].values\n",
        "y_test = m12h.iloc[split:,0].values\n"
      ],
      "execution_count": 0,
      "outputs": []
    },
    {
      "metadata": {
        "id": "cjjGk0hrjwly",
        "colab_type": "code",
        "outputId": "ee898df4-c72f-4d34-8b01-90f8c36361b3",
        "colab": {
          "base_uri": "https://localhost:8080/",
          "height": 33
        }
      },
      "cell_type": "code",
      "source": [
        "weather.shape"
      ],
      "execution_count": 95,
      "outputs": [
        {
          "output_type": "execute_result",
          "data": {
            "text/plain": [
              "(8760, 13)"
            ]
          },
          "metadata": {
            "tags": []
          },
          "execution_count": 95
        }
      ]
    },
    {
      "metadata": {
        "id": "px2FOgsDldpl",
        "colab_type": "code",
        "outputId": "9f21e82e-c4ea-40d0-e68e-04bd16ce6dd9",
        "colab": {
          "base_uri": "https://localhost:8080/",
          "height": 33
        }
      },
      "cell_type": "code",
      "source": [
        "X_train.shape[0]"
      ],
      "execution_count": 96,
      "outputs": [
        {
          "output_type": "execute_result",
          "data": {
            "text/plain": [
              "480"
            ]
          },
          "metadata": {
            "tags": []
          },
          "execution_count": 96
        }
      ]
    },
    {
      "metadata": {
        "id": "0mZ46dHTkHM2",
        "colab_type": "code",
        "colab": {}
      },
      "cell_type": "code",
      "source": [
        "X_train_Weather = weather[-X_train.shape[0]:]\n",
        "split = 24*20\n",
        "#Train\n",
        "X_train = m12h.iloc[:split,1:].values\n",
        "y_train = m12h.iloc[:split,0].values\n",
        "#Test\n",
        "X_test = m12h.iloc[split:,1:].values\n",
        "y_test = m12h.iloc[split:,0].values\n"
      ],
      "execution_count": 0,
      "outputs": []
    },
    {
      "metadata": {
        "id": "NkConeDgr7wu",
        "colab_type": "text"
      },
      "cell_type": "markdown",
      "source": [
        "## Pure time series model: No features"
      ]
    },
    {
      "metadata": {
        "id": "_sZcADSO2C3P",
        "colab_type": "text"
      },
      "cell_type": "markdown",
      "source": [
        "This would be our base model. Without any features at first. There will be only the one input layer containing the last hour Energy Consumption   \n",
        "And the goal of this model is to predict the following 10 days energy consumption solely based on the time"
      ]
    },
    {
      "metadata": {
        "id": "KiJMEKSm2QgI",
        "colab_type": "text"
      },
      "cell_type": "markdown",
      "source": [
        "We will not "
      ]
    },
    {
      "metadata": {
        "id": "6R8LBqwj3epW",
        "colab_type": "code",
        "colab": {}
      },
      "cell_type": "code",
      "source": [
        "split = 24*20\n",
        "#Train\n",
        "training_set = m12h.iloc[:split,1:2].values\n",
        "test_set = m12h.iloc[split:,1:2].values\n"
      ],
      "execution_count": 0,
      "outputs": []
    },
    {
      "metadata": {
        "id": "n9CSXGvd5LLk",
        "colab_type": "code",
        "outputId": "dccf4a87-9532-4102-ecea-ea3596df8047",
        "colab": {
          "base_uri": "https://localhost:8080/",
          "height": 33
        }
      },
      "cell_type": "code",
      "source": [
        "training_set[0]"
      ],
      "execution_count": 99,
      "outputs": [
        {
          "output_type": "execute_result",
          "data": {
            "text/plain": [
              "array([0.00958722])"
            ]
          },
          "metadata": {
            "tags": []
          },
          "execution_count": 99
        }
      ]
    },
    {
      "metadata": {
        "id": "EiS8J7VD44y1",
        "colab_type": "text"
      },
      "cell_type": "markdown",
      "source": [
        "Lets see what it looks like:"
      ]
    },
    {
      "metadata": {
        "id": "Hm7zhyRllZ8Z",
        "colab_type": "code",
        "outputId": "1cd87dd3-6c06-482a-da21-b1f735671fbc",
        "colab": {
          "base_uri": "https://localhost:8080/",
          "height": 330
        }
      },
      "cell_type": "code",
      "source": [
        "m12h[\"Usage [kW]\"][:split].plot(figsize=(16,4),legend=True)\n",
        "m12h[\"Usage [kW]\"][split:].plot(figsize=(16,4),legend=True)\n",
        "plt.legend(['Training set (First 20 days)','Test set (Last 10 days)'])\n",
        "plt.title('Energy Consumption')\n",
        "plt.show()"
      ],
      "execution_count": 100,
      "outputs": [
        {
          "output_type": "display_data",
          "data": {
            "image/png": "[encoded data removed]",
            "text/plain": [
              "<Figure size 1152x288 with 1 Axes>"
            ]
          },
          "metadata": {
            "tags": []
          }
        }
      ]
    },
    {
      "metadata": {
        "id": "f9RfS33u4_V9",
        "colab_type": "code",
        "colab": {}
      },
      "cell_type": "code",
      "source": [
        "# Scaling the training set\n",
        "sc = MinMaxScaler(feature_range=(0,1))\n",
        "training_set_scaled = sc.fit_transform(training_set)"
      ],
      "execution_count": 0,
      "outputs": []
    },
    {
      "metadata": {
        "id": "52AeYKyt4fRW",
        "colab_type": "text"
      },
      "cell_type": "markdown",
      "source": [
        "Since LSTMs store long term memory state, we create a data structure with 60 timesteps and 1 output   \n",
        "So for each element of training set, we have 60 previous training set elements \n"
      ]
    },
    {
      "metadata": {
        "id": "icXA4iT95dId",
        "colab_type": "code",
        "colab": {}
      },
      "cell_type": "code",
      "source": [
        "X_train = []\n",
        "y_train = []\n",
        "for i in range(80,480):\n",
        "    X_train.append(training_set_scaled[i-80:i,0])\n",
        "    y_train.append(training_set_scaled[i,0])\n",
        "X_train, y_train = np.array(X_train), np.array(y_train)"
      ],
      "execution_count": 0,
      "outputs": []
    },
    {
      "metadata": {
        "id": "2QH3fcTY5iNF",
        "colab_type": "code",
        "colab": {}
      },
      "cell_type": "code",
      "source": [
        "X_train = np.reshape(X_train, (X_train.shape[0],X_train.shape[1],1))"
      ],
      "execution_count": 0,
      "outputs": []
    },
    {
      "metadata": {
        "id": "GzRmnaaR5kud",
        "colab_type": "code",
        "outputId": "a839d0b4-23e4-42b2-bf82-228311654513",
        "colab": {
          "base_uri": "https://localhost:8080/",
          "height": 293
        }
      },
      "cell_type": "code",
      "source": [
        "# The LSTM architecture\n",
        "regressor = Sequential()\n",
        "# First LSTM layer with Dropout regularisation\n",
        "regressor.add(LSTM(units=50, return_sequences=True, input_shape=(X_train.shape[1],1)))\n",
        "regressor.add(Dropout(0.2))\n",
        "# Second LSTM layer\n",
        "regressor.add(LSTM(units=50, return_sequences=True))\n",
        "regressor.add(Dropout(0.2))\n",
        "# Third LSTM layer\n",
        "regressor.add(LSTM(units=50, return_sequences=True))\n",
        "regressor.add(Dropout(0.2))\n",
        "# Fourth LSTM layer\n",
        "regressor.add(LSTM(units=50))\n",
        "regressor.add(Dropout(0.2))\n",
        "# The output layer\n",
        "regressor.add(Dense(units=1))\n",
        "\n",
        "# Compiling the RNN\n",
        "regressor.compile(optimizer='rmsprop',loss='mean_squared_error')\n",
        "# Fitting to the training set\n",
        "regressor.fit(X_train,y_train,epochs=8,batch_size=32)"
      ],
      "execution_count": 104,
      "outputs": [
        {
          "output_type": "stream",
          "text": [
            "Epoch 1/8\n",
            "400/400 [==============================] - 5s 13ms/step - loss: 0.0587\n",
            "Epoch 2/8\n",
            "400/400 [==============================] - 3s 6ms/step - loss: 0.0478\n",
            "Epoch 3/8\n",
            "400/400 [==============================] - 3s 6ms/step - loss: 0.0472\n",
            "Epoch 4/8\n",
            "400/400 [==============================] - 3s 6ms/step - loss: 0.0432\n",
            "Epoch 5/8\n",
            "400/400 [==============================] - 2s 6ms/step - loss: 0.0449\n",
            "Epoch 6/8\n",
            "400/400 [==============================] - 2s 6ms/step - loss: 0.0416\n",
            "Epoch 7/8\n",
            "400/400 [==============================] - 2s 6ms/step - loss: 0.0395\n",
            "Epoch 8/8\n",
            "400/400 [==============================] - 3s 6ms/step - loss: 0.0385\n"
          ],
          "name": "stdout"
        },
        {
          "output_type": "execute_result",
          "data": {
            "text/plain": [
              "<keras.callbacks.History at 0x7f5662a259e8>"
            ]
          },
          "metadata": {
            "tags": []
          },
          "execution_count": 104
        }
      ]
    },
    {
      "metadata": {
        "id": "pQ-hbH6056yT",
        "colab_type": "code",
        "colab": {}
      },
      "cell_type": "code",
      "source": [
        "dataset_total = pd.concat((m12h[\"Usage [kW]\"][:split],m12h[\"Usage [kW]\"][split:]),axis=0)\n",
        "inputs = dataset_total[len(dataset_total)-len(test_set) - 80:].values\n",
        "inputs = inputs.reshape(-1,1)\n",
        "inputs  = sc.transform(inputs)\n"
      ],
      "execution_count": 0,
      "outputs": []
    },
    {
      "metadata": {
        "id": "Y8n_tcfQ6G19",
        "colab_type": "code",
        "colab": {}
      },
      "cell_type": "code",
      "source": [
        "X_test = []\n",
        "for i in range(80,278):\n",
        "    X_test.append(inputs[i-80:i,0])\n",
        "X_test = np.array(X_test)\n",
        "X_test = np.reshape(X_test, (X_test.shape[0],X_test.shape[1],1))\n",
        "predicted_stock_price = regressor.predict(X_test)\n",
        "predicted_stock_price = sc.inverse_transform(predicted_stock_price)"
      ],
      "execution_count": 0,
      "outputs": []
    },
    {
      "metadata": {
        "id": "ZJq92E4M6mwj",
        "colab_type": "code",
        "outputId": "5458fe79-4c5b-4b57-8c26-6677b8c2e279",
        "colab": {
          "base_uri": "https://localhost:8080/",
          "height": 311
        }
      },
      "cell_type": "code",
      "source": [
        "plt.figure(1)\n",
        "plt.plot(test_set,label='true',color = 'black')\n",
        "plt.plot(predicted_stock_price,label='prediction',color = 'green')\n",
        "plt.legend(loc='upper left')\n",
        "plt.title('Total Energy Consumption')\n",
        "plt.ylabel('kWh') \n",
        "plt.xlabel('Next 200 Hours')"
      ],
      "execution_count": 107,
      "outputs": [
        {
          "output_type": "execute_result",
          "data": {
            "text/plain": [
              "Text(0.5, 0, 'Next 200 Hours')"
            ]
          },
          "metadata": {
            "tags": []
          },
          "execution_count": 107
        },
        {
          "output_type": "display_data",
          "data": {
            "image/png": "[encoded data removed]",
            "text/plain": [
              "<Figure size 432x288 with 1 Axes>"
            ]
          },
          "metadata": {
            "tags": []
          }
        }
      ]
    },
    {
      "metadata": {
        "id": "dPdnZztM9yHH",
        "colab_type": "text"
      },
      "cell_type": "markdown",
      "source": [
        "##LSTM 2:"
      ]
    },
    {
      "metadata": {
        "colab_type": "code",
        "outputId": "1eb63fb1-8d6c-4c8e-f899-96902db41782",
        "id": "vBT_H1g_9wNg",
        "colab": {
          "base_uri": "https://localhost:8080/",
          "height": 50
        }
      },
      "cell_type": "code",
      "source": [
        "print('y_test:', y_test.shape)\n",
        "print('X_train:' , X_train.shape)\n"
      ],
      "execution_count": 108,
      "outputs": [
        {
          "output_type": "stream",
          "text": [
            "y_test: (217,)\n",
            "X_train: (400, 80, 1)\n"
          ],
          "name": "stdout"
        }
      ]
    },
    {
      "metadata": {
        "colab_type": "code",
        "id": "qlSDyirQ9wNk",
        "colab": {}
      },
      "cell_type": "code",
      "source": [
        "X_train = np.reshape(X_train, (X_train.shape[0], X_train.shape[1], 1))\n",
        "X_test = np.reshape(X_test, (X_test.shape[0], X_test.shape[1], 1))\n"
      ],
      "execution_count": 0,
      "outputs": []
    },
    {
      "metadata": {
        "colab_type": "text",
        "id": "0DF1smjr9wNl"
      },
      "cell_type": "markdown",
      "source": [
        "##Model:"
      ]
    },
    {
      "metadata": {
        "colab_type": "code",
        "outputId": "2000b6d6-eab1-4648-c49e-c028901e9db1",
        "id": "Y-hPdptf9wNl",
        "colab": {
          "base_uri": "https://localhost:8080/",
          "height": 33
        }
      },
      "cell_type": "code",
      "source": [
        "X_train.shape"
      ],
      "execution_count": 110,
      "outputs": [
        {
          "output_type": "execute_result",
          "data": {
            "text/plain": [
              "(400, 80, 1)"
            ]
          },
          "metadata": {
            "tags": []
          },
          "execution_count": 110
        }
      ]
    },
    {
      "metadata": {
        "colab_type": "code",
        "id": "O-5WW4Qd9wNo",
        "colab": {}
      },
      "cell_type": "code",
      "source": [
        "model = Sequential()\n",
        "layers = [1, 50,100, 1]\n"
      ],
      "execution_count": 0,
      "outputs": []
    },
    {
      "metadata": {
        "colab_type": "code",
        "id": "H7yaPzAX9wNq",
        "colab": {}
      },
      "cell_type": "code",
      "source": [
        "model.add(LSTM(layers[1],input_shape=(None, layers[0]),return_sequences=True))\n",
        "model.add(Dropout(0.2))\n",
        "model.add(LSTM(layers[2],return_sequences=False))\n",
        "model.add(Dropout(0.2))\n",
        "model.add(Dense(layers[3]))\n",
        "model.add(Activation(\"linear\"))\n",
        "model.compile(loss=\"mse\", optimizer=\"rmsprop\",metrics=['accuracy'])\n"
      ],
      "execution_count": 0,
      "outputs": []
    },
    {
      "metadata": {
        "colab_type": "code",
        "outputId": "44e173f2-2115-489b-a9d0-f6c44683b81a",
        "id": "Cy9AXYXX9wNt",
        "colab": {
          "base_uri": "https://localhost:8080/",
          "height": 326
        }
      },
      "cell_type": "code",
      "source": [
        "model.summary()"
      ],
      "execution_count": 113,
      "outputs": [
        {
          "output_type": "stream",
          "text": [
            "_________________________________________________________________\n",
            "Layer (type)                 Output Shape              Param #   \n",
            "=================================================================\n",
            "lstm_7 (LSTM)                (None, None, 50)          10400     \n",
            "_________________________________________________________________\n",
            "dropout_7 (Dropout)          (None, None, 50)          0         \n",
            "_________________________________________________________________\n",
            "lstm_8 (LSTM)                (None, 100)               60400     \n",
            "_________________________________________________________________\n",
            "dropout_8 (Dropout)          (None, 100)               0         \n",
            "_________________________________________________________________\n",
            "dense_15 (Dense)             (None, 1)                 101       \n",
            "_________________________________________________________________\n",
            "activation_2 (Activation)    (None, 1)                 0         \n",
            "=================================================================\n",
            "Total params: 70,901\n",
            "Trainable params: 70,901\n",
            "Non-trainable params: 0\n",
            "_________________________________________________________________\n"
          ],
          "name": "stdout"
        }
      ]
    },
    {
      "metadata": {
        "colab_type": "code",
        "id": "L73o43zT9wNv",
        "colab": {}
      },
      "cell_type": "code",
      "source": [
        "epochs = 10\n"
      ],
      "execution_count": 0,
      "outputs": []
    },
    {
      "metadata": {
        "colab_type": "code",
        "outputId": "f4995fd9-8a86-407d-ede9-6b137d75b5d3",
        "id": "dPWDvs9u9wNx",
        "colab": {
          "base_uri": "https://localhost:8080/",
          "height": 407
        }
      },
      "cell_type": "code",
      "source": [
        "model.fit(X_train, y_train,batch_size=16, nb_epoch=epochs, validation_split=0.05)"
      ],
      "execution_count": 115,
      "outputs": [
        {
          "output_type": "stream",
          "text": [
            "/usr/local/lib/python3.6/dist-packages/ipykernel_launcher.py:1: UserWarning: The `nb_epoch` argument in `fit` has been renamed `epochs`.\n",
            "  \"\"\"Entry point for launching an IPython kernel.\n"
          ],
          "name": "stderr"
        },
        {
          "output_type": "stream",
          "text": [
            "Train on 380 samples, validate on 20 samples\n",
            "Epoch 1/10\n",
            "380/380 [==============================] - 5s 12ms/step - loss: 0.0521 - acc: 0.0026 - val_loss: 0.0342 - val_acc: 0.0000e+00\n",
            "Epoch 2/10\n",
            "380/380 [==============================] - 2s 6ms/step - loss: 0.0375 - acc: 0.0026 - val_loss: 0.0435 - val_acc: 0.0000e+00\n",
            "Epoch 3/10\n",
            "380/380 [==============================] - 2s 6ms/step - loss: 0.0343 - acc: 0.0053 - val_loss: 0.0545 - val_acc: 0.0000e+00\n",
            "Epoch 4/10\n",
            "380/380 [==============================] - 2s 6ms/step - loss: 0.0328 - acc: 0.0053 - val_loss: 0.0498 - val_acc: 0.0000e+00\n",
            "Epoch 5/10\n",
            "380/380 [==============================] - 2s 6ms/step - loss: 0.0259 - acc: 0.0053 - val_loss: 0.0313 - val_acc: 0.0000e+00\n",
            "Epoch 6/10\n",
            "380/380 [==============================] - 2s 6ms/step - loss: 0.0209 - acc: 0.0053 - val_loss: 0.0271 - val_acc: 0.0000e+00\n",
            "Epoch 7/10\n",
            "380/380 [==============================] - 2s 6ms/step - loss: 0.0199 - acc: 0.0053 - val_loss: 0.0283 - val_acc: 0.0000e+00\n",
            "Epoch 8/10\n",
            "380/380 [==============================] - 2s 6ms/step - loss: 0.0176 - acc: 0.0053 - val_loss: 0.0328 - val_acc: 0.0000e+00\n",
            "Epoch 9/10\n",
            "380/380 [==============================] - 2s 6ms/step - loss: 0.0184 - acc: 0.0053 - val_loss: 0.0430 - val_acc: 0.0000e+00\n",
            "Epoch 10/10\n",
            "380/380 [==============================] - 2s 6ms/step - loss: 0.0157 - acc: 0.0053 - val_loss: 0.0646 - val_acc: 0.0000e+00\n"
          ],
          "name": "stdout"
        },
        {
          "output_type": "execute_result",
          "data": {
            "text/plain": [
              "<keras.callbacks.History at 0x7f5664216438>"
            ]
          },
          "metadata": {
            "tags": []
          },
          "execution_count": 115
        }
      ]
    },
    {
      "metadata": {
        "colab_type": "text",
        "id": "ID_EHoYo9wN7"
      },
      "cell_type": "markdown",
      "source": [
        "###Graph"
      ]
    },
    {
      "metadata": {
        "colab_type": "code",
        "id": "NTJrfYeX-lec",
        "colab": {}
      },
      "cell_type": "code",
      "source": [
        "dataset_total = pd.concat((m12h[\"Usage [kW]\"][:split],m12h[\"Usage [kW]\"][split:]),axis=0)\n",
        "inputs = dataset_total[len(dataset_total)-len(test_set) - 80:].values\n",
        "inputs = inputs.reshape(-1,1)\n",
        "inputs  = sc.transform(inputs)\n"
      ],
      "execution_count": 0,
      "outputs": []
    },
    {
      "metadata": {
        "colab_type": "code",
        "id": "bGlcS6BN-led",
        "colab": {}
      },
      "cell_type": "code",
      "source": [
        "X_test = []\n",
        "for i in range(80,278):\n",
        "    X_test.append(inputs[i-80:i,0])\n",
        "X_test = np.array(X_test)\n",
        "X_test = np.reshape(X_test, (X_test.shape[0],X_test.shape[1],1))\n",
        "predicted_stock_price = regressor.predict(X_test)\n",
        "predicted_stock_price = sc.inverse_transform(predicted_stock_price)"
      ],
      "execution_count": 0,
      "outputs": []
    },
    {
      "metadata": {
        "colab_type": "code",
        "outputId": "87f0d204-4bb9-4d88-be9f-fd9313aa5153",
        "id": "ZCXo1M7X-lee",
        "colab": {
          "base_uri": "https://localhost:8080/",
          "height": 311
        }
      },
      "cell_type": "code",
      "source": [
        "plt.figure(1)\n",
        "plt.plot(test_set,label='true',color = 'black')\n",
        "plt.plot(predicted_stock_price,label='prediction',color = 'green')\n",
        "plt.legend(loc='upper left')\n",
        "plt.title('Total Energy Consumption')\n",
        "plt.ylabel('kWh') \n",
        "plt.xlabel('Next 200 Hours')"
      ],
      "execution_count": 118,
      "outputs": [
        {
          "output_type": "execute_result",
          "data": {
            "text/plain": [
              "Text(0.5, 0, 'Next 200 Hours')"
            ]
          },
          "metadata": {
            "tags": []
          },
          "execution_count": 118
        },
        {
          "output_type": "display_data",
          "data": {
            "image/png": "[encoded data removed]",
            "text/plain": [
              "<Figure size 432x288 with 1 Axes>"
            ]
          },
          "metadata": {
            "tags": []
          }
        }
      ]
    }
  ]
}