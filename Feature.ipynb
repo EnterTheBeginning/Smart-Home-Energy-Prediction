{
  "nbformat": 4,
  "nbformat_minor": 0,
  "metadata": {
    "colab": {
      "name": "Feature.ipynb",
      "version": "0.3.2",
      "provenance": [],
      "collapsed_sections": [
        "fSGHQ2l7yYnC"
      ],
      "include_colab_link": true
    },
    "kernelspec": {
      "name": "python3",
      "display_name": "Python 3"
    }
  },
  "cells": [
    {
      "cell_type": "markdown",
      "metadata": {
        "id": "view-in-github",
        "colab_type": "text"
      },
      "source": [
        "<a href=\"https://colab.research.google.com/github/EnterTheBeginning/SmartHomeEnergyForecasting/blob/master/Feature.ipynb\" target=\"_parent\"><img src=\"https://colab.research.google.com/assets/colab-badge.svg\" alt=\"Open In Colab\"/></a>"
      ]
    },
    {
      "metadata": {
        "id": "YumRwj9dwlvu",
        "colab_type": "text"
      },
      "cell_type": "markdown",
      "source": [
        "Working 5:  How does it look like? The final code\n",
        "Model Run. \n",
        "1 year data for prediction of day ahead.\n",
        "Features: Month.\n",
        "tsfresh.\n",
        "In an ideal world. I want prediction of price of tommorow. Since the realtime pricing is a valuable model.   \n",
        "Right now it's day ahead pricing but in near future it will be realtime pricing with factors of weather. and more. That will model will be more lucrative. Since the real time pricing is even better. The ability to predict the day ahead price will come in handy since with the use of smart scheduling we can have the machines use the least Cost/H to the time of scheduling. \n",
        "The goal right now is finding a price data. For year 2017 massachesuet. In CSV format. adding the weather data. Build a model that has features of weekends, weekdays. And after that. We can use energy consumption model not to predict but to classify the dishwasher working hour. The data is better off to be in hours. The dishwasher has the ability to start 1 out of 24 hours. to 3 out of 24 hours. With 3 times a day. I need to find which classifer is used more. Then after the prediction of 24 hours of price i need to classify which hours are the cheapest. Then send the python notification command \n",
        "> Dishwasher be loaded before 6 or before 12  classifier 1 - 24. After that the command will be send\n",
        "> Start the dishwasher around 2 at night or around 5. Profile [cheapet] [Economy][Tailored]\n",
        ">Voila the smart home system is working now.\n",
        "\n",
        "Worked on the prediciton of the price of tommorow It needs to be done on short range. And Input. "
      ]
    },
    {
      "metadata": {
        "id": "wqno204R32oY",
        "colab_type": "code",
        "outputId": "aa7ffc83-f37a-417f-b64f-3c9bfea66287",
        "colab": {
          "base_uri": "https://localhost:8080/",
          "height": 34
        }
      },
      "cell_type": "code",
      "source": [
        "import numpy as np\n",
        "import pandas as pd\n",
        "import matplotlib.pyplot as plt\n",
        "%matplotlib inline\n",
        "import warnings\n",
        "warnings.filterwarnings('ignore')\n",
        "from sklearn.preprocessing import StandardScaler # for normalization\n",
        "from sklearn.preprocessing import MinMaxScaler\n",
        "from sklearn.pipeline import Pipeline # pipeline making\n",
        "from sklearn.model_selection import cross_val_score\n",
        "from sklearn.feature_selection import SelectFromModel\n",
        "from sklearn import metrics # for the check the error and accuracy of the model\n",
        "\n",
        "from keras.models import Sequential\n",
        "from keras.layers import Dense, Activation,Flatten\n",
        "from keras.layers import  Conv1D, MaxPool1D, Dense, Activation, GlobalMaxPool1D\n",
        "from keras.utils import np_utils\n",
        "from keras.layers.recurrent import LSTM\n",
        "from keras.layers.core import Dense, Activation, Dropout\n"
      ],
      "execution_count": 0,
      "outputs": [
        {
          "output_type": "stream",
          "text": [
            "Using TensorFlow backend.\n"
          ],
          "name": "stderr"
        }
      ]
    },
    {
      "metadata": {
        "id": "Cn9m4gRz4rES",
        "colab_type": "code",
        "outputId": "6dae45c6-6bd5-4365-a762-e40fb60bc7d6",
        "colab": {
          "base_uri": "https://localhost:8080/",
          "height": 34
        }
      },
      "cell_type": "code",
      "source": [
        "from google.colab import drive\n",
        "drive.mount('/content/gdrive')\n",
        "df = pd.read_csv('/content/gdrive/My Drive/Colab Notebooks/1. DataAnalytics/~Code/Data/house15m.csv',index_col='Date & Time',parse_dates=['Date & Time'])\n",
        "weather = pd.read_csv('/content/gdrive/My Drive/Colab Notebooks/1. DataAnalytics/~Code/Data/FweatherClean.csv',index_col='time')\n"
      ],
      "execution_count": 0,
      "outputs": [
        {
          "output_type": "stream",
          "text": [
            "Drive already mounted at /content/gdrive; to attempt to forcibly remount, call drive.mount(\"/content/gdrive\", force_remount=True).\n"
          ],
          "name": "stdout"
        }
      ]
    },
    {
      "metadata": {
        "id": "5zyRpp_v9DJz",
        "colab_type": "text"
      },
      "cell_type": "markdown",
      "source": [
        "#Feature: Time"
      ]
    },
    {
      "metadata": {
        "id": "twpSd3qmzb7P",
        "colab_type": "code",
        "colab": {}
      },
      "cell_type": "code",
      "source": [
        "df_hour = df.resample('h').mean() \n",
        "df_day = df.resample('d').mean()\n",
        "df_month = df.resample('m').mean()"
      ],
      "execution_count": 0,
      "outputs": []
    },
    {
      "metadata": {
        "id": "wen4Q9pY104k",
        "colab_type": "code",
        "colab": {}
      },
      "cell_type": "code",
      "source": [
        "#Energy our basic feature\n",
        "energy = df_hour[\"Usage [kW]\"]\n",
        "energy =energy.reshape(energy.shape[0],1)"
      ],
      "execution_count": 0,
      "outputs": []
    },
    {
      "metadata": {
        "id": "IQ7csuUyTbc7",
        "colab_type": "code",
        "outputId": "fa14bbca-4b16-4445-f8fe-0c78d17b645a",
        "colab": {
          "base_uri": "https://localhost:8080/",
          "height": 393
        }
      },
      "cell_type": "code",
      "source": [
        "df.iloc[:,2:-2].mean().plot(kind='bar')"
      ],
      "execution_count": 0,
      "outputs": [
        {
          "output_type": "execute_result",
          "data": {
            "text/plain": [
              "<matplotlib.axes._subplots.AxesSubplot at 0x7fa0c619c198>"
            ]
          },
          "metadata": {
            "tags": []
          },
          "execution_count": 5
        },
        {
          "output_type": "display_data",
          "data": {
            "image/png": "[encoded data removed]",
            "text/plain": [
              "<Figure size 432x288 with 1 Axes>"
            ]
          },
          "metadata": {
            "tags": []
          }
        }
      ]
    },
    {
      "metadata": {
        "id": "7-i6uC-t1Pjg",
        "colab_type": "text"
      },
      "cell_type": "markdown",
      "source": [
        "##Categorical Features: Season, month, day\n"
      ]
    },
    {
      "metadata": {
        "id": "-iuH61N-1WcQ",
        "colab_type": "code",
        "colab": {}
      },
      "cell_type": "code",
      "source": [
        "season = np.array_split(df_hour,4)\n",
        "  "
      ],
      "execution_count": 0,
      "outputs": []
    },
    {
      "metadata": {
        "id": "yPI0_uYv9KP7",
        "colab_type": "code",
        "colab": {}
      },
      "cell_type": "code",
      "source": [
        "month = np.array_split(df_hour, 12)\n"
      ],
      "execution_count": 0,
      "outputs": []
    },
    {
      "metadata": {
        "id": "w7wQCeB97UPw",
        "colab_type": "code",
        "colab": {}
      },
      "cell_type": "code",
      "source": [
        "day = np.array_split(df,365)"
      ],
      "execution_count": 0,
      "outputs": []
    },
    {
      "metadata": {
        "id": "EmrFRhU81jJb",
        "colab_type": "text"
      },
      "cell_type": "markdown",
      "source": [
        "### Preprocess 10 day prediction\n"
      ]
    },
    {
      "metadata": {
        "id": "s0uCb4Jo-dWO",
        "colab_type": "code",
        "colab": {}
      },
      "cell_type": "code",
      "source": [
        "## 10 days prediction with 20 days of data\n",
        "split = 24*20\n",
        "X = month[11]\n",
        "X_train = X.iloc[:split,4:-2].values\n",
        "y_train = X.iloc[:split,0].values\n",
        "\n",
        "X_test = X.iloc[split:,4:-2].values\n",
        "y_test = X.iloc[split:,0].values\n",
        "\n",
        "y_train = X.iloc[:split,0].values\n",
        "y_test = X.iloc[split:,0].values"
      ],
      "execution_count": 0,
      "outputs": []
    },
    {
      "metadata": {
        "id": "29dKAga71Bjr",
        "colab_type": "code",
        "colab": {}
      },
      "cell_type": "code",
      "source": [
        "training_set = X.iloc[:split,0:1].values\n",
        "test_set = X.iloc[split:,0:1].values\n",
        "sc = MinMaxScaler(feature_range=(0,1))\n",
        "training_set_scaled = sc.fit_transform(training_set)\n",
        "test_set_scaled = sc.fit_transform(test_set)"
      ],
      "execution_count": 0,
      "outputs": []
    },
    {
      "metadata": {
        "colab_type": "code",
        "id": "xujTIJy_nOhE",
        "colab": {}
      },
      "cell_type": "code",
      "source": [
        "X_train = []\n",
        "y_train = []\n",
        "for i in range(24,480):\n",
        "    X_train.append(training_set_scaled[i-24:i,0])\n",
        "    y_train.append(training_set_scaled[i,0])\n",
        "X_train, y_train = np.array(X_train), np.array(y_train)\n",
        "\n",
        "X_test = []\n",
        "y_test = []\n",
        "for i in range(24,217):\n",
        "    X_test.append(test_set_scaled[i-24:i,0])\n",
        "    y_test.append(test_set_scaled[i,0])\n",
        "\n",
        "X_test, y_test = np.array(X_test), np.array(y_test)"
      ],
      "execution_count": 0,
      "outputs": []
    },
    {
      "metadata": {
        "colab_type": "code",
        "id": "D7o6NDw5nOhH",
        "colab": {}
      },
      "cell_type": "code",
      "source": [
        "X_train = np.reshape(X_train, (X_train.shape[0],X_train.shape[1]))"
      ],
      "execution_count": 0,
      "outputs": []
    },
    {
      "metadata": {
        "id": "IQGO_NmA8vot",
        "colab_type": "text"
      },
      "cell_type": "markdown",
      "source": [
        "###Preprocess 24 hour prediciton"
      ]
    },
    {
      "metadata": {
        "id": "EXKWzQKZ7yKJ",
        "colab_type": "code",
        "colab": {}
      },
      "cell_type": "code",
      "source": [
        "#24 hour energy prediction with 15m data\n",
        "hour24 = int(df.shape[0] / 366)\n",
        "split = 365*hour24\n",
        "\n",
        "X = df.iloc[:split,0:1].values\n",
        "y = df.iloc[:split,0:1].values\n",
        "sc = MinMaxScaler(feature_range=(0,1))\n",
        "training_set_scaled = sc.fit_transform(X)\n",
        "test_set_scaled = sc.fit_transform(y)"
      ],
      "execution_count": 0,
      "outputs": []
    },
    {
      "metadata": {
        "id": "4mQNDbHD8tg8",
        "colab_type": "code",
        "colab": {}
      },
      "cell_type": "code",
      "source": [
        "X_train = []\n",
        "y_train = []\n",
        "for i in range(24,480):\n",
        "    X_train.append(training_set_scaled[i-24:i,0])\n",
        "    y_train.append(training_set_scaled[i,0])\n",
        "X_train, y_train = np.array(X_train), np.array(y_train)\n",
        "\n",
        "X_test = []\n",
        "y_test = []\n",
        "for i in range(24,120):\n",
        "    X_test.append(test_set_scaled[i-24:i,0])\n",
        "    y_test.append(test_set_scaled[i,0])\n",
        "\n",
        "X_test, y_test = np.array(X_test), np.array(y_test)"
      ],
      "execution_count": 0,
      "outputs": []
    },
    {
      "metadata": {
        "id": "fSGHQ2l7yYnC",
        "colab_type": "text"
      },
      "cell_type": "markdown",
      "source": [
        "# DNN:"
      ]
    },
    {
      "metadata": {
        "id": "36tuF5Ul_i--",
        "colab_type": "code",
        "outputId": "be5808da-968a-4a75-cfda-f05d7ec10115",
        "colab": {
          "base_uri": "https://localhost:8080/",
          "height": 496
        }
      },
      "cell_type": "code",
      "source": [
        "model = Sequential()\n",
        "model.add(Dense(output_dim = 20, init = 'uniform', activation = 'relu', input_dim = 24))\n",
        "model.add(Dense(output_dim = 35, init = 'uniform', activation = 'relu'))\n",
        "model.add(Dense(output_dim = 1, init = 'uniform', activation = 'linear'))\n",
        "model.compile(optimizer = 'adam', loss = 'mean_absolute_error', metrics = ['mean_absolute_error'])\n",
        "model.fit(X_train, y_train, batch_size = 6, nb_epoch = 10, shuffle=0)\n",
        "\n"
      ],
      "execution_count": 0,
      "outputs": [
        {
          "output_type": "stream",
          "text": [
            "WARNING:tensorflow:From /usr/local/lib/python3.6/dist-packages/tensorflow/python/framework/op_def_library.py:263: colocate_with (from tensorflow.python.framework.ops) is deprecated and will be removed in a future version.\n",
            "Instructions for updating:\n",
            "Colocations handled automatically by placer.\n",
            "WARNING:tensorflow:From /usr/local/lib/python3.6/dist-packages/tensorflow/python/ops/math_ops.py:3066: to_int32 (from tensorflow.python.ops.math_ops) is deprecated and will be removed in a future version.\n",
            "Instructions for updating:\n",
            "Use tf.cast instead.\n",
            "Epoch 1/10\n",
            "456/456 [==============================] - 0s 865us/step - loss: 0.0582 - mean_absolute_error: 0.0582\n",
            "Epoch 2/10\n",
            "456/456 [==============================] - 0s 216us/step - loss: 0.0464 - mean_absolute_error: 0.0464\n",
            "Epoch 3/10\n",
            "456/456 [==============================] - 0s 222us/step - loss: 0.0443 - mean_absolute_error: 0.0443\n",
            "Epoch 4/10\n",
            "456/456 [==============================] - 0s 202us/step - loss: 0.0407 - mean_absolute_error: 0.0407\n",
            "Epoch 5/10\n",
            "456/456 [==============================] - 0s 225us/step - loss: 0.0343 - mean_absolute_error: 0.0343\n",
            "Epoch 6/10\n",
            "456/456 [==============================] - 0s 203us/step - loss: 0.0280 - mean_absolute_error: 0.0280\n",
            "Epoch 7/10\n",
            "456/456 [==============================] - 0s 193us/step - loss: 0.0253 - mean_absolute_error: 0.0253\n",
            "Epoch 8/10\n",
            "456/456 [==============================] - 0s 212us/step - loss: 0.0251 - mean_absolute_error: 0.0251\n",
            "Epoch 9/10\n",
            "456/456 [==============================] - 0s 219us/step - loss: 0.0246 - mean_absolute_error: 0.0246\n",
            "Epoch 10/10\n",
            "456/456 [==============================] - 0s 217us/step - loss: 0.0246 - mean_absolute_error: 0.0246\n"
          ],
          "name": "stdout"
        },
        {
          "output_type": "execute_result",
          "data": {
            "text/plain": [
              "<keras.callbacks.History at 0x7fa0c36c16a0>"
            ]
          },
          "metadata": {
            "tags": []
          },
          "execution_count": 15
        }
      ]
    },
    {
      "metadata": {
        "id": "PDn9Yi-Y_qSD",
        "colab_type": "code",
        "outputId": "f91a323f-c855-4a35-85a4-47b176c3707d",
        "colab": {
          "base_uri": "https://localhost:8080/",
          "height": 51
        }
      },
      "cell_type": "code",
      "source": [
        "prediction = model.predict(X_test)\n",
        "score = model.evaluate(X_test,y_test,verbose =0)\n",
        "print('Test Loss:', score[0])\n",
        "print('Test accuracy:' , score[1])\n",
        "prediction = sc.inverse_transform(prediction)\n"
      ],
      "execution_count": 0,
      "outputs": [
        {
          "output_type": "stream",
          "text": [
            "Test Loss: 0.02511872009684642\n",
            "Test accuracy: 0.02511872009684642\n"
          ],
          "name": "stdout"
        }
      ]
    },
    {
      "metadata": {
        "colab_type": "code",
        "outputId": "36f54d64-0eb7-4a03-f1e3-9dbbeb923d9c",
        "id": "fJciw_Gh9b3M",
        "colab": {
          "base_uri": "https://localhost:8080/",
          "height": 311
        }
      },
      "cell_type": "code",
      "source": [
        "plt.figure(1)\n",
        "plt.plot(test_set[:120],label='true',color = 'black')\n",
        "plt.legend(loc='upper left')\n",
        "plt.title('Total Energy Consumption')\n",
        "plt.ylabel('kWh') \n",
        "plt.xlabel('120 Hour Prediction  ')"
      ],
      "execution_count": 0,
      "outputs": [
        {
          "output_type": "execute_result",
          "data": {
            "text/plain": [
              "Text(0.5, 0, '120 Hour Prediction  ')"
            ]
          },
          "metadata": {
            "tags": []
          },
          "execution_count": 17
        },
        {
          "output_type": "display_data",
          "data": {
            "image/png": "[encoded data removed]",
            "text/plain": [
              "<Figure size 432x288 with 1 Axes>"
            ]
          },
          "metadata": {
            "tags": []
          }
        }
      ]
    },
    {
      "metadata": {
        "id": "rdC3Mxv2B3zz",
        "colab_type": "text"
      },
      "cell_type": "markdown",
      "source": [
        "#LSTM"
      ]
    },
    {
      "metadata": {
        "id": "xoiD85mdxmll",
        "colab_type": "text"
      },
      "cell_type": "markdown",
      "source": [
        "LSTM with 100 neurons in the first visible layer\n",
        "The final output is the Energy usage \n",
        "Start"
      ]
    },
    {
      "metadata": {
        "id": "-uwz3NSZPCiJ",
        "colab_type": "text"
      },
      "cell_type": "markdown",
      "source": [
        "##LSTM Data Preparation"
      ]
    },
    {
      "metadata": {
        "id": "GAFB84UhQtMQ",
        "colab_type": "text"
      },
      "cell_type": "markdown",
      "source": [
        "Scaling:"
      ]
    },
    {
      "metadata": {
        "colab_type": "code",
        "id": "3k6DT4659f7U",
        "colab": {}
      },
      "cell_type": "code",
      "source": [
        "#24 hour energy prediction with 15m data\n",
        "hour24 = int(df.shape[0] / 366)\n",
        "split = 365*hour24\n",
        "\n",
        "X = df.iloc[:split,0:1].values\n",
        "y = df.iloc[:split,0:1].values\n",
        "sc = MinMaxScaler(feature_range=(0,1))\n",
        "training_set_scaled = sc.fit_transform(X)\n",
        "test_set_scaled = sc.fit_transform(y)"
      ],
      "execution_count": 0,
      "outputs": []
    },
    {
      "metadata": {
        "colab_type": "code",
        "id": "a7-MqOjQ9f7f",
        "colab": {}
      },
      "cell_type": "code",
      "source": [
        "X_train = []\n",
        "y_train = []\n",
        "for i in range(24,480):\n",
        "    X_train.append(training_set_scaled[i-24:i,0])\n",
        "    y_train.append(training_set_scaled[i,0])\n",
        "X_train, y_train = np.array(X_train), np.array(y_train)\n",
        "\n",
        "X_test = []\n",
        "y_test = []\n",
        "for i in range(24,120):\n",
        "    X_test.append(test_set_scaled[i-24:i,0])\n",
        "    y_test.append(test_set_scaled[i,0])\n",
        "\n",
        "X_test, y_test = np.array(X_test), np.array(y_test)"
      ],
      "execution_count": 0,
      "outputs": []
    },
    {
      "metadata": {
        "id": "Ewkd81AJYSbe",
        "colab_type": "code",
        "outputId": "77d2cb75-85ad-4ac9-d747-9748444422fa",
        "colab": {
          "base_uri": "https://localhost:8080/",
          "height": 51
        }
      },
      "cell_type": "code",
      "source": [
        "print('y_test:', y_test.shape)\n",
        "print('X_train:' , X_train.shape)\n"
      ],
      "execution_count": 0,
      "outputs": [
        {
          "output_type": "stream",
          "text": [
            "y_test: (96,)\n",
            "X_train: (456, 24)\n"
          ],
          "name": "stdout"
        }
      ]
    },
    {
      "metadata": {
        "id": "ji0OXcdDQZVA",
        "colab_type": "code",
        "colab": {}
      },
      "cell_type": "code",
      "source": [
        "X_train = np.reshape(X_train, (X_train.shape[0], X_train.shape[1], 1))\n",
        "X_test = np.reshape(X_test, (X_test.shape[0], X_test.shape[1], 1))\n"
      ],
      "execution_count": 0,
      "outputs": []
    },
    {
      "metadata": {
        "id": "oaod7do1TjU_",
        "colab_type": "text"
      },
      "cell_type": "markdown",
      "source": [
        "##Model:"
      ]
    },
    {
      "metadata": {
        "id": "gp1Bjv3RTo_2",
        "colab_type": "code",
        "outputId": "c8ea33db-6f24-4ec7-b190-349aab271883",
        "colab": {
          "base_uri": "https://localhost:8080/",
          "height": 391
        }
      },
      "cell_type": "code",
      "source": [
        "model = Sequential()\n",
        "layers = [1, 50,100, 1]\n",
        "model.add(LSTM(layers[1],input_shape=(None, layers[0]),return_sequences=True))\n",
        "model.add(Dropout(0.2))\n",
        "model.add(LSTM(layers[2],return_sequences=False))\n",
        "model.add(Dropout(0.2))\n",
        "model.add(Dense(layers[3]))\n",
        "model.add(Activation(\"linear\"))\n",
        "model.compile(loss=\"mse\", optimizer=\"rmsprop\",metrics=['accuracy'])\n",
        "model.fit(X_train, y_train,batch_size=16, nb_epoch=10, validation_split=0.05)\n"
      ],
      "execution_count": 0,
      "outputs": [
        {
          "output_type": "stream",
          "text": [
            "Train on 433 samples, validate on 23 samples\n",
            "Epoch 1/10\n",
            "433/433 [==============================] - 3s 7ms/step - loss: 0.0049 - acc: 0.0162 - val_loss: 0.0176 - val_acc: 0.0000e+00\n",
            "Epoch 2/10\n",
            "433/433 [==============================] - 1s 2ms/step - loss: 0.0034 - acc: 0.0162 - val_loss: 0.0121 - val_acc: 0.0000e+00\n",
            "Epoch 3/10\n",
            "433/433 [==============================] - 1s 2ms/step - loss: 0.0029 - acc: 0.0162 - val_loss: 0.0165 - val_acc: 0.0000e+00\n",
            "Epoch 4/10\n",
            "433/433 [==============================] - 1s 2ms/step - loss: 0.0025 - acc: 0.0162 - val_loss: 0.0052 - val_acc: 0.0000e+00\n",
            "Epoch 5/10\n",
            "433/433 [==============================] - 1s 2ms/step - loss: 0.0025 - acc: 0.0162 - val_loss: 0.0107 - val_acc: 0.0000e+00\n",
            "Epoch 6/10\n",
            "433/433 [==============================] - 1s 2ms/step - loss: 0.0023 - acc: 0.0162 - val_loss: 0.0029 - val_acc: 0.0000e+00\n",
            "Epoch 7/10\n",
            "433/433 [==============================] - 1s 2ms/step - loss: 0.0020 - acc: 0.0162 - val_loss: 0.0077 - val_acc: 0.0000e+00\n",
            "Epoch 8/10\n",
            "433/433 [==============================] - 1s 2ms/step - loss: 0.0021 - acc: 0.0162 - val_loss: 0.0035 - val_acc: 0.0000e+00\n",
            "Epoch 9/10\n",
            "433/433 [==============================] - 1s 2ms/step - loss: 0.0020 - acc: 0.0162 - val_loss: 0.0028 - val_acc: 0.0000e+00\n",
            "Epoch 10/10\n",
            "433/433 [==============================] - 1s 2ms/step - loss: 0.0021 - acc: 0.0162 - val_loss: 0.0019 - val_acc: 0.0000e+00\n"
          ],
          "name": "stdout"
        },
        {
          "output_type": "execute_result",
          "data": {
            "text/plain": [
              "<keras.callbacks.History at 0x7fa0bc57c668>"
            ]
          },
          "metadata": {
            "tags": []
          },
          "execution_count": 38
        }
      ]
    },
    {
      "metadata": {
        "id": "tdkKNMPTUxXu",
        "colab_type": "code",
        "outputId": "3177977d-fb4c-4c44-f87d-a50fb3046bd3",
        "colab": {
          "base_uri": "https://localhost:8080/",
          "height": 51
        }
      },
      "cell_type": "code",
      "source": [
        "prediction = model.predict(X_test)\n",
        "score = model.evaluate(X_test,y_test,verbose =0)\n",
        "print('Test Loss:', score[0])\n",
        "print('Test accuracy:' , score[1])\n"
      ],
      "execution_count": 0,
      "outputs": [
        {
          "output_type": "stream",
          "text": [
            "Test Loss: 0.0017549683495114248\n",
            "Test accuracy: 0.0\n"
          ],
          "name": "stdout"
        }
      ]
    },
    {
      "metadata": {
        "id": "Mpge3kVy9nk8",
        "colab_type": "text"
      },
      "cell_type": "markdown",
      "source": [
        "###Graph"
      ]
    },
    {
      "metadata": {
        "id": "vmeorDfmUnYm",
        "colab_type": "code",
        "outputId": "cf86afa9-fc4d-41df-9b1b-22de6046c493",
        "colab": {
          "base_uri": "https://localhost:8080/",
          "height": 311
        }
      },
      "cell_type": "code",
      "source": [
        "plt.figure(1)\n",
        "plt.plot(y_test,label='true',color = 'black')\n",
        "plt.plot(prediction,label='prediction',color = 'green')\n",
        "plt.legend(loc='upper left')\n",
        "plt.title('Total Energy Consumption')\n",
        "plt.ylabel('kWh') \n",
        "plt.xlabel('')"
      ],
      "execution_count": 0,
      "outputs": [
        {
          "output_type": "execute_result",
          "data": {
            "text/plain": [
              "Text(0.5, 0, 'Next 200 Hours')"
            ]
          },
          "metadata": {
            "tags": []
          },
          "execution_count": 40
        },
        {
          "output_type": "display_data",
          "data": {
            "image/png": "[encoded data removed]",
            "text/plain": [
              "<Figure size 432x288 with 1 Axes>"
            ]
          },
          "metadata": {
            "tags": []
          }
        }
      ]
    },
    {
      "metadata": {
        "id": "bVirjO4w8sNF",
        "colab_type": "text"
      },
      "cell_type": "markdown",
      "source": [
        "Since the goal of this research is about prediction under uncertainty.  "
      ]
    }
  ]
}