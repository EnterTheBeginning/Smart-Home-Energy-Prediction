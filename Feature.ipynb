{
  "nbformat": 4,
  "nbformat_minor": 0,
  "metadata": {
    "colab": {
      "name": "Feature.ipynb",
      "version": "0.3.2",
      "provenance": [],
      "collapsed_sections": [
        "-uwz3NSZPCiJ"
      ],
      "toc_visible": true,
      "include_colab_link": true
    },
    "kernelspec": {
      "name": "python3",
      "display_name": "Python 3"
    }
  },
  "cells": [
    {
      "cell_type": "markdown",
      "metadata": {
        "id": "view-in-github",
        "colab_type": "text"
      },
      "source": [
        "<a href=\"https://colab.research.google.com/github/EnterTheBeginning/SmartHomeEnergyForecasting/blob/master/Feature.ipynb\" target=\"_parent\"><img src=\"https://colab.research.google.com/assets/colab-badge.svg\" alt=\"Open In Colab\"/></a>"
      ]
    },
    {
      "metadata": {
        "id": "3oe9XmJX34lv",
        "colab_type": "text"
      },
      "cell_type": "markdown",
      "source": [
        "#Loading Data"
      ]
    },
    {
      "metadata": {
        "id": "Cn9m4gRz4rES",
        "colab_type": "code",
        "outputId": "eb41d43e-3ad6-4f94-c0bf-1f5699d8cab3",
        "colab": {
          "base_uri": "https://localhost:8080/",
          "height": 129
        }
      },
      "cell_type": "code",
      "source": [
        "from google.colab import drive\n",
        "drive.mount('/content/gdrive')\n"
      ],
      "execution_count": 2,
      "outputs": [
        {
          "output_type": "stream",
          "text": [
            "Go to this URL in a browser: https://accounts.google.com/o/oauth2/auth?client_id=947318989803-6bn6qk8qdgf4n4g3pfee6491hc0brc4i.apps.googleusercontent.com&redirect_uri=urn%3Aietf%3Awg%3Aoauth%3A2.0%3Aoob&scope=email%20https%3A%2F%2Fwww.googleapis.com%2Fauth%2Fdocs.test%20https%3A%2F%2Fwww.googleapis.com%2Fauth%2Fdrive%20https%3A%2F%2Fwww.googleapis.com%2Fauth%2Fdrive.photos.readonly%20https%3A%2F%2Fwww.googleapis.com%2Fauth%2Fpeopleapi.readonly&response_type=code\n",
            "\n",
            "Enter your authorization code:\n",
            "··········\n",
            "Mounted at /content/gdrive\n"
          ],
          "name": "stdout"
        }
      ]
    },
    {
      "metadata": {
        "id": "Z3b0c4D75P33",
        "colab_type": "code",
        "colab": {}
      },
      "cell_type": "code",
      "source": [
        "df = pd.read_csv('/content/gdrive/My Drive/Colab Notebooks/1. DataAnalytics/~Code/Data/FmeterClean.csv',index_col='Date & Time',parse_dates=['Date & Time'])\n"
      ],
      "execution_count": 0,
      "outputs": []
    },
    {
      "metadata": {
        "id": "ilsW8lKt5xeA",
        "colab_type": "code",
        "colab": {}
      },
      "cell_type": "code",
      "source": [
        "weather = pd.read_csv('/content/gdrive/My Drive/Colab Notebooks/1. DataAnalytics/~Code/Data/FweatherClean.csv',index_col='time')\n"
      ],
      "execution_count": 0,
      "outputs": []
    },
    {
      "metadata": {
        "id": "5zyRpp_v9DJz",
        "colab_type": "text"
      },
      "cell_type": "markdown",
      "source": [
        "###Lets split the dataset into months"
      ]
    },
    {
      "metadata": {
        "id": "PQCIn0B38cmO",
        "colab_type": "code",
        "colab": {}
      },
      "cell_type": "code",
      "source": [
        "b = np.array_split(df, 12)"
      ],
      "execution_count": 0,
      "outputs": []
    },
    {
      "metadata": {
        "id": "yPI0_uYv9KP7",
        "colab_type": "code",
        "outputId": "ba515dd6-2fd9-4fdf-d178-7492a42a50c2",
        "colab": {
          "base_uri": "https://localhost:8080/",
          "height": 35
        }
      },
      "cell_type": "code",
      "source": [
        "b[11].shape"
      ],
      "execution_count": 6,
      "outputs": [
        {
          "output_type": "execute_result",
          "data": {
            "text/plain": [
              "(41820, 23)"
            ]
          },
          "metadata": {
            "tags": []
          },
          "execution_count": 6
        }
      ]
    },
    {
      "metadata": {
        "id": "wc06dZmT26OK",
        "colab_type": "code",
        "colab": {}
      },
      "cell_type": "code",
      "source": [
        "def series_to_supervised(data, n_in=1, n_out=1, dropnan=True):\n",
        "\tn_vars = 1 if type(data) is list else data.shape[1]\n",
        "\tdff = pd.DataFrame(data)\n",
        "\tcols, names = list(), list()\n",
        "\t# input sequence (t-n, ... t-1)\n",
        "\tfor i in range(n_in, 0, -1):\n",
        "\t\tcols.append(dff.shift(i))\n",
        "\t\tnames += [('var%d(t-%d)' % (j+1, i)) for j in range(n_vars)]\n",
        "\t# forecast sequence (t, t+1, ... t+n)\n",
        "\tfor i in range(0, n_out):\n",
        "\t\tcols.append(dff.shift(-i))\n",
        "\t\tif i == 0:\n",
        "\t\t\tnames += [('var%d(t)' % (j+1)) for j in range(n_vars)]\n",
        "\t\telse:\n",
        "\t\t\tnames += [('var%d(t+%d)' % (j+1, i)) for j in range(n_vars)]\n",
        "\t# put it all together\n",
        "\tagg = pd.concat(cols, axis=1)\n",
        "\tagg.columns = names\n",
        "\t# drop rows with NaN values\n",
        "\tif dropnan:\n",
        "\t\tagg.dropna(inplace=True)\n",
        "\treturn agg\n"
      ],
      "execution_count": 0,
      "outputs": []
    },
    {
      "metadata": {
        "id": "IkcGoAvC1tjj",
        "colab_type": "text"
      },
      "cell_type": "markdown",
      "source": [
        "### Resample to Every Hour"
      ]
    },
    {
      "metadata": {
        "id": "hLDOwQXI1xNz",
        "colab_type": "code",
        "outputId": "2c05dac7-5d2a-49a9-84fd-cae476e886d2",
        "colab": {
          "base_uri": "https://localhost:8080/",
          "height": 54
        }
      },
      "cell_type": "code",
      "source": [
        "print('Original ', df.shape )\n",
        "df_resample = df.resample('h').mean() \n",
        "print('Resample ' ,df_resample.shape)\n",
        "\n"
      ],
      "execution_count": 8,
      "outputs": [
        {
          "output_type": "stream",
          "text": [
            "Original  (501847, 23)\n",
            "Resample  (8784, 23)\n"
          ],
          "name": "stdout"
        }
      ]
    },
    {
      "metadata": {
        "id": "EmrFRhU81jJb",
        "colab_type": "text"
      },
      "cell_type": "markdown",
      "source": [
        "### Preprocess\n"
      ]
    },
    {
      "metadata": {
        "id": "bhYJvC8SytHL",
        "colab_type": "code",
        "outputId": "b0471d84-85d2-4393-baa1-16a2935adc26",
        "colab": {
          "base_uri": "https://localhost:8080/",
          "height": 54
        }
      },
      "cell_type": "code",
      "source": [
        "print('Original ', b[11].shape )\n",
        "m12h = b[11].resample('h').mean() \n",
        "print('Resample ' ,m12h.shape)\n"
      ],
      "execution_count": 17,
      "outputs": [
        {
          "output_type": "stream",
          "text": [
            "Original  (41820, 23)\n",
            "Resample  (697, 23)\n"
          ],
          "name": "stdout"
        }
      ]
    },
    {
      "metadata": {
        "id": "WhD7RlC-zXda",
        "colab_type": "text"
      },
      "cell_type": "markdown",
      "source": [
        "Lets have the first 20 days as our Training data  \n",
        "and last 10 days of month for test  \n",
        "For the ease of model We just use the Total energy consumption at first"
      ]
    },
    {
      "metadata": {
        "id": "s0uCb4Jo-dWO",
        "colab_type": "code",
        "colab": {}
      },
      "cell_type": "code",
      "source": [
        "split = 24*20\n",
        "X = m12h\n",
        "X_train = m12h.iloc[:split,4:-2].values\n",
        "y_train = m12h.iloc[:split,0].values\n",
        "#Test\n",
        "X_test = m12h.iloc[split:,4:-2].values\n",
        "y_test = m12h.iloc[split:,0].values\n",
        "#X = pd.date_range(start='12/1/16', end='12/30/16',freq='h')\n",
        "\n",
        "\n",
        "#X= m12h.iloc[:,0].values\n",
        "#y= m12h.iloc[:,0].values\n",
        "y_train = m12h.iloc[:split,0].values\n",
        "y_test = m12h.iloc[split:,0].values"
      ],
      "execution_count": 0,
      "outputs": []
    },
    {
      "metadata": {
        "id": "kq8QfTBNnBF_",
        "colab_type": "code",
        "colab": {}
      },
      "cell_type": "code",
      "source": [
        "split = 24*20\n",
        "#Train\n",
        "training_set = m12h.iloc[:split,0:1].values\n",
        "test_set = m12h.iloc[split:,0:1].values\n"
      ],
      "execution_count": 0,
      "outputs": []
    },
    {
      "metadata": {
        "colab_type": "code",
        "id": "3ZIUv3MZnOhC",
        "colab": {}
      },
      "cell_type": "code",
      "source": [
        "# Scaling the training set\n",
        "sc = MinMaxScaler(feature_range=(0,1))\n",
        "training_set_scaled = sc.fit_transform(training_set)\n",
        "test_set_scaled = sc.fit_transform(test_set)"
      ],
      "execution_count": 0,
      "outputs": []
    },
    {
      "metadata": {
        "id": "HyLYnqUTQJ3o",
        "colab_type": "text"
      },
      "cell_type": "markdown",
      "source": [
        "###First feature: Time. "
      ]
    },
    {
      "metadata": {
        "colab_type": "code",
        "id": "xujTIJy_nOhE",
        "colab": {}
      },
      "cell_type": "code",
      "source": [
        "X_train = []\n",
        "y_train = []\n",
        "for i in range(24,480):\n",
        "    X_train.append(training_set_scaled[i-24:i,0])\n",
        "    y_train.append(training_set_scaled[i,0])\n",
        "X_train, y_train = np.array(X_train), np.array(y_train)\n",
        "\n",
        "X_test = []\n",
        "y_test = []\n",
        "for i in range(24,217):\n",
        "    X_test.append(test_set_scaled[i-24:i,0])\n",
        "    y_test.append(test_set_scaled[i,0])\n",
        "\n",
        "X_test, y_test = np.array(X_test), np.array(y_test)\n"
      ],
      "execution_count": 0,
      "outputs": []
    },
    {
      "metadata": {
        "colab_type": "code",
        "id": "D7o6NDw5nOhH",
        "colab": {}
      },
      "cell_type": "code",
      "source": [
        "X_train = np.reshape(X_train, (X_train.shape[0],X_train.shape[1]))"
      ],
      "execution_count": 0,
      "outputs": []
    },
    {
      "metadata": {
        "id": "wqno204R32oY",
        "colab_type": "code",
        "colab": {
          "base_uri": "https://localhost:8080/",
          "height": 0
        },
        "outputId": "b657cf46-95f8-4183-fec9-1a35c522a311"
      },
      "cell_type": "code",
      "source": [
        "import numpy as np\n",
        "import pandas as pd\n",
        "import matplotlib.pyplot as plt\n",
        "%matplotlib inline\n",
        "\n",
        "from sklearn.preprocessing import StandardScaler # for normalization\n",
        "from sklearn.preprocessing import MinMaxScaler\n",
        "from sklearn.pipeline import Pipeline # pipeline making\n",
        "from sklearn.model_selection import cross_val_score\n",
        "from sklearn.feature_selection import SelectFromModel\n",
        "from sklearn import metrics # for the check the error and accuracy of the model\n",
        "\n",
        "from keras.models import Sequential\n",
        "from keras.layers import Dense, Activation,Flatten\n",
        "from keras.layers import  Conv1D, MaxPool1D, Dense, Activation, GlobalMaxPool1D\n",
        "from keras.utils import np_utils\n",
        "from keras.layers.recurrent import LSTM\n",
        "from keras.layers.core import Dense, Activation, Dropout\n",
        "\n",
        "\n"
      ],
      "execution_count": 1,
      "outputs": [
        {
          "output_type": "stream",
          "text": [
            "Using TensorFlow backend.\n"
          ],
          "name": "stderr"
        }
      ]
    },
    {
      "metadata": {
        "id": "rdC3Mxv2B3zz",
        "colab_type": "text"
      },
      "cell_type": "markdown",
      "source": [
        "#LSTM"
      ]
    },
    {
      "metadata": {
        "id": "xoiD85mdxmll",
        "colab_type": "text"
      },
      "cell_type": "markdown",
      "source": [
        "LSTM with 100 neurons in the first visible layer\n",
        "The final output is the Energy usage \n",
        "Start"
      ]
    },
    {
      "metadata": {
        "id": "-uwz3NSZPCiJ",
        "colab_type": "text"
      },
      "cell_type": "markdown",
      "source": [
        "##LSTM Data Preparation"
      ]
    },
    {
      "metadata": {
        "id": "GAFB84UhQtMQ",
        "colab_type": "text"
      },
      "cell_type": "markdown",
      "source": [
        "Scaling:"
      ]
    },
    {
      "metadata": {
        "id": "nd6vt7ZnytSC",
        "colab_type": "code",
        "colab": {}
      },
      "cell_type": "code",
      "source": [
        "split = 24*20\n",
        "#Train\n",
        "X_train = m12h.iloc[:split,4:-2].values\n",
        "y_train = m12h.iloc[:split,0].values\n",
        "#Test\n",
        "X_test = m12h.iloc[split:,4:-2].values\n",
        "y_test = m12h.iloc[split:,0].values\n"
      ],
      "execution_count": 0,
      "outputs": []
    },
    {
      "metadata": {
        "id": "Ewkd81AJYSbe",
        "colab_type": "code",
        "outputId": "5000be40-b94d-4665-ef37-a4e21a9a6a50",
        "colab": {
          "base_uri": "https://localhost:8080/",
          "height": 54
        }
      },
      "cell_type": "code",
      "source": [
        "print('y_test:', y_test.shape)\n",
        "print('X_train:' , X_train.shape)\n"
      ],
      "execution_count": 30,
      "outputs": [
        {
          "output_type": "stream",
          "text": [
            "y_test: (217,)\n",
            "X_train: (480, 17)\n"
          ],
          "name": "stdout"
        }
      ]
    },
    {
      "metadata": {
        "id": "ji0OXcdDQZVA",
        "colab_type": "code",
        "colab": {}
      },
      "cell_type": "code",
      "source": [
        "X_train = np.reshape(X_train, (X_train.shape[0], X_train.shape[1], 1))\n",
        "X_test = np.reshape(X_test, (X_test.shape[0], X_test.shape[1], 1))\n"
      ],
      "execution_count": 0,
      "outputs": []
    },
    {
      "metadata": {
        "id": "oaod7do1TjU_",
        "colab_type": "text"
      },
      "cell_type": "markdown",
      "source": [
        "##Model:"
      ]
    },
    {
      "metadata": {
        "id": "dx_cHwCiJLGd",
        "colab_type": "code",
        "outputId": "bfbe074e-a2cd-4bae-beaa-1aa674509b89",
        "colab": {
          "base_uri": "https://localhost:8080/",
          "height": 35
        }
      },
      "cell_type": "code",
      "source": [
        "X_train.shape"
      ],
      "execution_count": 32,
      "outputs": [
        {
          "output_type": "execute_result",
          "data": {
            "text/plain": [
              "(480, 17, 1)"
            ]
          },
          "metadata": {
            "tags": []
          },
          "execution_count": 32
        }
      ]
    },
    {
      "metadata": {
        "id": "uaTAN3RUThhu",
        "colab_type": "code",
        "colab": {}
      },
      "cell_type": "code",
      "source": [
        "model = Sequential()\n",
        "layers = [1, 50,100, 1]\n"
      ],
      "execution_count": 0,
      "outputs": []
    },
    {
      "metadata": {
        "id": "gp1Bjv3RTo_2",
        "colab_type": "code",
        "outputId": "ed4f4070-b916-433e-effa-93e04ad3ed57",
        "colab": {
          "base_uri": "https://localhost:8080/",
          "height": 92
        }
      },
      "cell_type": "code",
      "source": [
        "model.add(LSTM(layers[1],input_shape=(None, layers[0]),return_sequences=True))\n",
        "model.add(Dropout(0.2))\n",
        "model.add(LSTM(layers[2],return_sequences=False))\n",
        "model.add(Dropout(0.2))\n",
        "model.add(Dense(layers[3]))\n",
        "model.add(Activation(\"linear\"))\n",
        "model.compile(loss=\"mse\", optimizer=\"rmsprop\",metrics=['accuracy'])\n"
      ],
      "execution_count": 34,
      "outputs": [
        {
          "output_type": "stream",
          "text": [
            "WARNING:tensorflow:From /usr/local/lib/python3.6/dist-packages/keras/backend/tensorflow_backend.py:3445: calling dropout (from tensorflow.python.ops.nn_ops) with keep_prob is deprecated and will be removed in a future version.\n",
            "Instructions for updating:\n",
            "Please use `rate` instead of `keep_prob`. Rate should be set to `rate = 1 - keep_prob`.\n"
          ],
          "name": "stdout"
        }
      ]
    },
    {
      "metadata": {
        "id": "KK3Ospgw-DTz",
        "colab_type": "code",
        "outputId": "958bc74c-4e87-4cfc-cbb9-32177ef34fbe",
        "colab": {
          "base_uri": "https://localhost:8080/",
          "height": 366
        }
      },
      "cell_type": "code",
      "source": [
        "model.summary()"
      ],
      "execution_count": 35,
      "outputs": [
        {
          "output_type": "stream",
          "text": [
            "_________________________________________________________________\n",
            "Layer (type)                 Output Shape              Param #   \n",
            "=================================================================\n",
            "lstm_1 (LSTM)                (None, None, 50)          10400     \n",
            "_________________________________________________________________\n",
            "dropout_1 (Dropout)          (None, None, 50)          0         \n",
            "_________________________________________________________________\n",
            "lstm_2 (LSTM)                (None, 100)               60400     \n",
            "_________________________________________________________________\n",
            "dropout_2 (Dropout)          (None, 100)               0         \n",
            "_________________________________________________________________\n",
            "dense_4 (Dense)              (None, 1)                 101       \n",
            "_________________________________________________________________\n",
            "activation_1 (Activation)    (None, 1)                 0         \n",
            "=================================================================\n",
            "Total params: 70,901\n",
            "Trainable params: 70,901\n",
            "Non-trainable params: 0\n",
            "_________________________________________________________________\n"
          ],
          "name": "stdout"
        }
      ]
    },
    {
      "metadata": {
        "id": "8kLKDySxUjne",
        "colab_type": "code",
        "colab": {}
      },
      "cell_type": "code",
      "source": [
        "epochs = 10\n"
      ],
      "execution_count": 0,
      "outputs": []
    },
    {
      "metadata": {
        "id": "id30f6ljUSgP",
        "colab_type": "code",
        "outputId": "ef306185-7a62-4c3a-ef78-692087f4515e",
        "colab": {
          "base_uri": "https://localhost:8080/",
          "height": 478
        }
      },
      "cell_type": "code",
      "source": [
        "model.fit(X_train, y_train,batch_size=16, nb_epoch=epochs, validation_split=0.05)"
      ],
      "execution_count": 37,
      "outputs": [
        {
          "output_type": "stream",
          "text": [
            "/usr/local/lib/python3.6/dist-packages/ipykernel_launcher.py:1: UserWarning: The `nb_epoch` argument in `fit` has been renamed `epochs`.\n",
            "  \"\"\"Entry point for launching an IPython kernel.\n"
          ],
          "name": "stderr"
        },
        {
          "output_type": "stream",
          "text": [
            "Train on 456 samples, validate on 24 samples\n",
            "Epoch 1/10\n",
            "456/456 [==============================] - 2s 4ms/step - loss: 1.7154 - acc: 0.0000e+00 - val_loss: 2.4487 - val_acc: 0.0000e+00\n",
            "Epoch 2/10\n",
            "456/456 [==============================] - 1s 2ms/step - loss: 1.2521 - acc: 0.0000e+00 - val_loss: 2.4033 - val_acc: 0.0000e+00\n",
            "Epoch 3/10\n",
            "456/456 [==============================] - 1s 2ms/step - loss: 1.2375 - acc: 0.0000e+00 - val_loss: 2.4933 - val_acc: 0.0000e+00\n",
            "Epoch 4/10\n",
            "456/456 [==============================] - 1s 1ms/step - loss: 1.1731 - acc: 0.0000e+00 - val_loss: 1.8438 - val_acc: 0.0000e+00\n",
            "Epoch 5/10\n",
            "456/456 [==============================] - 1s 2ms/step - loss: 1.1616 - acc: 0.0000e+00 - val_loss: 2.3013 - val_acc: 0.0000e+00\n",
            "Epoch 6/10\n",
            "456/456 [==============================] - 1s 2ms/step - loss: 1.0889 - acc: 0.0000e+00 - val_loss: 2.1253 - val_acc: 0.0000e+00\n",
            "Epoch 7/10\n",
            "456/456 [==============================] - 1s 2ms/step - loss: 1.0479 - acc: 0.0000e+00 - val_loss: 1.8490 - val_acc: 0.0000e+00\n",
            "Epoch 8/10\n",
            "456/456 [==============================] - 1s 2ms/step - loss: 1.0430 - acc: 0.0000e+00 - val_loss: 1.7910 - val_acc: 0.0000e+00\n",
            "Epoch 9/10\n",
            "456/456 [==============================] - 1s 2ms/step - loss: 1.0129 - acc: 0.0000e+00 - val_loss: 2.6392 - val_acc: 0.0000e+00\n",
            "Epoch 10/10\n",
            "456/456 [==============================] - 1s 2ms/step - loss: 1.0201 - acc: 0.0000e+00 - val_loss: 1.7423 - val_acc: 0.0000e+00\n"
          ],
          "name": "stdout"
        },
        {
          "output_type": "execute_result",
          "data": {
            "text/plain": [
              "<keras.callbacks.History at 0x7f69cb005b00>"
            ]
          },
          "metadata": {
            "tags": []
          },
          "execution_count": 37
        }
      ]
    },
    {
      "metadata": {
        "id": "tdkKNMPTUxXu",
        "colab_type": "code",
        "outputId": "1bd14137-d0b1-4311-8081-9063875cfa35",
        "colab": {
          "base_uri": "https://localhost:8080/",
          "height": 54
        }
      },
      "cell_type": "code",
      "source": [
        "prediction = model.predict(X_test)\n",
        "score = model.evaluate(X_test,y_test,verbose =0)\n",
        "print('Test Loss:', score[0])\n",
        "print('Test accuracy:' , score[1])\n"
      ],
      "execution_count": 38,
      "outputs": [
        {
          "output_type": "stream",
          "text": [
            "Test Loss: 0.7602070916083551\n",
            "Test accuracy: 0.0\n"
          ],
          "name": "stdout"
        }
      ]
    },
    {
      "metadata": {
        "id": "Mpge3kVy9nk8",
        "colab_type": "text"
      },
      "cell_type": "markdown",
      "source": [
        "###Graph"
      ]
    },
    {
      "metadata": {
        "id": "vmeorDfmUnYm",
        "colab_type": "code",
        "outputId": "eb766d56-dfee-4f71-8442-ca9c338e35b2",
        "colab": {
          "base_uri": "https://localhost:8080/",
          "height": 312
        }
      },
      "cell_type": "code",
      "source": [
        "plt.figure(1)\n",
        "plt.plot(y_test,label='true',color = 'black')\n",
        "plt.plot(prediction,label='prediction',color = 'green')\n",
        "plt.legend(loc='upper left')\n",
        "plt.title('Total Energy Consumption')\n",
        "plt.ylabel('kWh') \n",
        "plt.xlabel('Next 200 Hours')"
      ],
      "execution_count": 39,
      "outputs": [
        {
          "output_type": "execute_result",
          "data": {
            "text/plain": [
              "Text(0.5, 0, 'Next 200 Hours')"
            ]
          },
          "metadata": {
            "tags": []
          },
          "execution_count": 39
        },
        {
          "output_type": "display_data",
          "data": {
            "image/png": "[encoded data removed]",
            "text/plain": [
              "<Figure size 432x288 with 1 Axes>"
            ]
          },
          "metadata": {
            "tags": []
          }
        }
      ]
    },
    {
      "metadata": {
        "id": "bVirjO4w8sNF",
        "colab_type": "text"
      },
      "cell_type": "markdown",
      "source": [
        "Since the goal of this research is about prediction under uncertainty.  "
      ]
    },
    {
      "metadata": {
        "id": "whIHDbsojf0m",
        "colab_type": "code",
        "colab": {}
      },
      "cell_type": "code",
      "source": [
        "split = 24*20\n",
        "#Train\n",
        "X_train = m12h.iloc[:split,1:15].values\n",
        "y_train = m12h.iloc[:split,0].values\n",
        "#Test\n",
        "X_test = m12h.iloc[split:,1:15].values\n",
        "y_test = m12h.iloc[split:,0].values\n"
      ],
      "execution_count": 0,
      "outputs": []
    },
    {
      "metadata": {
        "id": "cjjGk0hrjwly",
        "colab_type": "code",
        "outputId": "e5aa0adb-5f17-4f7b-d03d-cd43cae3614e",
        "colab": {
          "base_uri": "https://localhost:8080/",
          "height": 35
        }
      },
      "cell_type": "code",
      "source": [
        "weather.shape"
      ],
      "execution_count": 41,
      "outputs": [
        {
          "output_type": "execute_result",
          "data": {
            "text/plain": [
              "(8760, 13)"
            ]
          },
          "metadata": {
            "tags": []
          },
          "execution_count": 41
        }
      ]
    },
    {
      "metadata": {
        "id": "px2FOgsDldpl",
        "colab_type": "code",
        "outputId": "755a846b-16c1-45b5-93b6-4920fd4e4203",
        "colab": {
          "base_uri": "https://localhost:8080/",
          "height": 35
        }
      },
      "cell_type": "code",
      "source": [
        "X_train.shape[0]"
      ],
      "execution_count": 42,
      "outputs": [
        {
          "output_type": "execute_result",
          "data": {
            "text/plain": [
              "480"
            ]
          },
          "metadata": {
            "tags": []
          },
          "execution_count": 42
        }
      ]
    },
    {
      "metadata": {
        "id": "0mZ46dHTkHM2",
        "colab_type": "code",
        "colab": {}
      },
      "cell_type": "code",
      "source": [
        "X_train_Weather = weather[-X_train.shape[0]:]\n",
        "split = 24*20\n",
        "#Train\n",
        "X_train = m12h.iloc[:split,1:].values\n",
        "y_train = m12h.iloc[:split,0].values\n",
        "#Test\n",
        "X_test = m12h.iloc[split:,1:].values\n",
        "y_test = m12h.iloc[split:,0].values\n"
      ],
      "execution_count": 0,
      "outputs": []
    },
    {
      "metadata": {
        "id": "NkConeDgr7wu",
        "colab_type": "text"
      },
      "cell_type": "markdown",
      "source": [
        "## Pure time series model: No features"
      ]
    },
    {
      "metadata": {
        "id": "_sZcADSO2C3P",
        "colab_type": "text"
      },
      "cell_type": "markdown",
      "source": [
        "This would be our base model. Without any features at first. There will be only the one input layer containing the last hour Energy Consumption   \n",
        "And the goal of this model is to predict the following 10 days energy consumption solely based on the time"
      ]
    },
    {
      "metadata": {
        "id": "KiJMEKSm2QgI",
        "colab_type": "text"
      },
      "cell_type": "markdown",
      "source": [
        "We will not "
      ]
    },
    {
      "metadata": {
        "id": "6R8LBqwj3epW",
        "colab_type": "code",
        "colab": {}
      },
      "cell_type": "code",
      "source": [
        "split = 24*20\n",
        "#Train\n",
        "training_set = m12h.iloc[:split,1:2].values\n",
        "test_set = m12h.iloc[split:,1:2].values\n"
      ],
      "execution_count": 0,
      "outputs": []
    },
    {
      "metadata": {
        "id": "n9CSXGvd5LLk",
        "colab_type": "code",
        "outputId": "45a4a247-fba0-4a20-bacf-076a49ea03c3",
        "colab": {
          "base_uri": "https://localhost:8080/",
          "height": 35
        }
      },
      "cell_type": "code",
      "source": [
        "training_set[0]"
      ],
      "execution_count": 0,
      "outputs": [
        {
          "output_type": "execute_result",
          "data": {
            "text/plain": [
              "array([0.00958722])"
            ]
          },
          "metadata": {
            "tags": []
          },
          "execution_count": 90
        }
      ]
    },
    {
      "metadata": {
        "id": "EiS8J7VD44y1",
        "colab_type": "text"
      },
      "cell_type": "markdown",
      "source": [
        "Lets see what it looks like:"
      ]
    },
    {
      "metadata": {
        "id": "Hm7zhyRllZ8Z",
        "colab_type": "code",
        "outputId": "78b1734b-1b8f-457e-e902-e21059716670",
        "colab": {
          "base_uri": "https://localhost:8080/",
          "height": 349
        }
      },
      "cell_type": "code",
      "source": [
        "m12h[\"Usage [kW]\"][:split].plot(figsize=(16,4),legend=True)\n",
        "m12h[\"Usage [kW]\"][split:].plot(figsize=(16,4),legend=True)\n",
        "plt.legend(['Training set (First 20 days)','Test set (Last 10 days)'])\n",
        "plt.title('Energy Consumption')\n",
        "plt.show()"
      ],
      "execution_count": 0,
      "outputs": [
        {
          "output_type": "display_data",
          "data": {
            "image/png": "[encoded data removed]",
            "text/plain": [
              "<Figure size 1152x288 with 1 Axes>"
            ]
          },
          "metadata": {
            "tags": []
          }
        }
      ]
    },
    {
      "metadata": {
        "id": "f9RfS33u4_V9",
        "colab_type": "code",
        "colab": {}
      },
      "cell_type": "code",
      "source": [
        "# Scaling the training set\n",
        "sc = MinMaxScaler(feature_range=(0,1))\n",
        "training_set_scaled = sc.fit_transform(training_set)"
      ],
      "execution_count": 0,
      "outputs": []
    },
    {
      "metadata": {
        "id": "52AeYKyt4fRW",
        "colab_type": "text"
      },
      "cell_type": "markdown",
      "source": [
        "Since LSTMs store long term memory state, we create a data structure with 60 timesteps and 1 output   \n",
        "So for each element of training set, we have 60 previous training set elements \n"
      ]
    },
    {
      "metadata": {
        "id": "icXA4iT95dId",
        "colab_type": "code",
        "colab": {}
      },
      "cell_type": "code",
      "source": [
        "X_train = []\n",
        "y_train = []\n",
        "for i in range(80,480):\n",
        "    X_train.append(training_set_scaled[i-80:i,0])\n",
        "    y_train.append(training_set_scaled[i,0])\n",
        "X_train, y_train = np.array(X_train), np.array(y_train)"
      ],
      "execution_count": 0,
      "outputs": []
    },
    {
      "metadata": {
        "id": "2QH3fcTY5iNF",
        "colab_type": "code",
        "colab": {}
      },
      "cell_type": "code",
      "source": [
        "X_train = np.reshape(X_train, (X_train.shape[0],X_train.shape[1],1))"
      ],
      "execution_count": 0,
      "outputs": []
    },
    {
      "metadata": {
        "id": "GzRmnaaR5kud",
        "colab_type": "code",
        "outputId": "8e84f24a-d5d4-49b3-bfe0-1ecec9ecfdc7",
        "colab": {
          "base_uri": "https://localhost:8080/",
          "height": 321
        }
      },
      "cell_type": "code",
      "source": [
        "# The LSTM architecture\n",
        "regressor = Sequential()\n",
        "# First LSTM layer with Dropout regularisation\n",
        "regressor.add(LSTM(units=50, return_sequences=True, input_shape=(X_train.shape[1],1)))\n",
        "regressor.add(Dropout(0.2))\n",
        "# Second LSTM layer\n",
        "regressor.add(LSTM(units=50, return_sequences=True))\n",
        "regressor.add(Dropout(0.2))\n",
        "# Third LSTM layer\n",
        "regressor.add(LSTM(units=50, return_sequences=True))\n",
        "regressor.add(Dropout(0.2))\n",
        "# Fourth LSTM layer\n",
        "regressor.add(LSTM(units=50))\n",
        "regressor.add(Dropout(0.2))\n",
        "# The output layer\n",
        "regressor.add(Dense(units=1))\n",
        "\n",
        "# Compiling the RNN\n",
        "regressor.compile(optimizer='rmsprop',loss='mean_squared_error')\n",
        "# Fitting to the training set\n",
        "regressor.fit(X_train,y_train,epochs=8,batch_size=32)"
      ],
      "execution_count": 0,
      "outputs": [
        {
          "output_type": "stream",
          "text": [
            "Epoch 1/8\n",
            "400/400 [==============================] - 5s 13ms/step - loss: 0.0609\n",
            "Epoch 2/8\n",
            "400/400 [==============================] - 3s 6ms/step - loss: 0.0528\n",
            "Epoch 3/8\n",
            "400/400 [==============================] - 3s 6ms/step - loss: 0.0486\n",
            "Epoch 4/8\n",
            "400/400 [==============================] - 3s 6ms/step - loss: 0.0461\n",
            "Epoch 5/8\n",
            "400/400 [==============================] - 3s 6ms/step - loss: 0.0429\n",
            "Epoch 6/8\n",
            "400/400 [==============================] - 3s 6ms/step - loss: 0.0436\n",
            "Epoch 7/8\n",
            "400/400 [==============================] - 3s 6ms/step - loss: 0.0401\n",
            "Epoch 8/8\n",
            "400/400 [==============================] - 3s 6ms/step - loss: 0.0391\n"
          ],
          "name": "stdout"
        },
        {
          "output_type": "execute_result",
          "data": {
            "text/plain": [
              "<keras.callbacks.History at 0x7fc26216ec88>"
            ]
          },
          "metadata": {
            "tags": []
          },
          "execution_count": 95
        }
      ]
    },
    {
      "metadata": {
        "id": "pQ-hbH6056yT",
        "colab_type": "code",
        "colab": {}
      },
      "cell_type": "code",
      "source": [
        "dataset_total = pd.concat((m12h[\"Usage [kW]\"][:split],m12h[\"Usage [kW]\"][split:]),axis=0)\n",
        "inputs = dataset_total[len(dataset_total)-len(test_set) - 80:].values\n",
        "inputs = inputs.reshape(-1,1)\n",
        "inputs  = sc.transform(inputs)\n"
      ],
      "execution_count": 0,
      "outputs": []
    },
    {
      "metadata": {
        "id": "Y8n_tcfQ6G19",
        "colab_type": "code",
        "colab": {}
      },
      "cell_type": "code",
      "source": [
        "X_test = []\n",
        "for i in range(80,278):\n",
        "    X_test.append(inputs[i-80:i,0])\n",
        "X_test = np.array(X_test)\n",
        "X_test = np.reshape(X_test, (X_test.shape[0],X_test.shape[1],1))\n",
        "predicted_stock_price = regressor.predict(X_test)\n",
        "predicted_stock_price = sc.inverse_transform(predicted_stock_price)"
      ],
      "execution_count": 0,
      "outputs": []
    },
    {
      "metadata": {
        "id": "ZJq92E4M6mwj",
        "colab_type": "code",
        "outputId": "4fb470ad-817e-43ce-8c71-32eaa26fd8a1",
        "colab": {
          "base_uri": "https://localhost:8080/",
          "height": 312
        }
      },
      "cell_type": "code",
      "source": [
        "plt.figure(1)\n",
        "plt.plot(test_set,label='true',color = 'black')\n",
        "plt.plot(predicted_stock_price,label='prediction',color = 'green')\n",
        "plt.legend(loc='upper left')\n",
        "plt.title('Total Energy Consumption')\n",
        "plt.ylabel('kWh') \n",
        "plt.xlabel('Next 200 Hours')"
      ],
      "execution_count": 0,
      "outputs": [
        {
          "output_type": "execute_result",
          "data": {
            "text/plain": [
              "Text(0.5, 0, 'Next 200 Hours')"
            ]
          },
          "metadata": {
            "tags": []
          },
          "execution_count": 98
        },
        {
          "output_type": "display_data",
          "data": {
            "image/png": "[encoded data removed]",
            "text/plain": [
              "<Figure size 432x288 with 1 Axes>"
            ]
          },
          "metadata": {
            "tags": []
          }
        }
      ]
    },
    {
      "metadata": {
        "colab_type": "text",
        "id": "ID_EHoYo9wN7"
      },
      "cell_type": "markdown",
      "source": [
        "###Graph"
      ]
    },
    {
      "metadata": {
        "colab_type": "code",
        "id": "NTJrfYeX-lec",
        "colab": {}
      },
      "cell_type": "code",
      "source": [
        "dataset_total = pd.concat((m12h[\"Usage [kW]\"][:split],m12h[\"Usage [kW]\"][split:]),axis=0)\n",
        "inputs = dataset_total[len(dataset_total)-len(test_set) - 80:].values\n",
        "inputs = inputs.reshape(-1,1)\n",
        "inputs  = sc.transform(inputs)\n"
      ],
      "execution_count": 0,
      "outputs": []
    },
    {
      "metadata": {
        "colab_type": "code",
        "id": "bGlcS6BN-led",
        "colab": {}
      },
      "cell_type": "code",
      "source": [
        "X_test = []\n",
        "for i in range(80,278):\n",
        "    X_test.append(inputs[i-80:i,0])\n",
        "X_test = np.array(X_test)\n",
        "X_test = np.reshape(X_test, (X_test.shape[0],X_test.shape[1],1))\n",
        "predicted_stock_price = regressor.predict(X_test)\n",
        "predicted_stock_price = sc.inverse_transform(predicted_stock_price)"
      ],
      "execution_count": 0,
      "outputs": []
    },
    {
      "metadata": {
        "colab_type": "code",
        "outputId": "72ec1e2b-dc31-4f67-c741-7af14904fcde",
        "id": "ZCXo1M7X-lee",
        "colab": {
          "base_uri": "https://localhost:8080/",
          "height": 312
        }
      },
      "cell_type": "code",
      "source": [
        "plt.figure(1)\n",
        "plt.plot(test_set,label='true',color = 'black')\n",
        "plt.plot(predicted_stock_price,label='prediction',color = 'green')\n",
        "plt.legend(loc='upper left')\n",
        "plt.title('Total Energy Consumption')\n",
        "plt.ylabel('kWh') \n",
        "plt.xlabel('Next 200 Hours')"
      ],
      "execution_count": 0,
      "outputs": [
        {
          "output_type": "execute_result",
          "data": {
            "text/plain": [
              "Text(0.5, 0, 'Next 200 Hours')"
            ]
          },
          "metadata": {
            "tags": []
          },
          "execution_count": 109
        },
        {
          "output_type": "display_data",
          "data": {
            "image/png": "[encoded data removed]",
            "text/plain": [
              "<Figure size 432x288 with 1 Axes>"
            ]
          },
          "metadata": {
            "tags": []
          }
        }
      ]
    },
    {
      "metadata": {
        "id": "fSGHQ2l7yYnC",
        "colab_type": "text"
      },
      "cell_type": "markdown",
      "source": [
        "# DNN:"
      ]
    },
    {
      "metadata": {
        "id": "36tuF5Ul_i--",
        "colab_type": "code",
        "outputId": "e410f5da-d16e-491f-c515-1277c3a9bc1f",
        "colab": {
          "base_uri": "https://localhost:8080/",
          "height": 202
        }
      },
      "cell_type": "code",
      "source": [
        "model = Sequential()\n",
        "model.add(Dense(output_dim = 20, init = 'uniform', activation = 'relu', input_dim = 24))\n",
        "model.add(Dense(output_dim = 35, init = 'uniform', activation = 'relu'))\n",
        "model.add(Dense(output_dim = 1, init = 'uniform', activation = 'linear'))"
      ],
      "execution_count": 23,
      "outputs": [
        {
          "output_type": "stream",
          "text": [
            "WARNING:tensorflow:From /usr/local/lib/python3.6/dist-packages/tensorflow/python/framework/op_def_library.py:263: colocate_with (from tensorflow.python.framework.ops) is deprecated and will be removed in a future version.\n",
            "Instructions for updating:\n",
            "Colocations handled automatically by placer.\n"
          ],
          "name": "stdout"
        },
        {
          "output_type": "stream",
          "text": [
            "/usr/local/lib/python3.6/dist-packages/ipykernel_launcher.py:2: UserWarning: Update your `Dense` call to the Keras 2 API: `Dense(activation=\"relu\", input_dim=24, units=20, kernel_initializer=\"uniform\")`\n",
            "  \n",
            "/usr/local/lib/python3.6/dist-packages/ipykernel_launcher.py:3: UserWarning: Update your `Dense` call to the Keras 2 API: `Dense(activation=\"relu\", units=35, kernel_initializer=\"uniform\")`\n",
            "  This is separate from the ipykernel package so we can avoid doing imports until\n",
            "/usr/local/lib/python3.6/dist-packages/ipykernel_launcher.py:4: UserWarning: Update your `Dense` call to the Keras 2 API: `Dense(activation=\"linear\", units=1, kernel_initializer=\"uniform\")`\n",
            "  after removing the cwd from sys.path.\n"
          ],
          "name": "stderr"
        }
      ]
    },
    {
      "metadata": {
        "id": "JLyOTOlH_m8_",
        "colab_type": "code",
        "colab": {}
      },
      "cell_type": "code",
      "source": [
        "model.compile(optimizer = 'adam', loss = 'mean_absolute_error', metrics = ['mean_absolute_error'])\n"
      ],
      "execution_count": 0,
      "outputs": []
    },
    {
      "metadata": {
        "id": "iltt_cZn_o0I",
        "colab_type": "code",
        "outputId": "f8a9be92-c126-4b61-ab4a-d15bb582ad7b",
        "colab": {
          "base_uri": "https://localhost:8080/",
          "height": 515
        }
      },
      "cell_type": "code",
      "source": [
        "model.fit(X_train, y_train, batch_size = 6, nb_epoch = 10, shuffle=0)\n"
      ],
      "execution_count": 25,
      "outputs": [
        {
          "output_type": "stream",
          "text": [
            "WARNING:tensorflow:From /usr/local/lib/python3.6/dist-packages/tensorflow/python/ops/math_ops.py:3066: to_int32 (from tensorflow.python.ops.math_ops) is deprecated and will be removed in a future version.\n",
            "Instructions for updating:\n",
            "Use tf.cast instead.\n"
          ],
          "name": "stdout"
        },
        {
          "output_type": "stream",
          "text": [
            "/usr/local/lib/python3.6/dist-packages/ipykernel_launcher.py:1: UserWarning: The `nb_epoch` argument in `fit` has been renamed `epochs`.\n",
            "  \"\"\"Entry point for launching an IPython kernel.\n"
          ],
          "name": "stderr"
        },
        {
          "output_type": "stream",
          "text": [
            "Epoch 1/10\n",
            "456/456 [==============================] - 1s 1ms/step - loss: 0.1439 - mean_absolute_error: 0.1439\n",
            "Epoch 2/10\n",
            "456/456 [==============================] - 0s 201us/step - loss: 0.1205 - mean_absolute_error: 0.1205\n",
            "Epoch 3/10\n",
            "456/456 [==============================] - 0s 213us/step - loss: 0.1117 - mean_absolute_error: 0.1117\n",
            "Epoch 4/10\n",
            "456/456 [==============================] - 0s 222us/step - loss: 0.1038 - mean_absolute_error: 0.1038\n",
            "Epoch 5/10\n",
            "456/456 [==============================] - 0s 218us/step - loss: 0.0995 - mean_absolute_error: 0.0995\n",
            "Epoch 6/10\n",
            "456/456 [==============================] - 0s 217us/step - loss: 0.0952 - mean_absolute_error: 0.0952\n",
            "Epoch 7/10\n",
            "456/456 [==============================] - 0s 216us/step - loss: 0.0907 - mean_absolute_error: 0.0907\n",
            "Epoch 8/10\n",
            "456/456 [==============================] - 0s 206us/step - loss: 0.0866 - mean_absolute_error: 0.0866\n",
            "Epoch 9/10\n",
            "456/456 [==============================] - 0s 199us/step - loss: 0.0832 - mean_absolute_error: 0.0832\n",
            "Epoch 10/10\n",
            "456/456 [==============================] - 0s 222us/step - loss: 0.0806 - mean_absolute_error: 0.0806\n"
          ],
          "name": "stdout"
        },
        {
          "output_type": "execute_result",
          "data": {
            "text/plain": [
              "<keras.callbacks.History at 0x7f69c99f7860>"
            ]
          },
          "metadata": {
            "tags": []
          },
          "execution_count": 25
        }
      ]
    },
    {
      "metadata": {
        "id": "PDn9Yi-Y_qSD",
        "colab_type": "code",
        "outputId": "206575d0-4420-47ca-d2d5-b398d4168577",
        "colab": {
          "base_uri": "https://localhost:8080/",
          "height": 54
        }
      },
      "cell_type": "code",
      "source": [
        "prediction = model.predict(X_test)\n",
        "score = model.evaluate(X_test,y_test,verbose =0)\n",
        "print('Test Loss:', score[0])\n",
        "print('Test accuracy:' , score[1])\n",
        "prediction = sc.inverse_transform(prediction)\n"
      ],
      "execution_count": 26,
      "outputs": [
        {
          "output_type": "stream",
          "text": [
            "Test Loss: 0.08752291406374521\n",
            "Test accuracy: 0.08752291406374521\n"
          ],
          "name": "stdout"
        }
      ]
    },
    {
      "metadata": {
        "colab_type": "code",
        "outputId": "bd9ebb26-178c-417e-f44b-960bcb489b5d",
        "id": "tplIfokmrbnY",
        "colab": {
          "base_uri": "https://localhost:8080/",
          "height": 312
        }
      },
      "cell_type": "code",
      "source": [
        "plt.figure(1)\n",
        "plt.plot(test_set[:120],label='true',color = 'black')\n",
        "plt.plot(prediction,label='prediction',color = 'green')\n",
        "plt.legend(loc='upper left')\n",
        "plt.title('Total Energy Consumption')\n",
        "plt.ylabel('kWh') \n",
        "plt.xlabel('120 Hour Prediction  ')"
      ],
      "execution_count": 27,
      "outputs": [
        {
          "output_type": "execute_result",
          "data": {
            "text/plain": [
              "Text(0.5, 0, '120 Hour Prediction  ')"
            ]
          },
          "metadata": {
            "tags": []
          },
          "execution_count": 27
        },
        {
          "output_type": "display_data",
          "data": {
            "image/png": "[encoded data removed]",
            "text/plain": [
              "<Figure size 432x288 with 1 Axes>"
            ]
          },
          "metadata": {
            "tags": []
          }
        }
      ]
    },
    {
      "metadata": {
        "colab_type": "code",
        "id": "xmDxjMTCqxyw",
        "colab": {}
      },
      "cell_type": "code",
      "source": [
        "dataset_total = pd.concat((m12h[\"Usage [kW]\"][:split],m12h[\"Usage [kW]\"][split:]),axis=0)\n",
        "inputs = dataset_total[len(dataset_total)-len(test_set) - 80:].values\n",
        "inputs = inputs.reshape(-1,1)\n",
        "inputs  = sc.transform(inputs)\n"
      ],
      "execution_count": 0,
      "outputs": []
    }
  ]
}